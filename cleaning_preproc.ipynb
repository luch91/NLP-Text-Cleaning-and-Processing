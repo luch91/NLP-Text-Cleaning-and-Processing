{
 "cells": [
  {
   "cell_type": "markdown",
   "metadata": {},
   "source": [
    "## Text cleaning and Preprocessing"
   ]
  },
  {
   "cell_type": "code",
   "execution_count": 1,
   "metadata": {},
   "outputs": [
    {
     "name": "stdout",
     "output_type": "stream",
     "text": [
      "Requirement already satisfied: spacy in c:\\users\\user\\miniconda3\\lib\\site-packages (3.7.2)\n",
      "Requirement already satisfied: spacy-legacy<3.1.0,>=3.0.11 in c:\\users\\user\\miniconda3\\lib\\site-packages (from spacy) (3.0.12)\n",
      "Requirement already satisfied: spacy-loggers<2.0.0,>=1.0.0 in c:\\users\\user\\miniconda3\\lib\\site-packages (from spacy) (1.0.5)\n",
      "Requirement already satisfied: murmurhash<1.1.0,>=0.28.0 in c:\\users\\user\\miniconda3\\lib\\site-packages (from spacy) (1.0.10)\n",
      "Requirement already satisfied: cymem<2.1.0,>=2.0.2 in c:\\users\\user\\miniconda3\\lib\\site-packages (from spacy) (2.0.8)\n",
      "Requirement already satisfied: preshed<3.1.0,>=3.0.2 in c:\\users\\user\\miniconda3\\lib\\site-packages (from spacy) (3.0.9)\n",
      "Requirement already satisfied: thinc<8.3.0,>=8.1.8 in c:\\users\\user\\miniconda3\\lib\\site-packages (from spacy) (8.2.1)\n",
      "Requirement already satisfied: wasabi<1.2.0,>=0.9.1 in c:\\users\\user\\miniconda3\\lib\\site-packages (from spacy) (1.1.2)\n",
      "Requirement already satisfied: srsly<3.0.0,>=2.4.3 in c:\\users\\user\\miniconda3\\lib\\site-packages (from spacy) (2.4.8)\n",
      "Requirement already satisfied: catalogue<2.1.0,>=2.0.6 in c:\\users\\user\\miniconda3\\lib\\site-packages (from spacy) (2.0.10)\n",
      "Requirement already satisfied: weasel<0.4.0,>=0.1.0 in c:\\users\\user\\miniconda3\\lib\\site-packages (from spacy) (0.3.4)\n",
      "Requirement already satisfied: typer<0.10.0,>=0.3.0 in c:\\users\\user\\miniconda3\\lib\\site-packages (from spacy) (0.9.0)\n",
      "Requirement already satisfied: smart-open<7.0.0,>=5.2.1 in c:\\users\\user\\miniconda3\\lib\\site-packages (from spacy) (6.4.0)\n",
      "Requirement already satisfied: tqdm<5.0.0,>=4.38.0 in c:\\users\\user\\miniconda3\\lib\\site-packages (from spacy) (4.65.0)\n",
      "Requirement already satisfied: requests<3.0.0,>=2.13.0 in c:\\users\\user\\miniconda3\\lib\\site-packages (from spacy) (2.29.0)\n",
      "Requirement already satisfied: pydantic!=1.8,!=1.8.1,<3.0.0,>=1.7.4 in c:\\users\\user\\miniconda3\\lib\\site-packages (from spacy) (2.5.2)\n",
      "Requirement already satisfied: jinja2 in c:\\users\\user\\miniconda3\\lib\\site-packages (from spacy) (3.1.2)\n",
      "Requirement already satisfied: setuptools in c:\\users\\user\\miniconda3\\lib\\site-packages (from spacy) (67.8.0)\n",
      "Requirement already satisfied: packaging>=20.0 in c:\\users\\user\\miniconda3\\lib\\site-packages (from spacy) (23.0)\n",
      "Requirement already satisfied: langcodes<4.0.0,>=3.2.0 in c:\\users\\user\\miniconda3\\lib\\site-packages (from spacy) (3.3.0)\n",
      "Requirement already satisfied: numpy>=1.19.0 in c:\\users\\user\\miniconda3\\lib\\site-packages (from spacy) (1.26.0)\n",
      "Requirement already satisfied: annotated-types>=0.4.0 in c:\\users\\user\\miniconda3\\lib\\site-packages (from pydantic!=1.8,!=1.8.1,<3.0.0,>=1.7.4->spacy) (0.6.0)\n",
      "Requirement already satisfied: pydantic-core==2.14.5 in c:\\users\\user\\miniconda3\\lib\\site-packages (from pydantic!=1.8,!=1.8.1,<3.0.0,>=1.7.4->spacy) (2.14.5)\n",
      "Requirement already satisfied: typing-extensions>=4.6.1 in c:\\users\\user\\miniconda3\\lib\\site-packages (from pydantic!=1.8,!=1.8.1,<3.0.0,>=1.7.4->spacy) (4.7.1)\n",
      "Requirement already satisfied: charset-normalizer<4,>=2 in c:\\users\\user\\miniconda3\\lib\\site-packages (from requests<3.0.0,>=2.13.0->spacy) (2.0.4)\n",
      "Requirement already satisfied: idna<4,>=2.5 in c:\\users\\user\\miniconda3\\lib\\site-packages (from requests<3.0.0,>=2.13.0->spacy) (3.4)\n",
      "Requirement already satisfied: urllib3<1.27,>=1.21.1 in c:\\users\\user\\miniconda3\\lib\\site-packages (from requests<3.0.0,>=2.13.0->spacy) (1.26.16)\n",
      "Requirement already satisfied: certifi>=2017.4.17 in c:\\users\\user\\miniconda3\\lib\\site-packages (from requests<3.0.0,>=2.13.0->spacy) (2023.7.22)\n",
      "Requirement already satisfied: blis<0.8.0,>=0.7.8 in c:\\users\\user\\miniconda3\\lib\\site-packages (from thinc<8.3.0,>=8.1.8->spacy) (0.7.11)\n",
      "Requirement already satisfied: confection<1.0.0,>=0.0.1 in c:\\users\\user\\miniconda3\\lib\\site-packages (from thinc<8.3.0,>=8.1.8->spacy) (0.1.4)\n",
      "Requirement already satisfied: colorama in c:\\users\\user\\miniconda3\\lib\\site-packages (from tqdm<5.0.0,>=4.38.0->spacy) (0.4.6)\n",
      "Requirement already satisfied: click<9.0.0,>=7.1.1 in c:\\users\\user\\miniconda3\\lib\\site-packages (from typer<0.10.0,>=0.3.0->spacy) (8.1.7)\n",
      "Requirement already satisfied: cloudpathlib<0.17.0,>=0.7.0 in c:\\users\\user\\miniconda3\\lib\\site-packages (from weasel<0.4.0,>=0.1.0->spacy) (0.16.0)\n",
      "Requirement already satisfied: MarkupSafe>=2.0 in c:\\users\\user\\miniconda3\\lib\\site-packages (from jinja2->spacy) (2.1.1)\n",
      "Note: you may need to restart the kernel to use updated packages.\n"
     ]
    }
   ],
   "source": [
    "pip install spacy"
   ]
  },
  {
   "cell_type": "code",
   "execution_count": 2,
   "metadata": {},
   "outputs": [],
   "source": [
    "import pandas as pd\n",
    "import numpy as np\n",
    "import spacy"
   ]
  },
  {
   "cell_type": "code",
   "execution_count": 3,
   "metadata": {},
   "outputs": [],
   "source": [
    "from spacy.lang.en.stop_words import STOP_WORDS as stopwords"
   ]
  },
  {
   "cell_type": "code",
   "execution_count": 4,
   "metadata": {},
   "outputs": [],
   "source": [
    "df = pd.read_csv('https://raw.githubusercontent.com/laxmimerit/twitter-data/master/twitter4000.csv',encoding= 'latin-1')"
   ]
  },
  {
   "cell_type": "code",
   "execution_count": 5,
   "metadata": {},
   "outputs": [
    {
     "data": {
      "text/html": [
       "<div>\n",
       "<style scoped>\n",
       "    .dataframe tbody tr th:only-of-type {\n",
       "        vertical-align: middle;\n",
       "    }\n",
       "\n",
       "    .dataframe tbody tr th {\n",
       "        vertical-align: top;\n",
       "    }\n",
       "\n",
       "    .dataframe thead th {\n",
       "        text-align: right;\n",
       "    }\n",
       "</style>\n",
       "<table border=\"1\" class=\"dataframe\">\n",
       "  <thead>\n",
       "    <tr style=\"text-align: right;\">\n",
       "      <th></th>\n",
       "      <th>twitts</th>\n",
       "      <th>sentiment</th>\n",
       "    </tr>\n",
       "  </thead>\n",
       "  <tbody>\n",
       "    <tr>\n",
       "      <th>0</th>\n",
       "      <td>is bored and wants to watch a movie  any sugge...</td>\n",
       "      <td>0</td>\n",
       "    </tr>\n",
       "    <tr>\n",
       "      <th>1</th>\n",
       "      <td>back in miami.  waiting to unboard ship</td>\n",
       "      <td>0</td>\n",
       "    </tr>\n",
       "    <tr>\n",
       "      <th>2</th>\n",
       "      <td>@misskpey awwww dnt dis brng bak memoriessss, ...</td>\n",
       "      <td>0</td>\n",
       "    </tr>\n",
       "    <tr>\n",
       "      <th>3</th>\n",
       "      <td>ughhh i am so tired  blahhhhhhhhh</td>\n",
       "      <td>0</td>\n",
       "    </tr>\n",
       "    <tr>\n",
       "      <th>4</th>\n",
       "      <td>@mandagoforth me bad! It's funny though. Zacha...</td>\n",
       "      <td>0</td>\n",
       "    </tr>\n",
       "    <tr>\n",
       "      <th>...</th>\n",
       "      <td>...</td>\n",
       "      <td>...</td>\n",
       "    </tr>\n",
       "    <tr>\n",
       "      <th>3995</th>\n",
       "      <td>i just graduated</td>\n",
       "      <td>1</td>\n",
       "    </tr>\n",
       "    <tr>\n",
       "      <th>3996</th>\n",
       "      <td>Templating works; it all has to be done</td>\n",
       "      <td>1</td>\n",
       "    </tr>\n",
       "    <tr>\n",
       "      <th>3997</th>\n",
       "      <td>mommy just brought me starbucks</td>\n",
       "      <td>1</td>\n",
       "    </tr>\n",
       "    <tr>\n",
       "      <th>3998</th>\n",
       "      <td>@omarepps watching you on a House re-run...lov...</td>\n",
       "      <td>1</td>\n",
       "    </tr>\n",
       "    <tr>\n",
       "      <th>3999</th>\n",
       "      <td>Thanks for trying to make me smile I'll make y...</td>\n",
       "      <td>1</td>\n",
       "    </tr>\n",
       "  </tbody>\n",
       "</table>\n",
       "<p>4000 rows × 2 columns</p>\n",
       "</div>"
      ],
      "text/plain": [
       "                                                 twitts  sentiment\n",
       "0     is bored and wants to watch a movie  any sugge...          0\n",
       "1              back in miami.  waiting to unboard ship           0\n",
       "2     @misskpey awwww dnt dis brng bak memoriessss, ...          0\n",
       "3                     ughhh i am so tired  blahhhhhhhhh          0\n",
       "4     @mandagoforth me bad! It's funny though. Zacha...          0\n",
       "...                                                 ...        ...\n",
       "3995                                  i just graduated           1\n",
       "3996          Templating works; it all has to be done            1\n",
       "3997                   mommy just brought me starbucks           1\n",
       "3998  @omarepps watching you on a House re-run...lov...          1\n",
       "3999  Thanks for trying to make me smile I'll make y...          1\n",
       "\n",
       "[4000 rows x 2 columns]"
      ]
     },
     "execution_count": 5,
     "metadata": {},
     "output_type": "execute_result"
    }
   ],
   "source": [
    "df"
   ]
  },
  {
   "cell_type": "code",
   "execution_count": 6,
   "metadata": {},
   "outputs": [
    {
     "data": {
      "text/plain": [
       "sentiment\n",
       "0    2000\n",
       "1    2000\n",
       "Name: count, dtype: int64"
      ]
     },
     "execution_count": 6,
     "metadata": {},
     "output_type": "execute_result"
    }
   ],
   "source": [
    "df['sentiment'].value_counts()"
   ]
  },
  {
   "cell_type": "markdown",
   "metadata": {},
   "source": [
    "### Word Counts"
   ]
  },
  {
   "cell_type": "code",
   "execution_count": 7,
   "metadata": {},
   "outputs": [],
   "source": [
    "df['word_counts'] = df['twitts'].apply(lambda x: len(str(x).split()))"
   ]
  },
  {
   "cell_type": "code",
   "execution_count": 8,
   "metadata": {},
   "outputs": [
    {
     "data": {
      "text/html": [
       "<div>\n",
       "<style scoped>\n",
       "    .dataframe tbody tr th:only-of-type {\n",
       "        vertical-align: middle;\n",
       "    }\n",
       "\n",
       "    .dataframe tbody tr th {\n",
       "        vertical-align: top;\n",
       "    }\n",
       "\n",
       "    .dataframe thead th {\n",
       "        text-align: right;\n",
       "    }\n",
       "</style>\n",
       "<table border=\"1\" class=\"dataframe\">\n",
       "  <thead>\n",
       "    <tr style=\"text-align: right;\">\n",
       "      <th></th>\n",
       "      <th>twitts</th>\n",
       "      <th>sentiment</th>\n",
       "      <th>word_counts</th>\n",
       "    </tr>\n",
       "  </thead>\n",
       "  <tbody>\n",
       "    <tr>\n",
       "      <th>3722</th>\n",
       "      <td>This is gonna be our last race, need to eat so...</td>\n",
       "      <td>1</td>\n",
       "      <td>12</td>\n",
       "    </tr>\n",
       "    <tr>\n",
       "      <th>1355</th>\n",
       "      <td>@LiesThatBlind Uh-Oh.</td>\n",
       "      <td>0</td>\n",
       "      <td>2</td>\n",
       "    </tr>\n",
       "    <tr>\n",
       "      <th>2934</th>\n",
       "      <td>she calls me uthie . and i call her ujhie . sh...</td>\n",
       "      <td>1</td>\n",
       "      <td>26</td>\n",
       "    </tr>\n",
       "    <tr>\n",
       "      <th>2716</th>\n",
       "      <td>I'm so in love with Anthony Green's voice. Go ...</td>\n",
       "      <td>1</td>\n",
       "      <td>18</td>\n",
       "    </tr>\n",
       "    <tr>\n",
       "      <th>781</th>\n",
       "      <td>awww.  i passed my 100th tweet and I didn't no...</td>\n",
       "      <td>0</td>\n",
       "      <td>10</td>\n",
       "    </tr>\n",
       "  </tbody>\n",
       "</table>\n",
       "</div>"
      ],
      "text/plain": [
       "                                                 twitts  sentiment  \\\n",
       "3722  This is gonna be our last race, need to eat so...          1   \n",
       "1355                             @LiesThatBlind Uh-Oh.           0   \n",
       "2934  she calls me uthie . and i call her ujhie . sh...          1   \n",
       "2716  I'm so in love with Anthony Green's voice. Go ...          1   \n",
       "781   awww.  i passed my 100th tweet and I didn't no...          0   \n",
       "\n",
       "      word_counts  \n",
       "3722           12  \n",
       "1355            2  \n",
       "2934           26  \n",
       "2716           18  \n",
       "781            10  "
      ]
     },
     "execution_count": 8,
     "metadata": {},
     "output_type": "execute_result"
    }
   ],
   "source": [
    "df.sample(5)"
   ]
  },
  {
   "cell_type": "code",
   "execution_count": 9,
   "metadata": {},
   "outputs": [
    {
     "data": {
      "text/plain": [
       "32"
      ]
     },
     "execution_count": 9,
     "metadata": {},
     "output_type": "execute_result"
    }
   ],
   "source": [
    "df['word_counts'].max()"
   ]
  },
  {
   "cell_type": "code",
   "execution_count": 10,
   "metadata": {},
   "outputs": [
    {
     "data": {
      "text/plain": [
       "1"
      ]
     },
     "execution_count": 10,
     "metadata": {},
     "output_type": "execute_result"
    }
   ],
   "source": [
    "df['word_counts'].min()"
   ]
  },
  {
   "cell_type": "code",
   "execution_count": 11,
   "metadata": {},
   "outputs": [
    {
     "data": {
      "text/plain": [
       "0       False\n",
       "1       False\n",
       "2       False\n",
       "3       False\n",
       "4       False\n",
       "        ...  \n",
       "3995    False\n",
       "3996    False\n",
       "3997    False\n",
       "3998    False\n",
       "3999    False\n",
       "Name: word_counts, Length: 4000, dtype: bool"
      ]
     },
     "execution_count": 11,
     "metadata": {},
     "output_type": "execute_result"
    }
   ],
   "source": [
    "df['word_counts'] == 1"
   ]
  },
  {
   "cell_type": "code",
   "execution_count": 12,
   "metadata": {},
   "outputs": [
    {
     "data": {
      "text/html": [
       "<div>\n",
       "<style scoped>\n",
       "    .dataframe tbody tr th:only-of-type {\n",
       "        vertical-align: middle;\n",
       "    }\n",
       "\n",
       "    .dataframe tbody tr th {\n",
       "        vertical-align: top;\n",
       "    }\n",
       "\n",
       "    .dataframe thead th {\n",
       "        text-align: right;\n",
       "    }\n",
       "</style>\n",
       "<table border=\"1\" class=\"dataframe\">\n",
       "  <thead>\n",
       "    <tr style=\"text-align: right;\">\n",
       "      <th></th>\n",
       "      <th>twitts</th>\n",
       "      <th>sentiment</th>\n",
       "      <th>word_counts</th>\n",
       "    </tr>\n",
       "  </thead>\n",
       "  <tbody>\n",
       "    <tr>\n",
       "      <th>385</th>\n",
       "      <td>homework</td>\n",
       "      <td>0</td>\n",
       "      <td>1</td>\n",
       "    </tr>\n",
       "    <tr>\n",
       "      <th>691</th>\n",
       "      <td>@ekrelly</td>\n",
       "      <td>0</td>\n",
       "      <td>1</td>\n",
       "    </tr>\n",
       "    <tr>\n",
       "      <th>1124</th>\n",
       "      <td>disappointed</td>\n",
       "      <td>0</td>\n",
       "      <td>1</td>\n",
       "    </tr>\n",
       "    <tr>\n",
       "      <th>1286</th>\n",
       "      <td>@officialmgnfox</td>\n",
       "      <td>0</td>\n",
       "      <td>1</td>\n",
       "    </tr>\n",
       "    <tr>\n",
       "      <th>1325</th>\n",
       "      <td>headache</td>\n",
       "      <td>0</td>\n",
       "      <td>1</td>\n",
       "    </tr>\n",
       "    <tr>\n",
       "      <th>1897</th>\n",
       "      <td>@MCRmuffin</td>\n",
       "      <td>0</td>\n",
       "      <td>1</td>\n",
       "    </tr>\n",
       "    <tr>\n",
       "      <th>2542</th>\n",
       "      <td>Graduated!</td>\n",
       "      <td>1</td>\n",
       "      <td>1</td>\n",
       "    </tr>\n",
       "    <tr>\n",
       "      <th>2947</th>\n",
       "      <td>reading</td>\n",
       "      <td>1</td>\n",
       "      <td>1</td>\n",
       "    </tr>\n",
       "    <tr>\n",
       "      <th>3176</th>\n",
       "      <td>@omeirdeleon</td>\n",
       "      <td>1</td>\n",
       "      <td>1</td>\n",
       "    </tr>\n",
       "    <tr>\n",
       "      <th>3470</th>\n",
       "      <td>www.myspace.com/myfinalthought</td>\n",
       "      <td>1</td>\n",
       "      <td>1</td>\n",
       "    </tr>\n",
       "    <tr>\n",
       "      <th>3966</th>\n",
       "      <td>@gethyp3</td>\n",
       "      <td>1</td>\n",
       "      <td>1</td>\n",
       "    </tr>\n",
       "  </tbody>\n",
       "</table>\n",
       "</div>"
      ],
      "text/plain": [
       "                               twitts  sentiment  word_counts\n",
       "385                         homework           0            1\n",
       "691                         @ekrelly           0            1\n",
       "1124                    disappointed           0            1\n",
       "1286                 @officialmgnfox           0            1\n",
       "1325                        headache           0            1\n",
       "1897                      @MCRmuffin           0            1\n",
       "2542                      Graduated!           1            1\n",
       "2947                         reading           1            1\n",
       "3176                    @omeirdeleon           1            1\n",
       "3470  www.myspace.com/myfinalthought           1            1\n",
       "3966                        @gethyp3           1            1"
      ]
     },
     "execution_count": 12,
     "metadata": {},
     "output_type": "execute_result"
    }
   ],
   "source": [
    "df[df['word_counts']==1]"
   ]
  },
  {
   "cell_type": "markdown",
   "metadata": {},
   "source": [
    "### Character Counts"
   ]
  },
  {
   "cell_type": "code",
   "execution_count": 13,
   "metadata": {},
   "outputs": [],
   "source": [
    "def char_counts(x):\n",
    "    s = x.split()\n",
    "    x = ''.join(s)\n",
    "    return len(x)"
   ]
  },
  {
   "cell_type": "code",
   "execution_count": 14,
   "metadata": {},
   "outputs": [
    {
     "data": {
      "text/plain": [
       "12"
      ]
     },
     "execution_count": 14,
     "metadata": {},
     "output_type": "execute_result"
    }
   ],
   "source": [
    "char_counts('I am wide awake')"
   ]
  },
  {
   "cell_type": "code",
   "execution_count": 15,
   "metadata": {},
   "outputs": [],
   "source": [
    "df['char_counts'] = df['twitts'].apply(lambda x: char_counts(str(x)))"
   ]
  },
  {
   "cell_type": "code",
   "execution_count": 16,
   "metadata": {},
   "outputs": [
    {
     "data": {
      "text/html": [
       "<div>\n",
       "<style scoped>\n",
       "    .dataframe tbody tr th:only-of-type {\n",
       "        vertical-align: middle;\n",
       "    }\n",
       "\n",
       "    .dataframe tbody tr th {\n",
       "        vertical-align: top;\n",
       "    }\n",
       "\n",
       "    .dataframe thead th {\n",
       "        text-align: right;\n",
       "    }\n",
       "</style>\n",
       "<table border=\"1\" class=\"dataframe\">\n",
       "  <thead>\n",
       "    <tr style=\"text-align: right;\">\n",
       "      <th></th>\n",
       "      <th>twitts</th>\n",
       "      <th>sentiment</th>\n",
       "      <th>word_counts</th>\n",
       "      <th>char_counts</th>\n",
       "    </tr>\n",
       "  </thead>\n",
       "  <tbody>\n",
       "    <tr>\n",
       "      <th>3977</th>\n",
       "      <td>Five minutes.....and counting....</td>\n",
       "      <td>1</td>\n",
       "      <td>3</td>\n",
       "      <td>31</td>\n",
       "    </tr>\n",
       "    <tr>\n",
       "      <th>3058</th>\n",
       "      <td>Enjoying a cold beer after a hard days work</td>\n",
       "      <td>1</td>\n",
       "      <td>9</td>\n",
       "      <td>35</td>\n",
       "    </tr>\n",
       "    <tr>\n",
       "      <th>789</th>\n",
       "      <td>49 more days.      oh, and Happy Fathers Day i...</td>\n",
       "      <td>0</td>\n",
       "      <td>17</td>\n",
       "      <td>71</td>\n",
       "    </tr>\n",
       "    <tr>\n",
       "      <th>1537</th>\n",
       "      <td>@adamarmsup  &amp;lt;3 you Adam.</td>\n",
       "      <td>0</td>\n",
       "      <td>4</td>\n",
       "      <td>24</td>\n",
       "    </tr>\n",
       "    <tr>\n",
       "      <th>3304</th>\n",
       "      <td>@kevinwweaver he could seriously learn a thing...</td>\n",
       "      <td>1</td>\n",
       "      <td>12</td>\n",
       "      <td>60</td>\n",
       "    </tr>\n",
       "  </tbody>\n",
       "</table>\n",
       "</div>"
      ],
      "text/plain": [
       "                                                 twitts  sentiment  \\\n",
       "3977                 Five minutes.....and counting....           1   \n",
       "3058       Enjoying a cold beer after a hard days work           1   \n",
       "789   49 more days.      oh, and Happy Fathers Day i...          0   \n",
       "1537                       @adamarmsup  &lt;3 you Adam.          0   \n",
       "3304  @kevinwweaver he could seriously learn a thing...          1   \n",
       "\n",
       "      word_counts  char_counts  \n",
       "3977            3           31  \n",
       "3058            9           35  \n",
       "789            17           71  \n",
       "1537            4           24  \n",
       "3304           12           60  "
      ]
     },
     "execution_count": 16,
     "metadata": {},
     "output_type": "execute_result"
    }
   ],
   "source": [
    "df.sample(5)"
   ]
  },
  {
   "cell_type": "markdown",
   "metadata": {},
   "source": [
    "### Average Word Length"
   ]
  },
  {
   "cell_type": "code",
   "execution_count": 17,
   "metadata": {},
   "outputs": [],
   "source": [
    "df['avg_word_len'] = df['char_counts']/df['word_counts']"
   ]
  },
  {
   "cell_type": "code",
   "execution_count": 18,
   "metadata": {},
   "outputs": [
    {
     "data": {
      "text/html": [
       "<div>\n",
       "<style scoped>\n",
       "    .dataframe tbody tr th:only-of-type {\n",
       "        vertical-align: middle;\n",
       "    }\n",
       "\n",
       "    .dataframe tbody tr th {\n",
       "        vertical-align: top;\n",
       "    }\n",
       "\n",
       "    .dataframe thead th {\n",
       "        text-align: right;\n",
       "    }\n",
       "</style>\n",
       "<table border=\"1\" class=\"dataframe\">\n",
       "  <thead>\n",
       "    <tr style=\"text-align: right;\">\n",
       "      <th></th>\n",
       "      <th>twitts</th>\n",
       "      <th>sentiment</th>\n",
       "      <th>word_counts</th>\n",
       "      <th>char_counts</th>\n",
       "      <th>avg_word_len</th>\n",
       "    </tr>\n",
       "  </thead>\n",
       "  <tbody>\n",
       "    <tr>\n",
       "      <th>697</th>\n",
       "      <td>Bedtime. I've got a shitload of laundry to do ...</td>\n",
       "      <td>0</td>\n",
       "      <td>10</td>\n",
       "      <td>45</td>\n",
       "      <td>4.500000</td>\n",
       "    </tr>\n",
       "    <tr>\n",
       "      <th>19</th>\n",
       "      <td>@KimberleyMtkg Hey there! No can do!  Travelin...</td>\n",
       "      <td>0</td>\n",
       "      <td>18</td>\n",
       "      <td>81</td>\n",
       "      <td>4.500000</td>\n",
       "    </tr>\n",
       "    <tr>\n",
       "      <th>1884</th>\n",
       "      <td>so much homework.</td>\n",
       "      <td>0</td>\n",
       "      <td>3</td>\n",
       "      <td>15</td>\n",
       "      <td>5.000000</td>\n",
       "    </tr>\n",
       "    <tr>\n",
       "      <th>2258</th>\n",
       "      <td>Sitting in my couch and looking out the window...</td>\n",
       "      <td>1</td>\n",
       "      <td>22</td>\n",
       "      <td>80</td>\n",
       "      <td>3.636364</td>\n",
       "    </tr>\n",
       "    <tr>\n",
       "      <th>3973</th>\n",
       "      <td>@Navinesh still waiting for mine   I may need ...</td>\n",
       "      <td>1</td>\n",
       "      <td>14</td>\n",
       "      <td>53</td>\n",
       "      <td>3.785714</td>\n",
       "    </tr>\n",
       "  </tbody>\n",
       "</table>\n",
       "</div>"
      ],
      "text/plain": [
       "                                                 twitts  sentiment  \\\n",
       "697   Bedtime. I've got a shitload of laundry to do ...          0   \n",
       "19    @KimberleyMtkg Hey there! No can do!  Travelin...          0   \n",
       "1884                                 so much homework.           0   \n",
       "2258  Sitting in my couch and looking out the window...          1   \n",
       "3973  @Navinesh still waiting for mine   I may need ...          1   \n",
       "\n",
       "      word_counts  char_counts  avg_word_len  \n",
       "697            10           45      4.500000  \n",
       "19             18           81      4.500000  \n",
       "1884            3           15      5.000000  \n",
       "2258           22           80      3.636364  \n",
       "3973           14           53      3.785714  "
      ]
     },
     "execution_count": 18,
     "metadata": {},
     "output_type": "execute_result"
    }
   ],
   "source": [
    "df.sample(5)"
   ]
  },
  {
   "cell_type": "markdown",
   "metadata": {},
   "source": [
    "### Stop Words Count"
   ]
  },
  {
   "cell_type": "code",
   "execution_count": 19,
   "metadata": {},
   "outputs": [
    {
     "name": "stdout",
     "output_type": "stream",
     "text": [
      "{'may', 'that', 'various', 'beforehand', 'sixty', '’ll', 'eleven', 'elsewhere', 'again', 'further', 'throughout', 'neither', 're', 'ten', 'twelve', 'some', \"'ll\", 'bottom', 'become', 'about', 'among', 'because', 'nine', 'over', 'last', 'quite', 'if', 'take', 'call', 'less', 'this', 'meanwhile', 'whom', 'across', 'since', 'wherein', 'beside', 'is', 'onto', 'any', 'give', 'i', 'through', 'wherever', 'what', '‘s', 'his', \"'ve\", 'too', 'always', 'cannot', 'after', 'enough', 'front', 'anything', \"'d\", 'anyhow', 'yourselves', 'put', 'using', 'around', 'itself', 'mine', 'via', 'thereafter', 'beyond', 'six', 'please', 'therein', 'back', 'yours', 'have', \"'s\", 'per', 'every', 'above', '’re', 'third', 'did', 'so', \"'m\", 'often', 'thru', 'very', 'your', 'both', 'myself', 'ours', 'many', 'somewhere', 'sometimes', 'few', 'no', 'moreover', 'indeed', 'none', 'noone', 'those', 'anyway', 'doing', 'most', 'never', 'sometime', 'can', 'nothing', 'could', 'latterly', 'whatever', 'has', 'thereby', 'me', 'first', 'formerly', 'but', 'here', 'to', 'behind', '‘ll', 'whose', 'hereupon', 'really', 'already', 'at', 'fifty', 'though', 'seems', 'there', 'during', 'might', 'besides', \"n't\", 'either', 'themselves', 'by', 'hereby', 'much', 'we', 'somehow', 'him', 'been', 'regarding', 'nevertheless', 'hers', 'when', 'amount', 'former', 'will', 'or', 'would', 'therefore', 'hence', 'another', 'everything', '’s', 'between', 'of', '’m', 'anywhere', 'even', 'due', 'several', 'up', 'within', 'once', '‘d', 'our', 'until', 'each', '’d', 'next', 'fifteen', 'made', 'same', 'in', 'were', 'latter', 'afterwards', 'do', 'such', 'whereupon', 'should', 'an', 'go', 'down', 'these', 'five', 'anyone', 'becoming', 'almost', \"'re\", 'thus', 'one', 'below', 'whenever', 'however', 'move', 'well', 'whereafter', 'other', 'also', 'now', '‘m', 'herein', 'off', 'toward', 'namely', 'say', 'not', 'a', 'part', 'others', 'seemed', 'be', 'unless', 'its', 'something', 'all', 'seem', 'see', 'are', 'used', 'side', 'against', 'n‘t', 'hereafter', 'hundred', 'ourselves', 'get', 'whoever', 'am', 'why', 'nobody', 'forty', 'ever', 'was', 'show', 'least', 'twenty', 'them', 'ca', 'whence', 'herself', 'else', 'out', 'make', 'yourself', 'nowhere', 'two', 'own', 'had', 'her', 'except', '‘ve', 'became', 'it', 'serious', 'whither', 'rather', 'just', 'everyone', 'before', 'for', 'where', 'as', 'they', 'perhaps', 'becomes', '’ve', 'himself', 'although', 'seeming', 'top', 'keep', 'name', 'and', 'their', 'mostly', 'with', 'empty', 'yet', 'the', 'together', 'which', 'still', 'only', 'alone', 'without', 'how', 'whereby', 'my', 'everywhere', 'three', 'you', 'amongst', 'n’t', 'along', 'under', 'someone', 'who', 'he', 'otherwise', 'four', '‘re', 'thereupon', 'full', 'whole', 'into', 'us', 'being', 'more', 'upon', 'while', 'must', 'nor', 'than', 'done', 'she', 'whereas', 'whether', 'then', 'towards', 'does', 'eight', 'from', 'thence', 'on'}\n"
     ]
    }
   ],
   "source": [
    "print(stopwords)"
   ]
  },
  {
   "cell_type": "code",
   "execution_count": 20,
   "metadata": {},
   "outputs": [
    {
     "data": {
      "text/plain": [
       "326"
      ]
     },
     "execution_count": 20,
     "metadata": {},
     "output_type": "execute_result"
    }
   ],
   "source": [
    "len(stopwords)"
   ]
  },
  {
   "cell_type": "code",
   "execution_count": 21,
   "metadata": {},
   "outputs": [],
   "source": [
    "df['stop_words_len'] = df['twitts'].apply(lambda x: len([t for t in x.split() if t in stopwords]))"
   ]
  },
  {
   "cell_type": "markdown",
   "metadata": {},
   "source": [
    "### #Hashtags and @Mentions Count"
   ]
  },
  {
   "cell_type": "code",
   "execution_count": 22,
   "metadata": {},
   "outputs": [],
   "source": [
    "# [t for t in x.split() if t.starstwith('#')]"
   ]
  },
  {
   "cell_type": "code",
   "execution_count": 23,
   "metadata": {},
   "outputs": [],
   "source": [
    "df['hashtags_count'] = df['twitts'].apply(lambda x: len([t for t in x.split() if t.startswith('#')]))"
   ]
  },
  {
   "cell_type": "code",
   "execution_count": 24,
   "metadata": {},
   "outputs": [],
   "source": [
    "df['mentions_count'] = df['twitts'].apply(lambda x: len([t for t in x.split() if t.startswith('@')]))"
   ]
  },
  {
   "cell_type": "code",
   "execution_count": 25,
   "metadata": {},
   "outputs": [
    {
     "data": {
      "text/html": [
       "<div>\n",
       "<style scoped>\n",
       "    .dataframe tbody tr th:only-of-type {\n",
       "        vertical-align: middle;\n",
       "    }\n",
       "\n",
       "    .dataframe tbody tr th {\n",
       "        vertical-align: top;\n",
       "    }\n",
       "\n",
       "    .dataframe thead th {\n",
       "        text-align: right;\n",
       "    }\n",
       "</style>\n",
       "<table border=\"1\" class=\"dataframe\">\n",
       "  <thead>\n",
       "    <tr style=\"text-align: right;\">\n",
       "      <th></th>\n",
       "      <th>twitts</th>\n",
       "      <th>sentiment</th>\n",
       "      <th>word_counts</th>\n",
       "      <th>char_counts</th>\n",
       "      <th>avg_word_len</th>\n",
       "      <th>stop_words_len</th>\n",
       "      <th>hashtags_count</th>\n",
       "      <th>mentions_count</th>\n",
       "    </tr>\n",
       "  </thead>\n",
       "  <tbody>\n",
       "    <tr>\n",
       "      <th>186</th>\n",
       "      <td>catching up on some tv. i miss dvr</td>\n",
       "      <td>0</td>\n",
       "      <td>8</td>\n",
       "      <td>27</td>\n",
       "      <td>3.375000</td>\n",
       "      <td>4</td>\n",
       "      <td>0</td>\n",
       "      <td>0</td>\n",
       "    </tr>\n",
       "    <tr>\n",
       "      <th>2773</th>\n",
       "      <td>@tehkseven @Cali_Breezy, Yea. I can confirm th...</td>\n",
       "      <td>1</td>\n",
       "      <td>19</td>\n",
       "      <td>97</td>\n",
       "      <td>5.105263</td>\n",
       "      <td>6</td>\n",
       "      <td>0</td>\n",
       "      <td>2</td>\n",
       "    </tr>\n",
       "    <tr>\n",
       "      <th>534</th>\n",
       "      <td>cleaning the house! doesn't that sound like su...</td>\n",
       "      <td>0</td>\n",
       "      <td>9</td>\n",
       "      <td>49</td>\n",
       "      <td>5.444444</td>\n",
       "      <td>2</td>\n",
       "      <td>0</td>\n",
       "      <td>0</td>\n",
       "    </tr>\n",
       "    <tr>\n",
       "      <th>3026</th>\n",
       "      <td>Heading back to the R.C. tomorrow.  Great vaca...</td>\n",
       "      <td>1</td>\n",
       "      <td>8</td>\n",
       "      <td>43</td>\n",
       "      <td>5.375000</td>\n",
       "      <td>3</td>\n",
       "      <td>0</td>\n",
       "      <td>0</td>\n",
       "    </tr>\n",
       "    <tr>\n",
       "      <th>1417</th>\n",
       "      <td>Several beers turned into a lot of beers and n...</td>\n",
       "      <td>0</td>\n",
       "      <td>14</td>\n",
       "      <td>54</td>\n",
       "      <td>3.857143</td>\n",
       "      <td>5</td>\n",
       "      <td>0</td>\n",
       "      <td>0</td>\n",
       "    </tr>\n",
       "  </tbody>\n",
       "</table>\n",
       "</div>"
      ],
      "text/plain": [
       "                                                 twitts  sentiment  \\\n",
       "186                 catching up on some tv. i miss dvr           0   \n",
       "2773  @tehkseven @Cali_Breezy, Yea. I can confirm th...          1   \n",
       "534   cleaning the house! doesn't that sound like su...          0   \n",
       "3026  Heading back to the R.C. tomorrow.  Great vaca...          1   \n",
       "1417  Several beers turned into a lot of beers and n...          0   \n",
       "\n",
       "      word_counts  char_counts  avg_word_len  stop_words_len  hashtags_count  \\\n",
       "186             8           27      3.375000               4               0   \n",
       "2773           19           97      5.105263               6               0   \n",
       "534             9           49      5.444444               2               0   \n",
       "3026            8           43      5.375000               3               0   \n",
       "1417           14           54      3.857143               5               0   \n",
       "\n",
       "      mentions_count  \n",
       "186                0  \n",
       "2773               2  \n",
       "534                0  \n",
       "3026               0  \n",
       "1417               0  "
      ]
     },
     "execution_count": 25,
     "metadata": {},
     "output_type": "execute_result"
    }
   ],
   "source": [
    "df.sample(5)"
   ]
  },
  {
   "cell_type": "markdown",
   "metadata": {},
   "source": [
    "### Numeric Digits Count"
   ]
  },
  {
   "cell_type": "code",
   "execution_count": 26,
   "metadata": {},
   "outputs": [
    {
     "data": {
      "text/plain": [
       "['this', 'is', '1', 'and', '2']"
      ]
     },
     "execution_count": 26,
     "metadata": {},
     "output_type": "execute_result"
    }
   ],
   "source": [
    "x = 'this is 1 and 2'\n",
    "x.split()"
   ]
  },
  {
   "cell_type": "code",
   "execution_count": 27,
   "metadata": {},
   "outputs": [
    {
     "data": {
      "text/plain": [
       "True"
      ]
     },
     "execution_count": 27,
     "metadata": {},
     "output_type": "execute_result"
    }
   ],
   "source": [
    "x.split()[4].isdigit()"
   ]
  },
  {
   "cell_type": "code",
   "execution_count": 28,
   "metadata": {},
   "outputs": [
    {
     "data": {
      "text/plain": [
       "['1', '2']"
      ]
     },
     "execution_count": 28,
     "metadata": {},
     "output_type": "execute_result"
    }
   ],
   "source": [
    "[t for t in x.split() if t.isdigit()]"
   ]
  },
  {
   "cell_type": "code",
   "execution_count": 29,
   "metadata": {},
   "outputs": [],
   "source": [
    "df['numeric_count'] = df['twitts'].apply(lambda x : len([t for t in x.split() if t.isdigit()]))"
   ]
  },
  {
   "cell_type": "code",
   "execution_count": 30,
   "metadata": {},
   "outputs": [
    {
     "data": {
      "text/html": [
       "<div>\n",
       "<style scoped>\n",
       "    .dataframe tbody tr th:only-of-type {\n",
       "        vertical-align: middle;\n",
       "    }\n",
       "\n",
       "    .dataframe tbody tr th {\n",
       "        vertical-align: top;\n",
       "    }\n",
       "\n",
       "    .dataframe thead th {\n",
       "        text-align: right;\n",
       "    }\n",
       "</style>\n",
       "<table border=\"1\" class=\"dataframe\">\n",
       "  <thead>\n",
       "    <tr style=\"text-align: right;\">\n",
       "      <th></th>\n",
       "      <th>twitts</th>\n",
       "      <th>sentiment</th>\n",
       "      <th>word_counts</th>\n",
       "      <th>char_counts</th>\n",
       "      <th>avg_word_len</th>\n",
       "      <th>stop_words_len</th>\n",
       "      <th>hashtags_count</th>\n",
       "      <th>mentions_count</th>\n",
       "      <th>numeric_count</th>\n",
       "    </tr>\n",
       "  </thead>\n",
       "  <tbody>\n",
       "    <tr>\n",
       "      <th>739</th>\n",
       "      <td>I also could really use a nap.</td>\n",
       "      <td>0</td>\n",
       "      <td>7</td>\n",
       "      <td>24</td>\n",
       "      <td>3.428571</td>\n",
       "      <td>4</td>\n",
       "      <td>0</td>\n",
       "      <td>0</td>\n",
       "      <td>0</td>\n",
       "    </tr>\n",
       "    <tr>\n",
       "      <th>366</th>\n",
       "      <td>Yep, its official......I dont feel well.</td>\n",
       "      <td>0</td>\n",
       "      <td>6</td>\n",
       "      <td>35</td>\n",
       "      <td>5.833333</td>\n",
       "      <td>1</td>\n",
       "      <td>0</td>\n",
       "      <td>0</td>\n",
       "      <td>0</td>\n",
       "    </tr>\n",
       "    <tr>\n",
       "      <th>35</th>\n",
       "      <td>I was rollin' up Prince Ave, heard all the sir...</td>\n",
       "      <td>0</td>\n",
       "      <td>17</td>\n",
       "      <td>69</td>\n",
       "      <td>4.058824</td>\n",
       "      <td>7</td>\n",
       "      <td>0</td>\n",
       "      <td>0</td>\n",
       "      <td>0</td>\n",
       "    </tr>\n",
       "    <tr>\n",
       "      <th>1482</th>\n",
       "      <td>@sablevenus Lol. I don't even bother. Sad times.</td>\n",
       "      <td>0</td>\n",
       "      <td>8</td>\n",
       "      <td>41</td>\n",
       "      <td>5.125000</td>\n",
       "      <td>1</td>\n",
       "      <td>0</td>\n",
       "      <td>1</td>\n",
       "      <td>0</td>\n",
       "    </tr>\n",
       "    <tr>\n",
       "      <th>3594</th>\n",
       "      <td>@pdurham uh oh, now you have to be nice.</td>\n",
       "      <td>1</td>\n",
       "      <td>9</td>\n",
       "      <td>32</td>\n",
       "      <td>3.555556</td>\n",
       "      <td>5</td>\n",
       "      <td>0</td>\n",
       "      <td>1</td>\n",
       "      <td>0</td>\n",
       "    </tr>\n",
       "  </tbody>\n",
       "</table>\n",
       "</div>"
      ],
      "text/plain": [
       "                                                 twitts  sentiment  \\\n",
       "739                     I also could really use a nap.           0   \n",
       "366          Yep, its official......I dont feel well.            0   \n",
       "35    I was rollin' up Prince Ave, heard all the sir...          0   \n",
       "1482  @sablevenus Lol. I don't even bother. Sad times.           0   \n",
       "3594          @pdurham uh oh, now you have to be nice.           1   \n",
       "\n",
       "      word_counts  char_counts  avg_word_len  stop_words_len  hashtags_count  \\\n",
       "739             7           24      3.428571               4               0   \n",
       "366             6           35      5.833333               1               0   \n",
       "35             17           69      4.058824               7               0   \n",
       "1482            8           41      5.125000               1               0   \n",
       "3594            9           32      3.555556               5               0   \n",
       "\n",
       "      mentions_count  numeric_count  \n",
       "739                0              0  \n",
       "366                0              0  \n",
       "35                 0              0  \n",
       "1482               1              0  \n",
       "3594               1              0  "
      ]
     },
     "execution_count": 30,
     "metadata": {},
     "output_type": "execute_result"
    }
   ],
   "source": [
    "df.sample(5)"
   ]
  },
  {
   "cell_type": "markdown",
   "metadata": {},
   "source": [
    "### Upper Case Words Count"
   ]
  },
  {
   "cell_type": "code",
   "execution_count": 31,
   "metadata": {},
   "outputs": [],
   "source": [
    "x = \"I GOT THE JOB\"\n",
    "y = \"I got the job\""
   ]
  },
  {
   "cell_type": "code",
   "execution_count": 32,
   "metadata": {},
   "outputs": [
    {
     "data": {
      "text/plain": [
       "['I', 'GOT', 'THE', 'JOB']"
      ]
     },
     "execution_count": 32,
     "metadata": {},
     "output_type": "execute_result"
    }
   ],
   "source": [
    "[t for t in x.split() if t.isupper()]"
   ]
  },
  {
   "cell_type": "code",
   "execution_count": 33,
   "metadata": {},
   "outputs": [
    {
     "data": {
      "text/plain": [
       "['I']"
      ]
     },
     "execution_count": 33,
     "metadata": {},
     "output_type": "execute_result"
    }
   ],
   "source": [
    "[t for t in y.split() if t.isupper()]"
   ]
  },
  {
   "cell_type": "code",
   "execution_count": 34,
   "metadata": {},
   "outputs": [],
   "source": [
    "df['upper_count'] = df['twitts'].apply(lambda x: len([t for t in x.split() if t.isupper()]))"
   ]
  },
  {
   "cell_type": "code",
   "execution_count": 35,
   "metadata": {},
   "outputs": [
    {
     "data": {
      "text/html": [
       "<div>\n",
       "<style scoped>\n",
       "    .dataframe tbody tr th:only-of-type {\n",
       "        vertical-align: middle;\n",
       "    }\n",
       "\n",
       "    .dataframe tbody tr th {\n",
       "        vertical-align: top;\n",
       "    }\n",
       "\n",
       "    .dataframe thead th {\n",
       "        text-align: right;\n",
       "    }\n",
       "</style>\n",
       "<table border=\"1\" class=\"dataframe\">\n",
       "  <thead>\n",
       "    <tr style=\"text-align: right;\">\n",
       "      <th></th>\n",
       "      <th>twitts</th>\n",
       "      <th>sentiment</th>\n",
       "      <th>word_counts</th>\n",
       "      <th>char_counts</th>\n",
       "      <th>avg_word_len</th>\n",
       "      <th>stop_words_len</th>\n",
       "      <th>hashtags_count</th>\n",
       "      <th>mentions_count</th>\n",
       "      <th>numeric_count</th>\n",
       "      <th>upper_count</th>\n",
       "    </tr>\n",
       "  </thead>\n",
       "  <tbody>\n",
       "    <tr>\n",
       "      <th>1694</th>\n",
       "      <td>Boarded my flight but forgot my QC3s</td>\n",
       "      <td>0</td>\n",
       "      <td>7</td>\n",
       "      <td>30</td>\n",
       "      <td>4.285714</td>\n",
       "      <td>3</td>\n",
       "      <td>0</td>\n",
       "      <td>0</td>\n",
       "      <td>0</td>\n",
       "      <td>0</td>\n",
       "    </tr>\n",
       "    <tr>\n",
       "      <th>1446</th>\n",
       "      <td>i'm missing my wife at the MTV Movie Awards!! ...</td>\n",
       "      <td>0</td>\n",
       "      <td>19</td>\n",
       "      <td>80</td>\n",
       "      <td>4.210526</td>\n",
       "      <td>7</td>\n",
       "      <td>0</td>\n",
       "      <td>0</td>\n",
       "      <td>0</td>\n",
       "      <td>1</td>\n",
       "    </tr>\n",
       "    <tr>\n",
       "      <th>3020</th>\n",
       "      <td>@Jonasbrothers prob have to be 'fly with me' i...</td>\n",
       "      <td>1</td>\n",
       "      <td>10</td>\n",
       "      <td>48</td>\n",
       "      <td>4.800000</td>\n",
       "      <td>4</td>\n",
       "      <td>0</td>\n",
       "      <td>1</td>\n",
       "      <td>0</td>\n",
       "      <td>0</td>\n",
       "    </tr>\n",
       "    <tr>\n",
       "      <th>1001</th>\n",
       "      <td>Stayed in the garden all day and didnt tan, Bu...</td>\n",
       "      <td>0</td>\n",
       "      <td>26</td>\n",
       "      <td>98</td>\n",
       "      <td>3.769231</td>\n",
       "      <td>12</td>\n",
       "      <td>0</td>\n",
       "      <td>0</td>\n",
       "      <td>0</td>\n",
       "      <td>0</td>\n",
       "    </tr>\n",
       "    <tr>\n",
       "      <th>2119</th>\n",
       "      <td>@MetsMerized it was kind of funny late last ni...</td>\n",
       "      <td>1</td>\n",
       "      <td>20</td>\n",
       "      <td>93</td>\n",
       "      <td>4.650000</td>\n",
       "      <td>8</td>\n",
       "      <td>0</td>\n",
       "      <td>1</td>\n",
       "      <td>0</td>\n",
       "      <td>0</td>\n",
       "    </tr>\n",
       "  </tbody>\n",
       "</table>\n",
       "</div>"
      ],
      "text/plain": [
       "                                                 twitts  sentiment  \\\n",
       "1694              Boarded my flight but forgot my QC3s           0   \n",
       "1446  i'm missing my wife at the MTV Movie Awards!! ...          0   \n",
       "3020  @Jonasbrothers prob have to be 'fly with me' i...          1   \n",
       "1001  Stayed in the garden all day and didnt tan, Bu...          0   \n",
       "2119  @MetsMerized it was kind of funny late last ni...          1   \n",
       "\n",
       "      word_counts  char_counts  avg_word_len  stop_words_len  hashtags_count  \\\n",
       "1694            7           30      4.285714               3               0   \n",
       "1446           19           80      4.210526               7               0   \n",
       "3020           10           48      4.800000               4               0   \n",
       "1001           26           98      3.769231              12               0   \n",
       "2119           20           93      4.650000               8               0   \n",
       "\n",
       "      mentions_count  numeric_count  upper_count  \n",
       "1694               0              0            0  \n",
       "1446               0              0            1  \n",
       "3020               1              0            0  \n",
       "1001               0              0            0  \n",
       "2119               1              0            0  "
      ]
     },
     "execution_count": 35,
     "metadata": {},
     "output_type": "execute_result"
    }
   ],
   "source": [
    "df.sample(5)"
   ]
  },
  {
   "cell_type": "code",
   "execution_count": 36,
   "metadata": {},
   "outputs": [
    {
     "data": {
      "text/plain": [
       "\"Hear it's raining in SF  Oh well, we will probably go the the Eagle for beer bust anyway.\""
      ]
     },
     "execution_count": 36,
     "metadata": {},
     "output_type": "execute_result"
    }
   ],
   "source": [
    "df.iloc[483]['twitts']"
   ]
  },
  {
   "cell_type": "markdown",
   "metadata": {},
   "source": [
    "### Lower Case Conversion"
   ]
  },
  {
   "cell_type": "code",
   "execution_count": 37,
   "metadata": {},
   "outputs": [],
   "source": [
    "df['twitts'] = df['twitts'].apply(lambda x: str(x).lower())"
   ]
  },
  {
   "cell_type": "code",
   "execution_count": 38,
   "metadata": {},
   "outputs": [
    {
     "data": {
      "text/html": [
       "<div>\n",
       "<style scoped>\n",
       "    .dataframe tbody tr th:only-of-type {\n",
       "        vertical-align: middle;\n",
       "    }\n",
       "\n",
       "    .dataframe tbody tr th {\n",
       "        vertical-align: top;\n",
       "    }\n",
       "\n",
       "    .dataframe thead th {\n",
       "        text-align: right;\n",
       "    }\n",
       "</style>\n",
       "<table border=\"1\" class=\"dataframe\">\n",
       "  <thead>\n",
       "    <tr style=\"text-align: right;\">\n",
       "      <th></th>\n",
       "      <th>twitts</th>\n",
       "      <th>sentiment</th>\n",
       "      <th>word_counts</th>\n",
       "      <th>char_counts</th>\n",
       "      <th>avg_word_len</th>\n",
       "      <th>stop_words_len</th>\n",
       "      <th>hashtags_count</th>\n",
       "      <th>mentions_count</th>\n",
       "      <th>numeric_count</th>\n",
       "      <th>upper_count</th>\n",
       "    </tr>\n",
       "  </thead>\n",
       "  <tbody>\n",
       "    <tr>\n",
       "      <th>998</th>\n",
       "      <td>@respectmileyc i stil want to! but have u hear...</td>\n",
       "      <td>0</td>\n",
       "      <td>25</td>\n",
       "      <td>106</td>\n",
       "      <td>4.240000</td>\n",
       "      <td>10</td>\n",
       "      <td>0</td>\n",
       "      <td>1</td>\n",
       "      <td>0</td>\n",
       "      <td>1</td>\n",
       "    </tr>\n",
       "    <tr>\n",
       "      <th>3259</th>\n",
       "      <td>oops i mean the software update comes on wedne...</td>\n",
       "      <td>1</td>\n",
       "      <td>24</td>\n",
       "      <td>108</td>\n",
       "      <td>4.500000</td>\n",
       "      <td>7</td>\n",
       "      <td>0</td>\n",
       "      <td>0</td>\n",
       "      <td>0</td>\n",
       "      <td>2</td>\n",
       "    </tr>\n",
       "    <tr>\n",
       "      <th>659</th>\n",
       "      <td>headed to the hospital for surgery. which mean...</td>\n",
       "      <td>0</td>\n",
       "      <td>14</td>\n",
       "      <td>66</td>\n",
       "      <td>4.714286</td>\n",
       "      <td>4</td>\n",
       "      <td>0</td>\n",
       "      <td>0</td>\n",
       "      <td>0</td>\n",
       "      <td>0</td>\n",
       "    </tr>\n",
       "    <tr>\n",
       "      <th>2664</th>\n",
       "      <td>@jesse236 yeah...just got it. today...</td>\n",
       "      <td>1</td>\n",
       "      <td>5</td>\n",
       "      <td>34</td>\n",
       "      <td>6.800000</td>\n",
       "      <td>0</td>\n",
       "      <td>0</td>\n",
       "      <td>1</td>\n",
       "      <td>0</td>\n",
       "      <td>0</td>\n",
       "    </tr>\n",
       "    <tr>\n",
       "      <th>2541</th>\n",
       "      <td>i'm off to pick up a package from the post off...</td>\n",
       "      <td>1</td>\n",
       "      <td>23</td>\n",
       "      <td>82</td>\n",
       "      <td>3.565217</td>\n",
       "      <td>10</td>\n",
       "      <td>0</td>\n",
       "      <td>0</td>\n",
       "      <td>0</td>\n",
       "      <td>2</td>\n",
       "    </tr>\n",
       "  </tbody>\n",
       "</table>\n",
       "</div>"
      ],
      "text/plain": [
       "                                                 twitts  sentiment  \\\n",
       "998   @respectmileyc i stil want to! but have u hear...          0   \n",
       "3259  oops i mean the software update comes on wedne...          1   \n",
       "659   headed to the hospital for surgery. which mean...          0   \n",
       "2664            @jesse236 yeah...just got it. today...           1   \n",
       "2541  i'm off to pick up a package from the post off...          1   \n",
       "\n",
       "      word_counts  char_counts  avg_word_len  stop_words_len  hashtags_count  \\\n",
       "998            25          106      4.240000              10               0   \n",
       "3259           24          108      4.500000               7               0   \n",
       "659            14           66      4.714286               4               0   \n",
       "2664            5           34      6.800000               0               0   \n",
       "2541           23           82      3.565217              10               0   \n",
       "\n",
       "      mentions_count  numeric_count  upper_count  \n",
       "998                1              0            1  \n",
       "3259               0              0            2  \n",
       "659                0              0            0  \n",
       "2664               1              0            0  \n",
       "2541               0              0            2  "
      ]
     },
     "execution_count": 38,
     "metadata": {},
     "output_type": "execute_result"
    }
   ],
   "source": [
    "df.sample(5)"
   ]
  },
  {
   "cell_type": "markdown",
   "metadata": {},
   "source": [
    "## Contraction to Expansion"
   ]
  },
  {
   "cell_type": "code",
   "execution_count": 39,
   "metadata": {},
   "outputs": [],
   "source": [
    "# x = \"don't shouldn't, i'll \"  # do not should not i will"
   ]
  },
  {
   "cell_type": "code",
   "execution_count": null,
   "metadata": {},
   "outputs": [],
   "source": [
    "pip install contractions"
   ]
  },
  {
   "cell_type": "code",
   "execution_count": 41,
   "metadata": {},
   "outputs": [],
   "source": [
    "import contractions"
   ]
  },
  {
   "cell_type": "code",
   "execution_count": 42,
   "metadata": {},
   "outputs": [],
   "source": [
    "custom_contractions = {\n",
    "\"a’ight\": \"alright\",\n",
    "\"ain’t\" : \"i am not\",\n",
    "\"amn’t\": \"am not\",\n",
    "\"arencha\" : \"are not you\",\n",
    "\"aren’t\": \"are not\",\n",
    "\"’bout\": \"about\",\n",
    "\"boy's\": \"boy has\",\n",
    "\"can’t\": \"cannot\",\n",
    "\"cap’n\": \"captain\",\n",
    "\"’cause\" : \"because\",\n",
    "\"cuz\": \"because\",\n",
    "\"’cept\": \"except\",\n",
    "\"could’ve\": \"could have\",\n",
    "\"couldn’t\": \"could not\",\n",
    "\"couldn’t’ve\" :\t\"could not have\",\n",
    "\"cuppa\" : \"cup of\",\n",
    "\"daren’t\" : \"dare not\",\n",
    "\"daresn’t\" : \"dare not\",\n",
    "\"dasn’t\" : \"dare not\",\n",
    "\"didn’t\": \"did not\",\n",
    "\"doesn't\": \"does not\",\n",
    "\"don’t\": \"do not\",\n",
    "\"dunno\"\t: \"do not know\",\n",
    "\"d’ye\" : \"do you\",\n",
    "\"d’ya\": \"did you\",\n",
    "\"e’en\":\t\"even\",\n",
    "\"e’er\": \"ever\",\n",
    "\"’em\": \"them\",\n",
    "\"everybody’s\": \"everybody is\",\n",
    "\"everyone’s\": \"everyone is\",\n",
    "\"everything's\": \"everything is\",\n",
    "\"finna\": \"fixing to\",\n",
    "\"fo’c’sle\": \"forecastle\",\n",
    "\"’gainst\" : \"against\",\n",
    "\"g’day\":\"good day\",\n",
    "\"gimme\": \"give me\",\n",
    "\"girl's\": \"girl is\",\n",
    "\"giv’n\": \"given\",\n",
    "\"gi’z\": \"give us\",\n",
    "\"gonna\":\"going to\",\n",
    "\"gon’t\": \"go not\",\n",
    "\"gotta\": \"got to\",\n",
    "\"guy's\": \"guy is\",\n",
    "\"hadn’t\" :\t\"had not\",\n",
    "\"had’ve\": \"had have\",\n",
    "\"hasn’t\": \"has not\",\n",
    "\"haven’t\":\t\"have not\",\n",
    "\"he’d\": \"he had\",\n",
    "\"he’d\": \"he would\",\n",
    "\"he'll\": \"he will\",\n",
    "\"helluva\": \"hell of a\",\n",
    "\"yes'nt\":\" yes not\",\n",
    "\"he’s \": \"he is\",\n",
    "\"here’s\": \"here is\",\n",
    "\"how’d\": \"how did\",\n",
    "\"howdy\": \"how do you do\",\n",
    "\"how’ll\": \"how shall\",\n",
    "\"how’re\": \"how are\",\n",
    "\"how’s\": \"how is\",\n",
    "\"i’d\":\t\"I would\",\n",
    "\"i’d’ve\": \"I would have\",\n",
    "\"i’d’nt\": \"I would not\",\n",
    "\"i’d’nt’ve\": \"I would not have\",\n",
    "\"if’n\": \"If and when\",\n",
    "\"i’ll\": \"I will\",\n",
    "\"i’m\": \"I am\",\n",
    "\"imma\": \"I am going to\",\n",
    "\"i’mo\": \"I am going to\",\n",
    "\"innit\": \"isn’t it\",\n",
    "\"ion\": \"I do not\",\n",
    "\"i’ve\":\t\"I have\",\n",
    "\"isn’t\":\" is not\",\n",
    "\"it’d\": \"it would\",\n",
    "\"it’ll\": \"it will\",\n",
    "\"it’s\": \"it is\",\n",
    "\"idunno\": \"I don’t know\",\n",
    "\"kinda\": \"kind of\",\n",
    "\"let’s\": \"let us\",\n",
    "\"loven’t\": \"love not\",\n",
    "\"ma’am\": \"madam\",\n",
    "\"mayn’t\": \"may not\",\n",
    "\"may’ve\": \"may have\",\n",
    "\"methinks\": \"I think\",\n",
    "\"mightn’t\": \"might not\",\n",
    "\"might’ve\": \"might have\",\n",
    "\"mine’s\": \"mine is\",\n",
    "\"mustn’t\": \"must not\",\n",
    "\"mustn’t’ve\": \"must not have\",\n",
    "\"must’ve\": \"must have\",\n",
    "\"’neath\": \"beneath\",\n",
    "\"needn’t\": \"need not\",\n",
    "\"nal\": \"and all\",\n",
    "\"ne’er\": \"never\",\n",
    "\"o’er\":\t\"over\",\n",
    "\"ol’\": \"old\",\n",
    "\"ought’ve\": \"ought have\",\n",
    "\"oughtn’t\": \"ought not\",\n",
    "\"oughtn’t’ve\": \"ought not have\",\n",
    "\"’round\": \"around\",\n",
    "\"’s\": \"is\",\n",
    "\"shan’t\": \"shall not\",\n",
    "\"she’d\": \"she would\",\n",
    "\"she’ll\": \"she will\",\n",
    "\"she’s\": \"she is\",\n",
    "\"should’ve\": \"should have\",\n",
    "\"shouldn’t\": \"should not\",\n",
    "\"shouldn’t’ve\": \"should not have\",\n",
    "\"somebody’s\" : \"somebody has\",\n",
    "\"someone’s\": \"someone is\",\n",
    "\"something’s\": \"something is\",\n",
    "\"so’re\": \"so are\",\n",
    "\"so’s\": \"so is\",\n",
    "\"so’ve\": \"so have\",\n",
    "\"that’ll\": \"that will\",\n",
    "\"that’re\": \"that are\",\n",
    "\"that’s\": \"that is\",\n",
    "\"that’d\": \"that would\",\n",
    "\"there’d\": \"there would\",\n",
    "\"there’ll\": \"there will\",\n",
    "\"there’re\": \"there are\",\n",
    "\"there’s\": \"there is\",\n",
    "\"these’re\": \"these are\",\n",
    "\"these’ve\": \"these have\",\n",
    "\"they’d\": \"they would\",\n",
    "\"they’d've\": \"they would have\",\n",
    "\"they’ll\": \"they will\",\n",
    "\"they’re\": \"they are\",\n",
    "\"they’ve\": \"they have\",\n",
    "\"this’s\": \"this is\",\n",
    "\"those’re\": \"those are\",\n",
    "\"those’ve\": \"those have\",\n",
    "\"’thout\": \"without\",\n",
    "\"’til\": \"until\",\n",
    "\"’tis\": \"it is\",\n",
    "\"to’ve\": \"to have\",\n",
    "\"tryna\": \"trying to\",\n",
    "\"’twas\": \"it was\",\n",
    "\"’tween\": \"between\",\n",
    "\"’twere\": \"it were\",\n",
    "\"w’all\": \"we all\",\n",
    "\"w’at\": \"we at\",\n",
    "\"ur\": \"your\",\n",
    "\"wanna\": \"want to\",\n",
    "\"wasn’t\": \"was not\",\n",
    "\"we’d\": \"we would\",\n",
    "\"we’d’ve\": \"we would have\",\n",
    "\"we’ll\": \"we will\",\n",
    "\"we’re\": \"we are\",\n",
    "\"we’ve\": \"we have\",\n",
    "\"weren’t\": \"were not\",\n",
    "\"whatcha\": \t\"what are you\",\n",
    "\"what’d\": \"what did\",\n",
    "\"what’ll\": \"what will\",\n",
    "\"what’re\": \t\"what are\",\n",
    "\"what’s\": \"what is\",\n",
    "\"what’ve\": \"what have\",\n",
    "\"when’s\": \"when is\",\n",
    "\"where’d\": \"where did\",\n",
    "\"where’ll\": \"where will\",\n",
    "\"where’re\": \"where are\",\n",
    "\"where’s\": \t\"where is\",\n",
    "\"where’ve\": \"where have\",\n",
    "\"which’d\": \"which would\",\n",
    "\"which’ll\": \"which will\",\n",
    "\"which’re\": \"which are\",\n",
    "\"which’s\": \t\"which is\",\n",
    "\"which’ve\": \"which have\",\n",
    "\"who’d\": \"who would\",\n",
    "\"who’d’ve\": \"who would have\",\n",
    "\"who’ll\": \"who will\",\n",
    "\"who’re\": \"who are\",\n",
    "\"who’s\": \"who is\",\n",
    "\"who’ve\": \"who have\",\n",
    "\"why’d\": \"why did\",\n",
    "\"why’re\": \"why are\",\n",
    "\"why’s\": \"why is\",\n",
    "\"willn’t\": \t\"will not\",\n",
    "\"won’t\": \"will not\",\n",
    "\"wonnot\": \"will not\",\n",
    "\"would’ve\": \"would have\",\n",
    "\"wouldn’t\": \"would not\",\n",
    "\"wouldn’t’ve\": \"would not have\",\n",
    "\"y’ain’t \":\t\"you are not\",\n",
    "\"y’all\": \"you all\",\n",
    "\"y’all’d’ve\": \"you all would have\",\n",
    "\"y’all’dn't’ve\":\"you all would not have\",\n",
    "\"y’all’re\": \"you all are\",\n",
    "\"y’all’ren’t\": \t\"you all are not\",\n",
    "\"y’at\": \"you at\",\n",
    "\"yes’m\": \"yes madam\",\n",
    "\"yever\": \"have you ever?\",\n",
    "\"y’know\": \"you know\",\n",
    "\"yessir\": \"yes sir\",\n",
    "\"you’d\": \"you would\",\n",
    "\"you’ll\": \"you will\",\n",
    "\"you’re\": \"you are\",\n",
    "\"you’ve\": \"you have\",\n",
    "\"when’d\": \"when did\"\n",
    "}"
   ]
  },
  {
   "cell_type": "code",
   "execution_count": 51,
   "metadata": {},
   "outputs": [
    {
     "name": "stdout",
     "output_type": "stream",
     "text": [
      "you all know I would not forget you are birthday y'know\n"
     ]
    }
   ],
   "source": [
    "\n",
    "import contractions\n",
    "\n",
    "x = \"y'all know I wouldn't forget ur birthday y'know\"\n",
    "\n",
    "def cont_to_exp(x):\n",
    "    return contractions.fix(x)\n",
    "\n",
    "result = cont_to_exp(x)\n",
    "print(result)"
   ]
  },
  {
   "cell_type": "code",
   "execution_count": 52,
   "metadata": {},
   "outputs": [
    {
     "name": "stdout",
     "output_type": "stream",
     "text": [
      "28.6 ms ± 1.74 ms per loop (mean ± std. dev. of 7 runs, 10 loops each)\n"
     ]
    }
   ],
   "source": [
    "%%timeit\n",
    "df['twitts'] = df['twitts'].apply(lambda x: cont_to_exp(x))"
   ]
  },
  {
   "cell_type": "code",
   "execution_count": 53,
   "metadata": {},
   "outputs": [
    {
     "data": {
      "text/html": [
       "<div>\n",
       "<style scoped>\n",
       "    .dataframe tbody tr th:only-of-type {\n",
       "        vertical-align: middle;\n",
       "    }\n",
       "\n",
       "    .dataframe tbody tr th {\n",
       "        vertical-align: top;\n",
       "    }\n",
       "\n",
       "    .dataframe thead th {\n",
       "        text-align: right;\n",
       "    }\n",
       "</style>\n",
       "<table border=\"1\" class=\"dataframe\">\n",
       "  <thead>\n",
       "    <tr style=\"text-align: right;\">\n",
       "      <th></th>\n",
       "      <th>twitts</th>\n",
       "      <th>sentiment</th>\n",
       "      <th>word_counts</th>\n",
       "      <th>char_counts</th>\n",
       "      <th>avg_word_len</th>\n",
       "      <th>stop_words_len</th>\n",
       "      <th>hashtags_count</th>\n",
       "      <th>mentions_count</th>\n",
       "      <th>numeric_count</th>\n",
       "      <th>upper_count</th>\n",
       "    </tr>\n",
       "  </thead>\n",
       "  <tbody>\n",
       "    <tr>\n",
       "      <th>3415</th>\n",
       "      <td>@letshearitforme hehe. 2 hours as well, i love...</td>\n",
       "      <td>1</td>\n",
       "      <td>19</td>\n",
       "      <td>79</td>\n",
       "      <td>4.157895</td>\n",
       "      <td>5</td>\n",
       "      <td>0</td>\n",
       "      <td>1</td>\n",
       "      <td>1</td>\n",
       "      <td>0</td>\n",
       "    </tr>\n",
       "    <tr>\n",
       "      <th>680</th>\n",
       "      <td>damarques johnson vs. james wilkes showed hear...</td>\n",
       "      <td>0</td>\n",
       "      <td>20</td>\n",
       "      <td>106</td>\n",
       "      <td>5.300000</td>\n",
       "      <td>5</td>\n",
       "      <td>0</td>\n",
       "      <td>0</td>\n",
       "      <td>0</td>\n",
       "      <td>2</td>\n",
       "    </tr>\n",
       "    <tr>\n",
       "      <th>514</th>\n",
       "      <td>tried 2 make a lasting impression....but i do ...</td>\n",
       "      <td>0</td>\n",
       "      <td>12</td>\n",
       "      <td>55</td>\n",
       "      <td>4.583333</td>\n",
       "      <td>5</td>\n",
       "      <td>0</td>\n",
       "      <td>0</td>\n",
       "      <td>1</td>\n",
       "      <td>0</td>\n",
       "    </tr>\n",
       "    <tr>\n",
       "      <th>2643</th>\n",
       "      <td>were here!!!!  well in adrian atleast!</td>\n",
       "      <td>1</td>\n",
       "      <td>6</td>\n",
       "      <td>32</td>\n",
       "      <td>5.333333</td>\n",
       "      <td>2</td>\n",
       "      <td>0</td>\n",
       "      <td>0</td>\n",
       "      <td>0</td>\n",
       "      <td>0</td>\n",
       "    </tr>\n",
       "    <tr>\n",
       "      <th>2710</th>\n",
       "      <td>playing dumb really does have its advantages ....</td>\n",
       "      <td>1</td>\n",
       "      <td>13</td>\n",
       "      <td>65</td>\n",
       "      <td>5.000000</td>\n",
       "      <td>6</td>\n",
       "      <td>0</td>\n",
       "      <td>0</td>\n",
       "      <td>0</td>\n",
       "      <td>1</td>\n",
       "    </tr>\n",
       "  </tbody>\n",
       "</table>\n",
       "</div>"
      ],
      "text/plain": [
       "                                                 twitts  sentiment  \\\n",
       "3415  @letshearitforme hehe. 2 hours as well, i love...          1   \n",
       "680   damarques johnson vs. james wilkes showed hear...          0   \n",
       "514   tried 2 make a lasting impression....but i do ...          0   \n",
       "2643             were here!!!!  well in adrian atleast!          1   \n",
       "2710  playing dumb really does have its advantages ....          1   \n",
       "\n",
       "      word_counts  char_counts  avg_word_len  stop_words_len  hashtags_count  \\\n",
       "3415           19           79      4.157895               5               0   \n",
       "680            20          106      5.300000               5               0   \n",
       "514            12           55      4.583333               5               0   \n",
       "2643            6           32      5.333333               2               0   \n",
       "2710           13           65      5.000000               6               0   \n",
       "\n",
       "      mentions_count  numeric_count  upper_count  \n",
       "3415               1              1            0  \n",
       "680                0              0            2  \n",
       "514                0              1            0  \n",
       "2643               0              0            0  \n",
       "2710               0              0            1  "
      ]
     },
     "execution_count": 53,
     "metadata": {},
     "output_type": "execute_result"
    }
   ],
   "source": [
    "df.sample(5)"
   ]
  },
  {
   "cell_type": "markdown",
   "metadata": {},
   "source": [
    "### Count and Remove Emails"
   ]
  },
  {
   "cell_type": "code",
   "execution_count": 56,
   "metadata": {},
   "outputs": [
    {
     "data": {
      "text/html": [
       "<div>\n",
       "<style scoped>\n",
       "    .dataframe tbody tr th:only-of-type {\n",
       "        vertical-align: middle;\n",
       "    }\n",
       "\n",
       "    .dataframe tbody tr th {\n",
       "        vertical-align: top;\n",
       "    }\n",
       "\n",
       "    .dataframe thead th {\n",
       "        text-align: right;\n",
       "    }\n",
       "</style>\n",
       "<table border=\"1\" class=\"dataframe\">\n",
       "  <thead>\n",
       "    <tr style=\"text-align: right;\">\n",
       "      <th></th>\n",
       "      <th>twitts</th>\n",
       "      <th>sentiment</th>\n",
       "      <th>word_counts</th>\n",
       "      <th>char_counts</th>\n",
       "      <th>avg_word_len</th>\n",
       "      <th>stop_words_len</th>\n",
       "      <th>hashtags_count</th>\n",
       "      <th>mentions_count</th>\n",
       "      <th>numeric_count</th>\n",
       "      <th>upper_count</th>\n",
       "    </tr>\n",
       "  </thead>\n",
       "  <tbody>\n",
       "    <tr>\n",
       "      <th>3713</th>\n",
       "      <td>@securerecs arghh me please  markbradbury_16@h...</td>\n",
       "      <td>1</td>\n",
       "      <td>5</td>\n",
       "      <td>51</td>\n",
       "      <td>10.2</td>\n",
       "      <td>0</td>\n",
       "      <td>0</td>\n",
       "      <td>1</td>\n",
       "      <td>0</td>\n",
       "      <td>0</td>\n",
       "    </tr>\n",
       "  </tbody>\n",
       "</table>\n",
       "</div>"
      ],
      "text/plain": [
       "                                                 twitts  sentiment  \\\n",
       "3713  @securerecs arghh me please  markbradbury_16@h...          1   \n",
       "\n",
       "      word_counts  char_counts  avg_word_len  stop_words_len  hashtags_count  \\\n",
       "3713            5           51          10.2               0               0   \n",
       "\n",
       "      mentions_count  numeric_count  upper_count  \n",
       "3713               1              0            0  "
      ]
     },
     "execution_count": 56,
     "metadata": {},
     "output_type": "execute_result"
    }
   ],
   "source": [
    "df[df['twitts'].str.contains('hotmail.com')]"
   ]
  },
  {
   "cell_type": "code",
   "execution_count": 57,
   "metadata": {},
   "outputs": [
    {
     "data": {
      "text/plain": [
       "'@securerecs arghh me please  markbradbury_16@hotmail.com'"
      ]
     },
     "execution_count": 57,
     "metadata": {},
     "output_type": "execute_result"
    }
   ],
   "source": [
    "df.iloc[3713]['twitts']"
   ]
  },
  {
   "cell_type": "code",
   "execution_count": 58,
   "metadata": {},
   "outputs": [],
   "source": [
    "import re"
   ]
  },
  {
   "cell_type": "code",
   "execution_count": 61,
   "metadata": {},
   "outputs": [],
   "source": [
    "x = '@securerecs arghh me please  markbradbury_16@hotmail.com'"
   ]
  },
  {
   "cell_type": "code",
   "execution_count": 62,
   "metadata": {},
   "outputs": [
    {
     "data": {
      "text/plain": [
       "['markbradbury_16@hotmail.com']"
      ]
     },
     "execution_count": 62,
     "metadata": {},
     "output_type": "execute_result"
    }
   ],
   "source": [
    "re.findall(r'([a-z0-9+._-]+@[a-z0-9+._-]+\\.[a-z0-9+_-]+)', x)"
   ]
  },
  {
   "cell_type": "code",
   "execution_count": 63,
   "metadata": {},
   "outputs": [],
   "source": [
    "df['emails'] = df['twitts'].apply(lambda x: re.findall(r'([a-z0-9+._-]+@[a-z0-9+._-]+\\.[a-z0-9+_-]+)', x))"
   ]
  },
  {
   "cell_type": "code",
   "execution_count": 65,
   "metadata": {},
   "outputs": [],
   "source": [
    "df['emails_count'] = df['emails'].apply(lambda x: len(x))"
   ]
  },
  {
   "cell_type": "code",
   "execution_count": 66,
   "metadata": {},
   "outputs": [
    {
     "data": {
      "text/html": [
       "<div>\n",
       "<style scoped>\n",
       "    .dataframe tbody tr th:only-of-type {\n",
       "        vertical-align: middle;\n",
       "    }\n",
       "\n",
       "    .dataframe tbody tr th {\n",
       "        vertical-align: top;\n",
       "    }\n",
       "\n",
       "    .dataframe thead th {\n",
       "        text-align: right;\n",
       "    }\n",
       "</style>\n",
       "<table border=\"1\" class=\"dataframe\">\n",
       "  <thead>\n",
       "    <tr style=\"text-align: right;\">\n",
       "      <th></th>\n",
       "      <th>twitts</th>\n",
       "      <th>sentiment</th>\n",
       "      <th>word_counts</th>\n",
       "      <th>char_counts</th>\n",
       "      <th>avg_word_len</th>\n",
       "      <th>stop_words_len</th>\n",
       "      <th>hashtags_count</th>\n",
       "      <th>mentions_count</th>\n",
       "      <th>numeric_count</th>\n",
       "      <th>upper_count</th>\n",
       "      <th>emails</th>\n",
       "      <th>email_counts</th>\n",
       "      <th>emails_count</th>\n",
       "    </tr>\n",
       "  </thead>\n",
       "  <tbody>\n",
       "    <tr>\n",
       "      <th>3713</th>\n",
       "      <td>@securerecs arghh me please  markbradbury_16@h...</td>\n",
       "      <td>1</td>\n",
       "      <td>5</td>\n",
       "      <td>51</td>\n",
       "      <td>10.2</td>\n",
       "      <td>0</td>\n",
       "      <td>0</td>\n",
       "      <td>1</td>\n",
       "      <td>0</td>\n",
       "      <td>0</td>\n",
       "      <td>[markbradbury_16@hotmail.com]</td>\n",
       "      <td>1</td>\n",
       "      <td>1</td>\n",
       "    </tr>\n",
       "  </tbody>\n",
       "</table>\n",
       "</div>"
      ],
      "text/plain": [
       "                                                 twitts  sentiment  \\\n",
       "3713  @securerecs arghh me please  markbradbury_16@h...          1   \n",
       "\n",
       "      word_counts  char_counts  avg_word_len  stop_words_len  hashtags_count  \\\n",
       "3713            5           51          10.2               0               0   \n",
       "\n",
       "      mentions_count  numeric_count  upper_count  \\\n",
       "3713               1              0            0   \n",
       "\n",
       "                             emails  email_counts  emails_count  \n",
       "3713  [markbradbury_16@hotmail.com]             1             1  "
      ]
     },
     "execution_count": 66,
     "metadata": {},
     "output_type": "execute_result"
    }
   ],
   "source": [
    "df[df['emails_count']>0]"
   ]
  },
  {
   "cell_type": "markdown",
   "metadata": {},
   "source": [
    "Remove the emails"
   ]
  },
  {
   "cell_type": "code",
   "execution_count": 67,
   "metadata": {},
   "outputs": [
    {
     "data": {
      "text/plain": [
       "'@securerecs arghh me please  '"
      ]
     },
     "execution_count": 67,
     "metadata": {},
     "output_type": "execute_result"
    }
   ],
   "source": [
    "re.sub(r'([a-z0-9+._-]+@[a-z0-9+._-]+\\.[a-z0-9+_-]+)',\"\", x)"
   ]
  },
  {
   "cell_type": "code",
   "execution_count": 68,
   "metadata": {},
   "outputs": [],
   "source": [
    "df['twitts'] = df['twitts'].apply(lambda x : re.sub(r'([a-z0-9+._-]+@[a-z0-9+._-]+\\.[a-z0-9+_-]+)',\"\", x))"
   ]
  },
  {
   "cell_type": "markdown",
   "metadata": {},
   "source": [
    "### Count and Remove URLS"
   ]
  },
  {
   "cell_type": "code",
   "execution_count": 69,
   "metadata": {},
   "outputs": [],
   "source": [
    "x = 'hi, thanks for watching. for more videos, visit https://youtube.com/xaimli or github.com/xxy'"
   ]
  },
  {
   "cell_type": "code",
   "execution_count": 70,
   "metadata": {},
   "outputs": [
    {
     "data": {
      "text/plain": [
       "[('https', 'youtube.com', '/xaimli')]"
      ]
     },
     "execution_count": 70,
     "metadata": {},
     "output_type": "execute_result"
    }
   ],
   "source": [
    "re.findall(r'(http|https|ftp|ssh|)://([\\w_-]+(?:(?:\\.[\\w_-]+)+))([\\w.,@?^=%&:/~+#-]*[\\w@?^=%&/~+#-])?', x)"
   ]
  },
  {
   "cell_type": "code",
   "execution_count": 71,
   "metadata": {},
   "outputs": [],
   "source": [
    "df['url_flags'] = df['twitts'].apply(lambda x: len(re.findall(r'(http|https|ftp|ssh|)://([\\w_-]+(?:(?:\\.[\\w_-]+)+))([\\w.,@?^=%&:/~+#-]*[\\w@?^=%&/~+#-])?', x)))"
   ]
  },
  {
   "cell_type": "code",
   "execution_count": 73,
   "metadata": {},
   "outputs": [
    {
     "data": {
      "text/html": [
       "<div>\n",
       "<style scoped>\n",
       "    .dataframe tbody tr th:only-of-type {\n",
       "        vertical-align: middle;\n",
       "    }\n",
       "\n",
       "    .dataframe tbody tr th {\n",
       "        vertical-align: top;\n",
       "    }\n",
       "\n",
       "    .dataframe thead th {\n",
       "        text-align: right;\n",
       "    }\n",
       "</style>\n",
       "<table border=\"1\" class=\"dataframe\">\n",
       "  <thead>\n",
       "    <tr style=\"text-align: right;\">\n",
       "      <th></th>\n",
       "      <th>twitts</th>\n",
       "      <th>sentiment</th>\n",
       "      <th>word_counts</th>\n",
       "      <th>char_counts</th>\n",
       "      <th>avg_word_len</th>\n",
       "      <th>stop_words_len</th>\n",
       "      <th>hashtags_count</th>\n",
       "      <th>mentions_count</th>\n",
       "      <th>numeric_count</th>\n",
       "      <th>upper_count</th>\n",
       "      <th>emails</th>\n",
       "      <th>email_counts</th>\n",
       "      <th>emails_count</th>\n",
       "      <th>url_flags</th>\n",
       "    </tr>\n",
       "  </thead>\n",
       "  <tbody>\n",
       "    <tr>\n",
       "      <th>3805</th>\n",
       "      <td>pic 11 is gerri halliwell is not it! did not k...</td>\n",
       "      <td>1</td>\n",
       "      <td>13</td>\n",
       "      <td>69</td>\n",
       "      <td>5.307692</td>\n",
       "      <td>3</td>\n",
       "      <td>0</td>\n",
       "      <td>0</td>\n",
       "      <td>1</td>\n",
       "      <td>1</td>\n",
       "      <td>[]</td>\n",
       "      <td>0</td>\n",
       "      <td>0</td>\n",
       "      <td>1</td>\n",
       "    </tr>\n",
       "    <tr>\n",
       "      <th>3634</th>\n",
       "      <td>thinking of fuzzball more than air france  htt...</td>\n",
       "      <td>1</td>\n",
       "      <td>8</td>\n",
       "      <td>60</td>\n",
       "      <td>7.500000</td>\n",
       "      <td>3</td>\n",
       "      <td>0</td>\n",
       "      <td>0</td>\n",
       "      <td>0</td>\n",
       "      <td>0</td>\n",
       "      <td>[]</td>\n",
       "      <td>0</td>\n",
       "      <td>0</td>\n",
       "      <td>1</td>\n",
       "    </tr>\n",
       "    <tr>\n",
       "      <th>3203</th>\n",
       "      <td>@thewebguy http://twitpic.com/6jb33 - dude, th...</td>\n",
       "      <td>1</td>\n",
       "      <td>14</td>\n",
       "      <td>85</td>\n",
       "      <td>6.071429</td>\n",
       "      <td>3</td>\n",
       "      <td>0</td>\n",
       "      <td>1</td>\n",
       "      <td>0</td>\n",
       "      <td>0</td>\n",
       "      <td>[]</td>\n",
       "      <td>0</td>\n",
       "      <td>0</td>\n",
       "      <td>1</td>\n",
       "    </tr>\n",
       "    <tr>\n",
       "      <th>1126</th>\n",
       "      <td>http://twitpic.com/7xdb1 - time to make the br...</td>\n",
       "      <td>0</td>\n",
       "      <td>11</td>\n",
       "      <td>53</td>\n",
       "      <td>4.818182</td>\n",
       "      <td>4</td>\n",
       "      <td>0</td>\n",
       "      <td>0</td>\n",
       "      <td>0</td>\n",
       "      <td>0</td>\n",
       "      <td>[]</td>\n",
       "      <td>0</td>\n",
       "      <td>0</td>\n",
       "      <td>1</td>\n",
       "    </tr>\n",
       "    <tr>\n",
       "      <th>3313</th>\n",
       "      <td>new blog entry at http://bit.ly/a2jhg - talkin...</td>\n",
       "      <td>1</td>\n",
       "      <td>23</td>\n",
       "      <td>112</td>\n",
       "      <td>4.869565</td>\n",
       "      <td>7</td>\n",
       "      <td>0</td>\n",
       "      <td>0</td>\n",
       "      <td>0</td>\n",
       "      <td>0</td>\n",
       "      <td>[]</td>\n",
       "      <td>0</td>\n",
       "      <td>0</td>\n",
       "      <td>1</td>\n",
       "    </tr>\n",
       "  </tbody>\n",
       "</table>\n",
       "</div>"
      ],
      "text/plain": [
       "                                                 twitts  sentiment  \\\n",
       "3805  pic 11 is gerri halliwell is not it! did not k...          1   \n",
       "3634  thinking of fuzzball more than air france  htt...          1   \n",
       "3203  @thewebguy http://twitpic.com/6jb33 - dude, th...          1   \n",
       "1126  http://twitpic.com/7xdb1 - time to make the br...          0   \n",
       "3313  new blog entry at http://bit.ly/a2jhg - talkin...          1   \n",
       "\n",
       "      word_counts  char_counts  avg_word_len  stop_words_len  hashtags_count  \\\n",
       "3805           13           69      5.307692               3               0   \n",
       "3634            8           60      7.500000               3               0   \n",
       "3203           14           85      6.071429               3               0   \n",
       "1126           11           53      4.818182               4               0   \n",
       "3313           23          112      4.869565               7               0   \n",
       "\n",
       "      mentions_count  numeric_count  upper_count emails  email_counts  \\\n",
       "3805               0              1            1     []             0   \n",
       "3634               0              0            0     []             0   \n",
       "3203               1              0            0     []             0   \n",
       "1126               0              0            0     []             0   \n",
       "3313               0              0            0     []             0   \n",
       "\n",
       "      emails_count  url_flags  \n",
       "3805             0          1  \n",
       "3634             0          1  \n",
       "3203             0          1  \n",
       "1126             0          1  \n",
       "3313             0          1  "
      ]
     },
     "execution_count": 73,
     "metadata": {},
     "output_type": "execute_result"
    }
   ],
   "source": [
    "df[df['url_flags']>0].sample(5)"
   ]
  },
  {
   "cell_type": "code",
   "execution_count": 74,
   "metadata": {},
   "outputs": [
    {
     "data": {
      "text/plain": [
       "'hi, thanks for watching. for more videos, visit  or github.com/xxy'"
      ]
     },
     "execution_count": 74,
     "metadata": {},
     "output_type": "execute_result"
    }
   ],
   "source": [
    "re.sub(r'(http|https|ftp|ssh|)://([\\w_-]+(?:(?:\\.[\\w_-]+)+))([\\w.,@?^=%&:/~+#-]*[\\w@?^=%&/~+#-])?','', x)"
   ]
  },
  {
   "cell_type": "code",
   "execution_count": 75,
   "metadata": {},
   "outputs": [],
   "source": [
    "df['twitts'] = df['twitts'].apply(lambda x: re.sub(r'(http|https|ftp|ssh|)://([\\w_-]+(?:(?:\\.[\\w_-]+)+))([\\w.,@?^=%&:/~+#-]*[\\w@?^=%&/~+#-])?','', x))"
   ]
  },
  {
   "cell_type": "code",
   "execution_count": 76,
   "metadata": {},
   "outputs": [
    {
     "data": {
      "text/html": [
       "<div>\n",
       "<style scoped>\n",
       "    .dataframe tbody tr th:only-of-type {\n",
       "        vertical-align: middle;\n",
       "    }\n",
       "\n",
       "    .dataframe tbody tr th {\n",
       "        vertical-align: top;\n",
       "    }\n",
       "\n",
       "    .dataframe thead th {\n",
       "        text-align: right;\n",
       "    }\n",
       "</style>\n",
       "<table border=\"1\" class=\"dataframe\">\n",
       "  <thead>\n",
       "    <tr style=\"text-align: right;\">\n",
       "      <th></th>\n",
       "      <th>twitts</th>\n",
       "      <th>sentiment</th>\n",
       "      <th>word_counts</th>\n",
       "      <th>char_counts</th>\n",
       "      <th>avg_word_len</th>\n",
       "      <th>stop_words_len</th>\n",
       "      <th>hashtags_count</th>\n",
       "      <th>mentions_count</th>\n",
       "      <th>numeric_count</th>\n",
       "      <th>upper_count</th>\n",
       "      <th>emails</th>\n",
       "      <th>email_counts</th>\n",
       "      <th>emails_count</th>\n",
       "      <th>url_flags</th>\n",
       "    </tr>\n",
       "  </thead>\n",
       "  <tbody>\n",
       "    <tr>\n",
       "      <th>1582</th>\n",
       "      <td>@maryrose_m i have seen a few turtle on the ro...</td>\n",
       "      <td>0</td>\n",
       "      <td>18</td>\n",
       "      <td>83</td>\n",
       "      <td>4.611111</td>\n",
       "      <td>8</td>\n",
       "      <td>0</td>\n",
       "      <td>1</td>\n",
       "      <td>0</td>\n",
       "      <td>1</td>\n",
       "      <td>[]</td>\n",
       "      <td>0</td>\n",
       "      <td>0</td>\n",
       "      <td>0</td>\n",
       "    </tr>\n",
       "    <tr>\n",
       "      <th>401</th>\n",
       "      <td>morning. my throat is still sore; definitely g...</td>\n",
       "      <td>0</td>\n",
       "      <td>22</td>\n",
       "      <td>113</td>\n",
       "      <td>5.136364</td>\n",
       "      <td>6</td>\n",
       "      <td>0</td>\n",
       "      <td>0</td>\n",
       "      <td>0</td>\n",
       "      <td>0</td>\n",
       "      <td>[]</td>\n",
       "      <td>0</td>\n",
       "      <td>0</td>\n",
       "      <td>0</td>\n",
       "    </tr>\n",
       "    <tr>\n",
       "      <th>2052</th>\n",
       "      <td>@ondasonora lol. i have a catholic church from...</td>\n",
       "      <td>1</td>\n",
       "      <td>17</td>\n",
       "      <td>72</td>\n",
       "      <td>4.235294</td>\n",
       "      <td>6</td>\n",
       "      <td>0</td>\n",
       "      <td>1</td>\n",
       "      <td>0</td>\n",
       "      <td>3</td>\n",
       "      <td>[]</td>\n",
       "      <td>0</td>\n",
       "      <td>0</td>\n",
       "      <td>0</td>\n",
       "    </tr>\n",
       "    <tr>\n",
       "      <th>1932</th>\n",
       "      <td>@dyankd whatsup sweet heart? gile anen nih aku</td>\n",
       "      <td>0</td>\n",
       "      <td>8</td>\n",
       "      <td>39</td>\n",
       "      <td>4.875000</td>\n",
       "      <td>0</td>\n",
       "      <td>0</td>\n",
       "      <td>1</td>\n",
       "      <td>0</td>\n",
       "      <td>0</td>\n",
       "      <td>[]</td>\n",
       "      <td>0</td>\n",
       "      <td>0</td>\n",
       "      <td>0</td>\n",
       "    </tr>\n",
       "    <tr>\n",
       "      <th>310</th>\n",
       "      <td>@kelz017 i have no pictures of me were i am no...</td>\n",
       "      <td>0</td>\n",
       "      <td>12</td>\n",
       "      <td>54</td>\n",
       "      <td>4.500000</td>\n",
       "      <td>5</td>\n",
       "      <td>0</td>\n",
       "      <td>1</td>\n",
       "      <td>0</td>\n",
       "      <td>1</td>\n",
       "      <td>[]</td>\n",
       "      <td>0</td>\n",
       "      <td>0</td>\n",
       "      <td>0</td>\n",
       "    </tr>\n",
       "    <tr>\n",
       "      <th>1036</th>\n",
       "      <td>feeling the effects of muscle in a month  weig...</td>\n",
       "      <td>0</td>\n",
       "      <td>20</td>\n",
       "      <td>73</td>\n",
       "      <td>3.650000</td>\n",
       "      <td>9</td>\n",
       "      <td>0</td>\n",
       "      <td>0</td>\n",
       "      <td>1</td>\n",
       "      <td>0</td>\n",
       "      <td>[]</td>\n",
       "      <td>0</td>\n",
       "      <td>0</td>\n",
       "      <td>0</td>\n",
       "    </tr>\n",
       "    <tr>\n",
       "      <th>222</th>\n",
       "      <td>ummmmm...i have done like nothing all day...wh...</td>\n",
       "      <td>0</td>\n",
       "      <td>8</td>\n",
       "      <td>47</td>\n",
       "      <td>5.875000</td>\n",
       "      <td>4</td>\n",
       "      <td>0</td>\n",
       "      <td>0</td>\n",
       "      <td>0</td>\n",
       "      <td>0</td>\n",
       "      <td>[]</td>\n",
       "      <td>0</td>\n",
       "      <td>0</td>\n",
       "      <td>0</td>\n",
       "    </tr>\n",
       "    <tr>\n",
       "      <th>140</th>\n",
       "      <td>@_tranquilize ill keep you up, i have to stay ...</td>\n",
       "      <td>0</td>\n",
       "      <td>14</td>\n",
       "      <td>55</td>\n",
       "      <td>3.928571</td>\n",
       "      <td>8</td>\n",
       "      <td>0</td>\n",
       "      <td>1</td>\n",
       "      <td>0</td>\n",
       "      <td>0</td>\n",
       "      <td>[]</td>\n",
       "      <td>0</td>\n",
       "      <td>0</td>\n",
       "      <td>0</td>\n",
       "    </tr>\n",
       "    <tr>\n",
       "      <th>2147</th>\n",
       "      <td>@trapes lol - how long do you walk for? do you...</td>\n",
       "      <td>1</td>\n",
       "      <td>18</td>\n",
       "      <td>67</td>\n",
       "      <td>3.722222</td>\n",
       "      <td>7</td>\n",
       "      <td>0</td>\n",
       "      <td>1</td>\n",
       "      <td>0</td>\n",
       "      <td>0</td>\n",
       "      <td>[]</td>\n",
       "      <td>0</td>\n",
       "      <td>0</td>\n",
       "      <td>0</td>\n",
       "    </tr>\n",
       "    <tr>\n",
       "      <th>1546</th>\n",
       "      <td>the day i leave my car across the street all d...</td>\n",
       "      <td>0</td>\n",
       "      <td>30</td>\n",
       "      <td>107</td>\n",
       "      <td>3.566667</td>\n",
       "      <td>14</td>\n",
       "      <td>0</td>\n",
       "      <td>0</td>\n",
       "      <td>0</td>\n",
       "      <td>2</td>\n",
       "      <td>[]</td>\n",
       "      <td>0</td>\n",
       "      <td>0</td>\n",
       "      <td>0</td>\n",
       "    </tr>\n",
       "  </tbody>\n",
       "</table>\n",
       "</div>"
      ],
      "text/plain": [
       "                                                 twitts  sentiment  \\\n",
       "1582  @maryrose_m i have seen a few turtle on the ro...          0   \n",
       "401   morning. my throat is still sore; definitely g...          0   \n",
       "2052  @ondasonora lol. i have a catholic church from...          1   \n",
       "1932    @dyankd whatsup sweet heart? gile anen nih aku           0   \n",
       "310   @kelz017 i have no pictures of me were i am no...          0   \n",
       "1036  feeling the effects of muscle in a month  weig...          0   \n",
       "222   ummmmm...i have done like nothing all day...wh...          0   \n",
       "140   @_tranquilize ill keep you up, i have to stay ...          0   \n",
       "2147  @trapes lol - how long do you walk for? do you...          1   \n",
       "1546  the day i leave my car across the street all d...          0   \n",
       "\n",
       "      word_counts  char_counts  avg_word_len  stop_words_len  hashtags_count  \\\n",
       "1582           18           83      4.611111               8               0   \n",
       "401            22          113      5.136364               6               0   \n",
       "2052           17           72      4.235294               6               0   \n",
       "1932            8           39      4.875000               0               0   \n",
       "310            12           54      4.500000               5               0   \n",
       "1036           20           73      3.650000               9               0   \n",
       "222             8           47      5.875000               4               0   \n",
       "140            14           55      3.928571               8               0   \n",
       "2147           18           67      3.722222               7               0   \n",
       "1546           30          107      3.566667              14               0   \n",
       "\n",
       "      mentions_count  numeric_count  upper_count emails  email_counts  \\\n",
       "1582               1              0            1     []             0   \n",
       "401                0              0            0     []             0   \n",
       "2052               1              0            3     []             0   \n",
       "1932               1              0            0     []             0   \n",
       "310                1              0            1     []             0   \n",
       "1036               0              1            0     []             0   \n",
       "222                0              0            0     []             0   \n",
       "140                1              0            0     []             0   \n",
       "2147               1              0            0     []             0   \n",
       "1546               0              0            2     []             0   \n",
       "\n",
       "      emails_count  url_flags  \n",
       "1582             0          0  \n",
       "401              0          0  \n",
       "2052             0          0  \n",
       "1932             0          0  \n",
       "310              0          0  \n",
       "1036             0          0  \n",
       "222              0          0  \n",
       "140              0          0  \n",
       "2147             0          0  \n",
       "1546             0          0  "
      ]
     },
     "execution_count": 76,
     "metadata": {},
     "output_type": "execute_result"
    }
   ],
   "source": [
    "df.sample(10)"
   ]
  },
  {
   "cell_type": "markdown",
   "metadata": {},
   "source": [
    "### Remove RT"
   ]
  },
  {
   "cell_type": "code",
   "execution_count": null,
   "metadata": {},
   "outputs": [],
   "source": [
    "df[df['twitts'].str.contains('rt')]"
   ]
  },
  {
   "cell_type": "code",
   "execution_count": 80,
   "metadata": {},
   "outputs": [],
   "source": [
    "x = 'rt @username: hello hi'"
   ]
  },
  {
   "cell_type": "code",
   "execution_count": 81,
   "metadata": {},
   "outputs": [
    {
     "data": {
      "text/plain": [
       "'@username: hello hi'"
      ]
     },
     "execution_count": 81,
     "metadata": {},
     "output_type": "execute_result"
    }
   ],
   "source": [
    "re.sub(r'\\brt\\b', '', x).strip()"
   ]
  },
  {
   "cell_type": "code",
   "execution_count": 82,
   "metadata": {},
   "outputs": [],
   "source": [
    "df['twitts'] = df['twitts'].apply(lambda x: re.sub(r'\\brt\\b', '', x).strip())"
   ]
  },
  {
   "cell_type": "markdown",
   "metadata": {},
   "source": [
    "### Special Character or Punctuation Removal"
   ]
  },
  {
   "cell_type": "code",
   "execution_count": 83,
   "metadata": {},
   "outputs": [
    {
     "data": {
      "text/html": [
       "<div>\n",
       "<style scoped>\n",
       "    .dataframe tbody tr th:only-of-type {\n",
       "        vertical-align: middle;\n",
       "    }\n",
       "\n",
       "    .dataframe tbody tr th {\n",
       "        vertical-align: top;\n",
       "    }\n",
       "\n",
       "    .dataframe thead th {\n",
       "        text-align: right;\n",
       "    }\n",
       "</style>\n",
       "<table border=\"1\" class=\"dataframe\">\n",
       "  <thead>\n",
       "    <tr style=\"text-align: right;\">\n",
       "      <th></th>\n",
       "      <th>twitts</th>\n",
       "      <th>sentiment</th>\n",
       "      <th>word_counts</th>\n",
       "      <th>char_counts</th>\n",
       "      <th>avg_word_len</th>\n",
       "      <th>stop_words_len</th>\n",
       "      <th>hashtags_count</th>\n",
       "      <th>mentions_count</th>\n",
       "      <th>numeric_count</th>\n",
       "      <th>upper_count</th>\n",
       "      <th>emails</th>\n",
       "      <th>email_counts</th>\n",
       "      <th>emails_count</th>\n",
       "      <th>url_flags</th>\n",
       "    </tr>\n",
       "  </thead>\n",
       "  <tbody>\n",
       "    <tr>\n",
       "      <th>1954</th>\n",
       "      <td>@rubyam i do not know what it is  maybe you ca...</td>\n",
       "      <td>0</td>\n",
       "      <td>12</td>\n",
       "      <td>47</td>\n",
       "      <td>3.916667</td>\n",
       "      <td>6</td>\n",
       "      <td>0</td>\n",
       "      <td>1</td>\n",
       "      <td>0</td>\n",
       "      <td>1</td>\n",
       "      <td>[]</td>\n",
       "      <td>0</td>\n",
       "      <td>0</td>\n",
       "      <td>0</td>\n",
       "    </tr>\n",
       "    <tr>\n",
       "      <th>3759</th>\n",
       "      <td>@mayoryoung hey man, i had fun being on your s...</td>\n",
       "      <td>1</td>\n",
       "      <td>24</td>\n",
       "      <td>100</td>\n",
       "      <td>4.166667</td>\n",
       "      <td>12</td>\n",
       "      <td>0</td>\n",
       "      <td>1</td>\n",
       "      <td>0</td>\n",
       "      <td>1</td>\n",
       "      <td>[]</td>\n",
       "      <td>0</td>\n",
       "      <td>0</td>\n",
       "      <td>0</td>\n",
       "    </tr>\n",
       "    <tr>\n",
       "      <th>3546</th>\n",
       "      <td>grilled chicken, broccolli, and water.  yummy ...</td>\n",
       "      <td>1</td>\n",
       "      <td>18</td>\n",
       "      <td>91</td>\n",
       "      <td>5.055556</td>\n",
       "      <td>8</td>\n",
       "      <td>0</td>\n",
       "      <td>0</td>\n",
       "      <td>0</td>\n",
       "      <td>1</td>\n",
       "      <td>[]</td>\n",
       "      <td>0</td>\n",
       "      <td>0</td>\n",
       "      <td>0</td>\n",
       "    </tr>\n",
       "  </tbody>\n",
       "</table>\n",
       "</div>"
      ],
      "text/plain": [
       "                                                 twitts  sentiment  \\\n",
       "1954  @rubyam i do not know what it is  maybe you ca...          0   \n",
       "3759  @mayoryoung hey man, i had fun being on your s...          1   \n",
       "3546  grilled chicken, broccolli, and water.  yummy ...          1   \n",
       "\n",
       "      word_counts  char_counts  avg_word_len  stop_words_len  hashtags_count  \\\n",
       "1954           12           47      3.916667               6               0   \n",
       "3759           24          100      4.166667              12               0   \n",
       "3546           18           91      5.055556               8               0   \n",
       "\n",
       "      mentions_count  numeric_count  upper_count emails  email_counts  \\\n",
       "1954               1              0            1     []             0   \n",
       "3759               1              0            1     []             0   \n",
       "3546               0              0            1     []             0   \n",
       "\n",
       "      emails_count  url_flags  \n",
       "1954             0          0  \n",
       "3759             0          0  \n",
       "3546             0          0  "
      ]
     },
     "execution_count": 83,
     "metadata": {},
     "output_type": "execute_result"
    }
   ],
   "source": [
    "df.sample(3)"
   ]
  },
  {
   "cell_type": "code",
   "execution_count": 85,
   "metadata": {},
   "outputs": [],
   "source": [
    "x = '@mayoryoung hey man, i had fun being on your s...'"
   ]
  },
  {
   "cell_type": "code",
   "execution_count": 86,
   "metadata": {},
   "outputs": [
    {
     "data": {
      "text/plain": [
       "'mayoryoung hey man i had fun being on your s'"
      ]
     },
     "execution_count": 86,
     "metadata": {},
     "output_type": "execute_result"
    }
   ],
   "source": [
    "re.sub(r'[^\\w ]+', '',x)"
   ]
  },
  {
   "cell_type": "code",
   "execution_count": 87,
   "metadata": {},
   "outputs": [],
   "source": [
    "df['twitts'] = df['twitts'].apply(lambda x : re.sub(r'[^\\w ]+', '',x))"
   ]
  },
  {
   "cell_type": "code",
   "execution_count": null,
   "metadata": {},
   "outputs": [],
   "source": []
  },
  {
   "cell_type": "code",
   "execution_count": 49,
   "metadata": {},
   "outputs": [],
   "source": [
    "\"\"\"\n",
    "def cont_to_exp(x):\n",
    "    if type(x) is str:\n",
    "        for key in custom_contractions:\n",
    "            value = custom_contractions[key]\n",
    "            x = x.replace(key, value)\n",
    "        return x\n",
    "    else:\n",
    "        return x\n",
    "\"\"\""
   ]
  },
  {
   "cell_type": "code",
   "execution_count": 47,
   "metadata": {},
   "outputs": [
    {
     "data": {
      "text/plain": [
       "'\\ndef preprocess_with_custom_dict(text, custom_dict):\\n    for key, value in custom_dict.items():\\n        text = text.replace(key, f\"{value}_TOKEN\")\\n    return text\\n\\ndef postprocess_with_custom_dict(text, custom_dict):\\n    for key, value in custom_dict.items():\\n        text = text.replace(f\"{value}_TOKEN\", value)\\n    return text\\n\\nx = \"y\\'all know I wouldn\\'t forget ur birthday y\\'know\"\\n\\n# Preprocess: Replace custom contractions with special tokens\\nx_preprocessed = preprocess_with_custom_dict(x, custom_contractions)\\n\\n# Use contractions library\\nx_expanded = contractions.fix(x_preprocessed)\\n\\n# Postprocess: Replace special tokens with expanded forms\\nresult = postprocess_with_custom_dict(x_expanded, custom_contractions)\\n\\nprint(result)\\n'"
      ]
     },
     "execution_count": 47,
     "metadata": {},
     "output_type": "execute_result"
    }
   ],
   "source": [
    "\"\"\"\n",
    "def preprocess_with_custom_dict(text, custom_dict):\n",
    "    for key, value in custom_dict.items():\n",
    "        text = text.replace(key, f\"{value}_TOKEN\")\n",
    "    return text\n",
    "\n",
    "def postprocess_with_custom_dict(text, custom_dict):\n",
    "    for key, value in custom_dict.items():\n",
    "        text = text.replace(f\"{value}_TOKEN\", value)\n",
    "    return text\n",
    "\n",
    "x = \"y'all know I wouldn't forget ur birthday y'know\"\n",
    "\n",
    "# Preprocess: Replace custom contractions with special tokens\n",
    "x_preprocessed = preprocess_with_custom_dict(x, custom_contractions)\n",
    "\n",
    "# Use contractions library\n",
    "x_expanded = contractions.fix(x_preprocessed)\n",
    "\n",
    "# Postprocess: Replace special tokens with expanded forms\n",
    "result = postprocess_with_custom_dict(x_expanded, custom_contractions)\n",
    "\n",
    "print(result)\n",
    "\"\"\""
   ]
  }
 ],
 "metadata": {
  "kernelspec": {
   "display_name": "base",
   "language": "python",
   "name": "python3"
  },
  "language_info": {
   "codemirror_mode": {
    "name": "ipython",
    "version": 3
   },
   "file_extension": ".py",
   "mimetype": "text/x-python",
   "name": "python",
   "nbconvert_exporter": "python",
   "pygments_lexer": "ipython3",
   "version": "3.11.4"
  }
 },
 "nbformat": 4,
 "nbformat_minor": 2
}
