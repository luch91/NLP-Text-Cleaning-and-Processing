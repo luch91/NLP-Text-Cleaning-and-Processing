{
 "cells": [
  {
   "cell_type": "markdown",
   "metadata": {},
   "source": [
    "## Text cleaning and Preprocessing"
   ]
  },
  {
   "cell_type": "code",
   "execution_count": null,
   "metadata": {},
   "outputs": [],
   "source": [
    "pip install spacy"
   ]
  },
  {
   "cell_type": "code",
   "execution_count": 3,
   "metadata": {},
   "outputs": [],
   "source": [
    "import pandas as pd\n",
    "import numpy as np\n",
    "import spacy"
   ]
  },
  {
   "cell_type": "code",
   "execution_count": 4,
   "metadata": {},
   "outputs": [],
   "source": [
    "from spacy.lang.en.stop_words import STOP_WORDS as stopwords"
   ]
  },
  {
   "cell_type": "code",
   "execution_count": 5,
   "metadata": {},
   "outputs": [],
   "source": [
    "df = pd.read_csv('https://raw.githubusercontent.com/laxmimerit/twitter-data/master/twitter4000.csv',encoding= 'latin-1')"
   ]
  },
  {
   "cell_type": "code",
   "execution_count": 6,
   "metadata": {},
   "outputs": [
    {
     "data": {
      "text/html": [
       "<div>\n",
       "<style scoped>\n",
       "    .dataframe tbody tr th:only-of-type {\n",
       "        vertical-align: middle;\n",
       "    }\n",
       "\n",
       "    .dataframe tbody tr th {\n",
       "        vertical-align: top;\n",
       "    }\n",
       "\n",
       "    .dataframe thead th {\n",
       "        text-align: right;\n",
       "    }\n",
       "</style>\n",
       "<table border=\"1\" class=\"dataframe\">\n",
       "  <thead>\n",
       "    <tr style=\"text-align: right;\">\n",
       "      <th></th>\n",
       "      <th>twitts</th>\n",
       "      <th>sentiment</th>\n",
       "    </tr>\n",
       "  </thead>\n",
       "  <tbody>\n",
       "    <tr>\n",
       "      <th>0</th>\n",
       "      <td>is bored and wants to watch a movie  any sugge...</td>\n",
       "      <td>0</td>\n",
       "    </tr>\n",
       "    <tr>\n",
       "      <th>1</th>\n",
       "      <td>back in miami.  waiting to unboard ship</td>\n",
       "      <td>0</td>\n",
       "    </tr>\n",
       "    <tr>\n",
       "      <th>2</th>\n",
       "      <td>@misskpey awwww dnt dis brng bak memoriessss, ...</td>\n",
       "      <td>0</td>\n",
       "    </tr>\n",
       "    <tr>\n",
       "      <th>3</th>\n",
       "      <td>ughhh i am so tired  blahhhhhhhhh</td>\n",
       "      <td>0</td>\n",
       "    </tr>\n",
       "    <tr>\n",
       "      <th>4</th>\n",
       "      <td>@mandagoforth me bad! It's funny though. Zacha...</td>\n",
       "      <td>0</td>\n",
       "    </tr>\n",
       "    <tr>\n",
       "      <th>...</th>\n",
       "      <td>...</td>\n",
       "      <td>...</td>\n",
       "    </tr>\n",
       "    <tr>\n",
       "      <th>3995</th>\n",
       "      <td>i just graduated</td>\n",
       "      <td>1</td>\n",
       "    </tr>\n",
       "    <tr>\n",
       "      <th>3996</th>\n",
       "      <td>Templating works; it all has to be done</td>\n",
       "      <td>1</td>\n",
       "    </tr>\n",
       "    <tr>\n",
       "      <th>3997</th>\n",
       "      <td>mommy just brought me starbucks</td>\n",
       "      <td>1</td>\n",
       "    </tr>\n",
       "    <tr>\n",
       "      <th>3998</th>\n",
       "      <td>@omarepps watching you on a House re-run...lov...</td>\n",
       "      <td>1</td>\n",
       "    </tr>\n",
       "    <tr>\n",
       "      <th>3999</th>\n",
       "      <td>Thanks for trying to make me smile I'll make y...</td>\n",
       "      <td>1</td>\n",
       "    </tr>\n",
       "  </tbody>\n",
       "</table>\n",
       "<p>4000 rows × 2 columns</p>\n",
       "</div>"
      ],
      "text/plain": [
       "                                                 twitts  sentiment\n",
       "0     is bored and wants to watch a movie  any sugge...          0\n",
       "1              back in miami.  waiting to unboard ship           0\n",
       "2     @misskpey awwww dnt dis brng bak memoriessss, ...          0\n",
       "3                     ughhh i am so tired  blahhhhhhhhh          0\n",
       "4     @mandagoforth me bad! It's funny though. Zacha...          0\n",
       "...                                                 ...        ...\n",
       "3995                                  i just graduated           1\n",
       "3996          Templating works; it all has to be done            1\n",
       "3997                   mommy just brought me starbucks           1\n",
       "3998  @omarepps watching you on a House re-run...lov...          1\n",
       "3999  Thanks for trying to make me smile I'll make y...          1\n",
       "\n",
       "[4000 rows x 2 columns]"
      ]
     },
     "execution_count": 6,
     "metadata": {},
     "output_type": "execute_result"
    }
   ],
   "source": [
    "df"
   ]
  },
  {
   "cell_type": "code",
   "execution_count": 7,
   "metadata": {},
   "outputs": [
    {
     "data": {
      "text/plain": [
       "sentiment\n",
       "0    2000\n",
       "1    2000\n",
       "Name: count, dtype: int64"
      ]
     },
     "execution_count": 7,
     "metadata": {},
     "output_type": "execute_result"
    }
   ],
   "source": [
    "df['sentiment'].value_counts()"
   ]
  },
  {
   "cell_type": "markdown",
   "metadata": {},
   "source": [
    "### Word Counts"
   ]
  },
  {
   "cell_type": "code",
   "execution_count": 8,
   "metadata": {},
   "outputs": [],
   "source": [
    "df['word_counts'] = df['twitts'].apply(lambda x: len(str(x).split()))"
   ]
  },
  {
   "cell_type": "code",
   "execution_count": 9,
   "metadata": {},
   "outputs": [
    {
     "data": {
      "text/html": [
       "<div>\n",
       "<style scoped>\n",
       "    .dataframe tbody tr th:only-of-type {\n",
       "        vertical-align: middle;\n",
       "    }\n",
       "\n",
       "    .dataframe tbody tr th {\n",
       "        vertical-align: top;\n",
       "    }\n",
       "\n",
       "    .dataframe thead th {\n",
       "        text-align: right;\n",
       "    }\n",
       "</style>\n",
       "<table border=\"1\" class=\"dataframe\">\n",
       "  <thead>\n",
       "    <tr style=\"text-align: right;\">\n",
       "      <th></th>\n",
       "      <th>twitts</th>\n",
       "      <th>sentiment</th>\n",
       "      <th>word_counts</th>\n",
       "    </tr>\n",
       "  </thead>\n",
       "  <tbody>\n",
       "    <tr>\n",
       "      <th>2266</th>\n",
       "      <td>Sitting in french watching ratatouille.</td>\n",
       "      <td>1</td>\n",
       "      <td>5</td>\n",
       "    </tr>\n",
       "    <tr>\n",
       "      <th>2863</th>\n",
       "      <td>@mileycyrus I love your photo</td>\n",
       "      <td>1</td>\n",
       "      <td>5</td>\n",
       "    </tr>\n",
       "    <tr>\n",
       "      <th>2211</th>\n",
       "      <td>just painted my nails a beautiful orange and p...</td>\n",
       "      <td>1</td>\n",
       "      <td>15</td>\n",
       "    </tr>\n",
       "    <tr>\n",
       "      <th>3534</th>\n",
       "      <td>@fingwindmills Better the chocolate crackers t...</td>\n",
       "      <td>1</td>\n",
       "      <td>11</td>\n",
       "    </tr>\n",
       "    <tr>\n",
       "      <th>3265</th>\n",
       "      <td>YAY!!! internet is back on my laptop</td>\n",
       "      <td>1</td>\n",
       "      <td>7</td>\n",
       "    </tr>\n",
       "  </tbody>\n",
       "</table>\n",
       "</div>"
      ],
      "text/plain": [
       "                                                 twitts  sentiment  \\\n",
       "2266           Sitting in french watching ratatouille.           1   \n",
       "2863                     @mileycyrus I love your photo           1   \n",
       "2211  just painted my nails a beautiful orange and p...          1   \n",
       "3534  @fingwindmills Better the chocolate crackers t...          1   \n",
       "3265              YAY!!! internet is back on my laptop           1   \n",
       "\n",
       "      word_counts  \n",
       "2266            5  \n",
       "2863            5  \n",
       "2211           15  \n",
       "3534           11  \n",
       "3265            7  "
      ]
     },
     "execution_count": 9,
     "metadata": {},
     "output_type": "execute_result"
    }
   ],
   "source": [
    "df.sample(5)"
   ]
  },
  {
   "cell_type": "code",
   "execution_count": 10,
   "metadata": {},
   "outputs": [
    {
     "data": {
      "text/plain": [
       "32"
      ]
     },
     "execution_count": 10,
     "metadata": {},
     "output_type": "execute_result"
    }
   ],
   "source": [
    "df['word_counts'].max()"
   ]
  },
  {
   "cell_type": "code",
   "execution_count": 11,
   "metadata": {},
   "outputs": [
    {
     "data": {
      "text/plain": [
       "1"
      ]
     },
     "execution_count": 11,
     "metadata": {},
     "output_type": "execute_result"
    }
   ],
   "source": [
    "df['word_counts'].min()"
   ]
  },
  {
   "cell_type": "code",
   "execution_count": 12,
   "metadata": {},
   "outputs": [
    {
     "data": {
      "text/plain": [
       "0       False\n",
       "1       False\n",
       "2       False\n",
       "3       False\n",
       "4       False\n",
       "        ...  \n",
       "3995    False\n",
       "3996    False\n",
       "3997    False\n",
       "3998    False\n",
       "3999    False\n",
       "Name: word_counts, Length: 4000, dtype: bool"
      ]
     },
     "execution_count": 12,
     "metadata": {},
     "output_type": "execute_result"
    }
   ],
   "source": [
    "df['word_counts'] == 1"
   ]
  },
  {
   "cell_type": "code",
   "execution_count": 13,
   "metadata": {},
   "outputs": [
    {
     "data": {
      "text/html": [
       "<div>\n",
       "<style scoped>\n",
       "    .dataframe tbody tr th:only-of-type {\n",
       "        vertical-align: middle;\n",
       "    }\n",
       "\n",
       "    .dataframe tbody tr th {\n",
       "        vertical-align: top;\n",
       "    }\n",
       "\n",
       "    .dataframe thead th {\n",
       "        text-align: right;\n",
       "    }\n",
       "</style>\n",
       "<table border=\"1\" class=\"dataframe\">\n",
       "  <thead>\n",
       "    <tr style=\"text-align: right;\">\n",
       "      <th></th>\n",
       "      <th>twitts</th>\n",
       "      <th>sentiment</th>\n",
       "      <th>word_counts</th>\n",
       "    </tr>\n",
       "  </thead>\n",
       "  <tbody>\n",
       "    <tr>\n",
       "      <th>385</th>\n",
       "      <td>homework</td>\n",
       "      <td>0</td>\n",
       "      <td>1</td>\n",
       "    </tr>\n",
       "    <tr>\n",
       "      <th>691</th>\n",
       "      <td>@ekrelly</td>\n",
       "      <td>0</td>\n",
       "      <td>1</td>\n",
       "    </tr>\n",
       "    <tr>\n",
       "      <th>1124</th>\n",
       "      <td>disappointed</td>\n",
       "      <td>0</td>\n",
       "      <td>1</td>\n",
       "    </tr>\n",
       "    <tr>\n",
       "      <th>1286</th>\n",
       "      <td>@officialmgnfox</td>\n",
       "      <td>0</td>\n",
       "      <td>1</td>\n",
       "    </tr>\n",
       "    <tr>\n",
       "      <th>1325</th>\n",
       "      <td>headache</td>\n",
       "      <td>0</td>\n",
       "      <td>1</td>\n",
       "    </tr>\n",
       "    <tr>\n",
       "      <th>1897</th>\n",
       "      <td>@MCRmuffin</td>\n",
       "      <td>0</td>\n",
       "      <td>1</td>\n",
       "    </tr>\n",
       "    <tr>\n",
       "      <th>2542</th>\n",
       "      <td>Graduated!</td>\n",
       "      <td>1</td>\n",
       "      <td>1</td>\n",
       "    </tr>\n",
       "    <tr>\n",
       "      <th>2947</th>\n",
       "      <td>reading</td>\n",
       "      <td>1</td>\n",
       "      <td>1</td>\n",
       "    </tr>\n",
       "    <tr>\n",
       "      <th>3176</th>\n",
       "      <td>@omeirdeleon</td>\n",
       "      <td>1</td>\n",
       "      <td>1</td>\n",
       "    </tr>\n",
       "    <tr>\n",
       "      <th>3470</th>\n",
       "      <td>www.myspace.com/myfinalthought</td>\n",
       "      <td>1</td>\n",
       "      <td>1</td>\n",
       "    </tr>\n",
       "    <tr>\n",
       "      <th>3966</th>\n",
       "      <td>@gethyp3</td>\n",
       "      <td>1</td>\n",
       "      <td>1</td>\n",
       "    </tr>\n",
       "  </tbody>\n",
       "</table>\n",
       "</div>"
      ],
      "text/plain": [
       "                               twitts  sentiment  word_counts\n",
       "385                         homework           0            1\n",
       "691                         @ekrelly           0            1\n",
       "1124                    disappointed           0            1\n",
       "1286                 @officialmgnfox           0            1\n",
       "1325                        headache           0            1\n",
       "1897                      @MCRmuffin           0            1\n",
       "2542                      Graduated!           1            1\n",
       "2947                         reading           1            1\n",
       "3176                    @omeirdeleon           1            1\n",
       "3470  www.myspace.com/myfinalthought           1            1\n",
       "3966                        @gethyp3           1            1"
      ]
     },
     "execution_count": 13,
     "metadata": {},
     "output_type": "execute_result"
    }
   ],
   "source": [
    "df[df['word_counts']==1]"
   ]
  },
  {
   "cell_type": "markdown",
   "metadata": {},
   "source": [
    "### Character Counts"
   ]
  },
  {
   "cell_type": "code",
   "execution_count": 14,
   "metadata": {},
   "outputs": [],
   "source": [
    "def char_counts(x):\n",
    "    s = x.split()\n",
    "    x = ''.join(s)\n",
    "    return len(x)"
   ]
  },
  {
   "cell_type": "code",
   "execution_count": 15,
   "metadata": {},
   "outputs": [
    {
     "data": {
      "text/plain": [
       "12"
      ]
     },
     "execution_count": 15,
     "metadata": {},
     "output_type": "execute_result"
    }
   ],
   "source": [
    "char_counts('I am wide awake')"
   ]
  },
  {
   "cell_type": "code",
   "execution_count": 16,
   "metadata": {},
   "outputs": [],
   "source": [
    "df['char_counts'] = df['twitts'].apply(lambda x: char_counts(str(x)))"
   ]
  },
  {
   "cell_type": "code",
   "execution_count": 17,
   "metadata": {},
   "outputs": [
    {
     "data": {
      "text/html": [
       "<div>\n",
       "<style scoped>\n",
       "    .dataframe tbody tr th:only-of-type {\n",
       "        vertical-align: middle;\n",
       "    }\n",
       "\n",
       "    .dataframe tbody tr th {\n",
       "        vertical-align: top;\n",
       "    }\n",
       "\n",
       "    .dataframe thead th {\n",
       "        text-align: right;\n",
       "    }\n",
       "</style>\n",
       "<table border=\"1\" class=\"dataframe\">\n",
       "  <thead>\n",
       "    <tr style=\"text-align: right;\">\n",
       "      <th></th>\n",
       "      <th>twitts</th>\n",
       "      <th>sentiment</th>\n",
       "      <th>word_counts</th>\n",
       "      <th>char_counts</th>\n",
       "    </tr>\n",
       "  </thead>\n",
       "  <tbody>\n",
       "    <tr>\n",
       "      <th>3711</th>\n",
       "      <td>I NEED a Looong Vacation after I graduate! Whe...</td>\n",
       "      <td>1</td>\n",
       "      <td>14</td>\n",
       "      <td>62</td>\n",
       "    </tr>\n",
       "    <tr>\n",
       "      <th>2978</th>\n",
       "      <td>@RealitynTails You are welcome for the #ff sho...</td>\n",
       "      <td>1</td>\n",
       "      <td>9</td>\n",
       "      <td>44</td>\n",
       "    </tr>\n",
       "    <tr>\n",
       "      <th>2472</th>\n",
       "      <td>Chilling with the ladies!!!! Beautiful out!!</td>\n",
       "      <td>1</td>\n",
       "      <td>6</td>\n",
       "      <td>39</td>\n",
       "    </tr>\n",
       "    <tr>\n",
       "      <th>2477</th>\n",
       "      <td>@sivonclaire The fact that you said Title of S...</td>\n",
       "      <td>1</td>\n",
       "      <td>22</td>\n",
       "      <td>100</td>\n",
       "    </tr>\n",
       "    <tr>\n",
       "      <th>1935</th>\n",
       "      <td>@mediatemple And for GS customers, nothing?</td>\n",
       "      <td>0</td>\n",
       "      <td>6</td>\n",
       "      <td>38</td>\n",
       "    </tr>\n",
       "  </tbody>\n",
       "</table>\n",
       "</div>"
      ],
      "text/plain": [
       "                                                 twitts  sentiment  \\\n",
       "3711  I NEED a Looong Vacation after I graduate! Whe...          1   \n",
       "2978  @RealitynTails You are welcome for the #ff sho...          1   \n",
       "2472      Chilling with the ladies!!!! Beautiful out!!           1   \n",
       "2477  @sivonclaire The fact that you said Title of S...          1   \n",
       "1935       @mediatemple And for GS customers, nothing?           0   \n",
       "\n",
       "      word_counts  char_counts  \n",
       "3711           14           62  \n",
       "2978            9           44  \n",
       "2472            6           39  \n",
       "2477           22          100  \n",
       "1935            6           38  "
      ]
     },
     "execution_count": 17,
     "metadata": {},
     "output_type": "execute_result"
    }
   ],
   "source": [
    "df.sample(5)"
   ]
  },
  {
   "cell_type": "markdown",
   "metadata": {},
   "source": [
    "### Average Word Length"
   ]
  },
  {
   "cell_type": "code",
   "execution_count": 18,
   "metadata": {},
   "outputs": [],
   "source": [
    "df['avg_word_len'] = df['char_counts']/df['word_counts']"
   ]
  },
  {
   "cell_type": "code",
   "execution_count": 19,
   "metadata": {},
   "outputs": [
    {
     "data": {
      "text/html": [
       "<div>\n",
       "<style scoped>\n",
       "    .dataframe tbody tr th:only-of-type {\n",
       "        vertical-align: middle;\n",
       "    }\n",
       "\n",
       "    .dataframe tbody tr th {\n",
       "        vertical-align: top;\n",
       "    }\n",
       "\n",
       "    .dataframe thead th {\n",
       "        text-align: right;\n",
       "    }\n",
       "</style>\n",
       "<table border=\"1\" class=\"dataframe\">\n",
       "  <thead>\n",
       "    <tr style=\"text-align: right;\">\n",
       "      <th></th>\n",
       "      <th>twitts</th>\n",
       "      <th>sentiment</th>\n",
       "      <th>word_counts</th>\n",
       "      <th>char_counts</th>\n",
       "      <th>avg_word_len</th>\n",
       "    </tr>\n",
       "  </thead>\n",
       "  <tbody>\n",
       "    <tr>\n",
       "      <th>183</th>\n",
       "      <td>Photo: miss germany  http://tumblr.com/xf825f012</td>\n",
       "      <td>0</td>\n",
       "      <td>4</td>\n",
       "      <td>44</td>\n",
       "      <td>11.000000</td>\n",
       "    </tr>\n",
       "    <tr>\n",
       "      <th>1920</th>\n",
       "      <td>i want to call to selena but i dont live in usa</td>\n",
       "      <td>0</td>\n",
       "      <td>12</td>\n",
       "      <td>36</td>\n",
       "      <td>3.000000</td>\n",
       "    </tr>\n",
       "    <tr>\n",
       "      <th>328</th>\n",
       "      <td>Is depressed he didn't find the charger first</td>\n",
       "      <td>0</td>\n",
       "      <td>8</td>\n",
       "      <td>38</td>\n",
       "      <td>4.750000</td>\n",
       "    </tr>\n",
       "    <tr>\n",
       "      <th>3731</th>\n",
       "      <td>@toriilovesmcfly :0 im making some now so ill ...</td>\n",
       "      <td>1</td>\n",
       "      <td>23</td>\n",
       "      <td>89</td>\n",
       "      <td>3.869565</td>\n",
       "    </tr>\n",
       "    <tr>\n",
       "      <th>1911</th>\n",
       "      <td>I miss Dave Chappelle... (via @beautyfulashley...</td>\n",
       "      <td>0</td>\n",
       "      <td>8</td>\n",
       "      <td>47</td>\n",
       "      <td>5.875000</td>\n",
       "    </tr>\n",
       "  </tbody>\n",
       "</table>\n",
       "</div>"
      ],
      "text/plain": [
       "                                                 twitts  sentiment  \\\n",
       "183    Photo: miss germany  http://tumblr.com/xf825f012          0   \n",
       "1920   i want to call to selena but i dont live in usa           0   \n",
       "328      Is depressed he didn't find the charger first           0   \n",
       "3731  @toriilovesmcfly :0 im making some now so ill ...          1   \n",
       "1911  I miss Dave Chappelle... (via @beautyfulashley...          0   \n",
       "\n",
       "      word_counts  char_counts  avg_word_len  \n",
       "183             4           44     11.000000  \n",
       "1920           12           36      3.000000  \n",
       "328             8           38      4.750000  \n",
       "3731           23           89      3.869565  \n",
       "1911            8           47      5.875000  "
      ]
     },
     "execution_count": 19,
     "metadata": {},
     "output_type": "execute_result"
    }
   ],
   "source": [
    "df.sample(5)"
   ]
  },
  {
   "cell_type": "markdown",
   "metadata": {},
   "source": [
    "### Stop Words Count"
   ]
  },
  {
   "cell_type": "code",
   "execution_count": 20,
   "metadata": {},
   "outputs": [
    {
     "name": "stdout",
     "output_type": "stream",
     "text": [
      "{'was', \"'s\", 'among', 'ca', 'now', 'somewhere', \"'m\", 'with', 'same', 'whole', 'on', 'sometime', 'until', 'those', 'above', 're', 'full', 'whose', 'becomes', 'once', 'using', 'four', 'whereafter', 'during', 'can', 'various', 'via', 'him', 'they', 'sixty', 'became', 'otherwise', '‘ll', \"'ve\", 'most', 'used', 'two', 'enough', 'under', 'hence', 'must', 'she', 'because', 'did', 'whence', 'since', '‘m', '‘re', 'see', 'toward', 'back', 'thereafter', 'together', 'ours', 'almost', 'than', 'never', 'from', 'this', 'out', 'twelve', 'five', 'per', 'am', 'hers', 'afterwards', 'move', \"'ll\", 'their', 'been', 'meanwhile', 'already', 'perhaps', 'will', 'done', 'unless', 'else', 'who', 'what', '’s', 'after', 'a', 'doing', 'then', '‘s', 'would', 'whereas', 'without', 'whoever', 'these', 'at', 'do', 'somehow', 'also', 'bottom', 'former', 'myself', 'eight', 'hereupon', 'had', 'first', 'less', 'only', 'someone', 'be', 'before', 'forty', 'anywhere', 'not', 'his', 'herein', 'whatever', 'thence', 'again', 'more', 'may', 'often', 'get', 'about', 'fifty', 'onto', 'wherever', 'you', 'besides', 'seems', 'therein', 'say', 'name', 'them', 'all', 'fifteen', 'anyhow', 'as', 'us', 'within', 'to', '’re', \"'d\", 'for', 'we', 'are', 'much', 'her', 'indeed', 'seemed', 'none', 'noone', 'but', 'namely', 'should', 'n‘t', 'rather', '‘d', 'both', 'third', 'it', 'when', 'ever', 'really', 'whether', 'off', 'where', 'cannot', 'nobody', 'into', 'just', 'nowhere', 'several', 'front', 'beside', 'keep', 'whom', 'that', 'very', 'seeming', '’m', '’ve', 'sometimes', 'yours', 'does', 'here', 'how', 'hundred', 'always', 'own', 'my', 'other', 'next', 'along', 'quite', 'such', 'no', 'wherein', 'nothing', 'up', 'across', 'its', 'even', 'still', 'were', 'there', 'regarding', 'serious', 'every', 'ten', 'beyond', 'although', '‘ve', 'behind', 'well', 'being', 'your', 'by', 'many', 'mostly', 'i', 'side', 'go', 'latterly', 'between', 'though', 'take', 'elsewhere', 'and', 'thereby', '’d', 'become', 'however', 'thereupon', 'so', 'last', 'whereby', 'give', 'could', 'whenever', 'the', 'has', 'thus', \"n't\", 'three', 'one', 'least', 'upon', 'latter', 'some', 'anything', 'empty', 'anyone', 'below', 'hereby', 'few', 'something', 'me', 'any', 'which', 'yourself', 'everything', 'yet', 'itself', 'part', 'throughout', 'alone', 'either', 'make', 'formerly', 'in', 'nevertheless', 'or', 'becoming', 'others', 'amount', 'except', 'while', 'made', 'whereupon', 'an', 'eleven', 'might', 'beforehand', 'seem', 'neither', 'himself', 'please', 'too', 'if', 'mine', 'over', 'is', 'down', 'anyway', 'of', 'ourselves', 'therefore', 'hereafter', 'nor', 'yourselves', 'he', 'n’t', \"'re\", 'each', 'due', 'against', 'whither', 'around', 'why', 'put', 'further', 'top', 'herself', 'everyone', 'themselves', '’ll', 'everywhere', 'thru', 'call', 'twenty', 'nine', 'towards', 'another', 'amongst', 'through', 'our', 'six', 'have', 'moreover', 'show'}\n"
     ]
    }
   ],
   "source": [
    "print(stopwords)"
   ]
  },
  {
   "cell_type": "code",
   "execution_count": 21,
   "metadata": {},
   "outputs": [
    {
     "data": {
      "text/plain": [
       "326"
      ]
     },
     "execution_count": 21,
     "metadata": {},
     "output_type": "execute_result"
    }
   ],
   "source": [
    "len(stopwords)"
   ]
  },
  {
   "cell_type": "code",
   "execution_count": 22,
   "metadata": {},
   "outputs": [],
   "source": [
    "df['stop_words_len'] = df['twitts'].apply(lambda x: len([t for t in x.split() if t in stopwords]))"
   ]
  },
  {
   "cell_type": "markdown",
   "metadata": {},
   "source": [
    "### #Hashtags and @Mentions Count"
   ]
  },
  {
   "cell_type": "code",
   "execution_count": 23,
   "metadata": {},
   "outputs": [],
   "source": [
    "# [t for t in x.split() if t.starstwith('#')]"
   ]
  },
  {
   "cell_type": "code",
   "execution_count": 24,
   "metadata": {},
   "outputs": [],
   "source": [
    "df['hashtags_count'] = df['twitts'].apply(lambda x: len([t for t in x.split() if t.startswith('#')]))"
   ]
  },
  {
   "cell_type": "code",
   "execution_count": 25,
   "metadata": {},
   "outputs": [],
   "source": [
    "df['mentions_count'] = df['twitts'].apply(lambda x: len([t for t in x.split() if t.startswith('@')]))"
   ]
  },
  {
   "cell_type": "code",
   "execution_count": 26,
   "metadata": {},
   "outputs": [
    {
     "data": {
      "text/html": [
       "<div>\n",
       "<style scoped>\n",
       "    .dataframe tbody tr th:only-of-type {\n",
       "        vertical-align: middle;\n",
       "    }\n",
       "\n",
       "    .dataframe tbody tr th {\n",
       "        vertical-align: top;\n",
       "    }\n",
       "\n",
       "    .dataframe thead th {\n",
       "        text-align: right;\n",
       "    }\n",
       "</style>\n",
       "<table border=\"1\" class=\"dataframe\">\n",
       "  <thead>\n",
       "    <tr style=\"text-align: right;\">\n",
       "      <th></th>\n",
       "      <th>twitts</th>\n",
       "      <th>sentiment</th>\n",
       "      <th>word_counts</th>\n",
       "      <th>char_counts</th>\n",
       "      <th>avg_word_len</th>\n",
       "      <th>stop_words_len</th>\n",
       "      <th>hashtags_count</th>\n",
       "      <th>mentions_count</th>\n",
       "    </tr>\n",
       "  </thead>\n",
       "  <tbody>\n",
       "    <tr>\n",
       "      <th>1234</th>\n",
       "      <td>@IanHanlon Me and Scobz goal is to get a celeb...</td>\n",
       "      <td>0</td>\n",
       "      <td>28</td>\n",
       "      <td>98</td>\n",
       "      <td>3.500000</td>\n",
       "      <td>18</td>\n",
       "      <td>0</td>\n",
       "      <td>1</td>\n",
       "    </tr>\n",
       "    <tr>\n",
       "      <th>736</th>\n",
       "      <td>@MsCeMontgomery UGH!!</td>\n",
       "      <td>0</td>\n",
       "      <td>2</td>\n",
       "      <td>20</td>\n",
       "      <td>10.000000</td>\n",
       "      <td>0</td>\n",
       "      <td>0</td>\n",
       "      <td>1</td>\n",
       "    </tr>\n",
       "    <tr>\n",
       "      <th>1915</th>\n",
       "      <td>I think I am going to be sick this effing back...</td>\n",
       "      <td>0</td>\n",
       "      <td>13</td>\n",
       "      <td>43</td>\n",
       "      <td>3.307692</td>\n",
       "      <td>6</td>\n",
       "      <td>0</td>\n",
       "      <td>0</td>\n",
       "    </tr>\n",
       "    <tr>\n",
       "      <th>275</th>\n",
       "      <td>@RoxanneAmelia who's the love of your life? el...</td>\n",
       "      <td>0</td>\n",
       "      <td>18</td>\n",
       "      <td>87</td>\n",
       "      <td>4.833333</td>\n",
       "      <td>8</td>\n",
       "      <td>0</td>\n",
       "      <td>1</td>\n",
       "    </tr>\n",
       "    <tr>\n",
       "      <th>3236</th>\n",
       "      <td>wow, getting a tad sleepy so ima hit the head ...</td>\n",
       "      <td>1</td>\n",
       "      <td>14</td>\n",
       "      <td>54</td>\n",
       "      <td>3.857143</td>\n",
       "      <td>3</td>\n",
       "      <td>0</td>\n",
       "      <td>0</td>\n",
       "    </tr>\n",
       "  </tbody>\n",
       "</table>\n",
       "</div>"
      ],
      "text/plain": [
       "                                                 twitts  sentiment  \\\n",
       "1234  @IanHanlon Me and Scobz goal is to get a celeb...          0   \n",
       "736                              @MsCeMontgomery UGH!!           0   \n",
       "1915  I think I am going to be sick this effing back...          0   \n",
       "275   @RoxanneAmelia who's the love of your life? el...          0   \n",
       "3236  wow, getting a tad sleepy so ima hit the head ...          1   \n",
       "\n",
       "      word_counts  char_counts  avg_word_len  stop_words_len  hashtags_count  \\\n",
       "1234           28           98      3.500000              18               0   \n",
       "736             2           20     10.000000               0               0   \n",
       "1915           13           43      3.307692               6               0   \n",
       "275            18           87      4.833333               8               0   \n",
       "3236           14           54      3.857143               3               0   \n",
       "\n",
       "      mentions_count  \n",
       "1234               1  \n",
       "736                1  \n",
       "1915               0  \n",
       "275                1  \n",
       "3236               0  "
      ]
     },
     "execution_count": 26,
     "metadata": {},
     "output_type": "execute_result"
    }
   ],
   "source": [
    "df.sample(5)"
   ]
  },
  {
   "cell_type": "markdown",
   "metadata": {},
   "source": [
    "### Numeric Digits Count"
   ]
  },
  {
   "cell_type": "code",
   "execution_count": 27,
   "metadata": {},
   "outputs": [
    {
     "data": {
      "text/plain": [
       "['this', 'is', '1', 'and', '2']"
      ]
     },
     "execution_count": 27,
     "metadata": {},
     "output_type": "execute_result"
    }
   ],
   "source": [
    "x = 'this is 1 and 2'\n",
    "x.split()"
   ]
  },
  {
   "cell_type": "code",
   "execution_count": 28,
   "metadata": {},
   "outputs": [
    {
     "data": {
      "text/plain": [
       "True"
      ]
     },
     "execution_count": 28,
     "metadata": {},
     "output_type": "execute_result"
    }
   ],
   "source": [
    "x.split()[4].isdigit()"
   ]
  },
  {
   "cell_type": "code",
   "execution_count": 29,
   "metadata": {},
   "outputs": [
    {
     "data": {
      "text/plain": [
       "['1', '2']"
      ]
     },
     "execution_count": 29,
     "metadata": {},
     "output_type": "execute_result"
    }
   ],
   "source": [
    "[t for t in x.split() if t.isdigit()]"
   ]
  },
  {
   "cell_type": "code",
   "execution_count": 30,
   "metadata": {},
   "outputs": [],
   "source": [
    "df['numeric_count'] = df['twitts'].apply(lambda x : len([t for t in x.split() if t.isdigit()]))"
   ]
  },
  {
   "cell_type": "code",
   "execution_count": 31,
   "metadata": {},
   "outputs": [
    {
     "data": {
      "text/html": [
       "<div>\n",
       "<style scoped>\n",
       "    .dataframe tbody tr th:only-of-type {\n",
       "        vertical-align: middle;\n",
       "    }\n",
       "\n",
       "    .dataframe tbody tr th {\n",
       "        vertical-align: top;\n",
       "    }\n",
       "\n",
       "    .dataframe thead th {\n",
       "        text-align: right;\n",
       "    }\n",
       "</style>\n",
       "<table border=\"1\" class=\"dataframe\">\n",
       "  <thead>\n",
       "    <tr style=\"text-align: right;\">\n",
       "      <th></th>\n",
       "      <th>twitts</th>\n",
       "      <th>sentiment</th>\n",
       "      <th>word_counts</th>\n",
       "      <th>char_counts</th>\n",
       "      <th>avg_word_len</th>\n",
       "      <th>stop_words_len</th>\n",
       "      <th>hashtags_count</th>\n",
       "      <th>mentions_count</th>\n",
       "      <th>numeric_count</th>\n",
       "    </tr>\n",
       "  </thead>\n",
       "  <tbody>\n",
       "    <tr>\n",
       "      <th>1714</th>\n",
       "      <td>@carole_hicks Too far for me to go for lunch</td>\n",
       "      <td>0</td>\n",
       "      <td>9</td>\n",
       "      <td>36</td>\n",
       "      <td>4.000000</td>\n",
       "      <td>5</td>\n",
       "      <td>0</td>\n",
       "      <td>1</td>\n",
       "      <td>0</td>\n",
       "    </tr>\n",
       "    <tr>\n",
       "      <th>2693</th>\n",
       "      <td>@JodieGiese yeah- there was definitely a pillo...</td>\n",
       "      <td>1</td>\n",
       "      <td>8</td>\n",
       "      <td>47</td>\n",
       "      <td>5.875000</td>\n",
       "      <td>3</td>\n",
       "      <td>0</td>\n",
       "      <td>1</td>\n",
       "      <td>0</td>\n",
       "    </tr>\n",
       "    <tr>\n",
       "      <th>3285</th>\n",
       "      <td>What a day! Pikes mkt, bainbridge island, undg...</td>\n",
       "      <td>1</td>\n",
       "      <td>20</td>\n",
       "      <td>116</td>\n",
       "      <td>5.800000</td>\n",
       "      <td>3</td>\n",
       "      <td>0</td>\n",
       "      <td>0</td>\n",
       "      <td>0</td>\n",
       "    </tr>\n",
       "    <tr>\n",
       "      <th>331</th>\n",
       "      <td>@adianti thankss tyyy... sedih, soalnya baju2 ...</td>\n",
       "      <td>0</td>\n",
       "      <td>9</td>\n",
       "      <td>58</td>\n",
       "      <td>6.444444</td>\n",
       "      <td>0</td>\n",
       "      <td>0</td>\n",
       "      <td>1</td>\n",
       "      <td>0</td>\n",
       "    </tr>\n",
       "    <tr>\n",
       "      <th>1575</th>\n",
       "      <td>@tequilasam   lol - you wouldnt bluddy sunbath...</td>\n",
       "      <td>0</td>\n",
       "      <td>13</td>\n",
       "      <td>68</td>\n",
       "      <td>5.230769</td>\n",
       "      <td>5</td>\n",
       "      <td>0</td>\n",
       "      <td>1</td>\n",
       "      <td>0</td>\n",
       "    </tr>\n",
       "  </tbody>\n",
       "</table>\n",
       "</div>"
      ],
      "text/plain": [
       "                                                 twitts  sentiment  \\\n",
       "1714      @carole_hicks Too far for me to go for lunch           0   \n",
       "2693  @JodieGiese yeah- there was definitely a pillo...          1   \n",
       "3285  What a day! Pikes mkt, bainbridge island, undg...          1   \n",
       "331   @adianti thankss tyyy... sedih, soalnya baju2 ...          0   \n",
       "1575  @tequilasam   lol - you wouldnt bluddy sunbath...          0   \n",
       "\n",
       "      word_counts  char_counts  avg_word_len  stop_words_len  hashtags_count  \\\n",
       "1714            9           36      4.000000               5               0   \n",
       "2693            8           47      5.875000               3               0   \n",
       "3285           20          116      5.800000               3               0   \n",
       "331             9           58      6.444444               0               0   \n",
       "1575           13           68      5.230769               5               0   \n",
       "\n",
       "      mentions_count  numeric_count  \n",
       "1714               1              0  \n",
       "2693               1              0  \n",
       "3285               0              0  \n",
       "331                1              0  \n",
       "1575               1              0  "
      ]
     },
     "execution_count": 31,
     "metadata": {},
     "output_type": "execute_result"
    }
   ],
   "source": [
    "df.sample(5)"
   ]
  },
  {
   "cell_type": "markdown",
   "metadata": {},
   "source": [
    "### Upper Case Words Count"
   ]
  },
  {
   "cell_type": "code",
   "execution_count": 32,
   "metadata": {},
   "outputs": [],
   "source": [
    "x = \"I GOT THE JOB\"\n",
    "y = \"I got the job\""
   ]
  },
  {
   "cell_type": "code",
   "execution_count": 33,
   "metadata": {},
   "outputs": [
    {
     "data": {
      "text/plain": [
       "['I', 'GOT', 'THE', 'JOB']"
      ]
     },
     "execution_count": 33,
     "metadata": {},
     "output_type": "execute_result"
    }
   ],
   "source": [
    "[t for t in x.split() if t.isupper()]"
   ]
  },
  {
   "cell_type": "code",
   "execution_count": 34,
   "metadata": {},
   "outputs": [
    {
     "data": {
      "text/plain": [
       "['I']"
      ]
     },
     "execution_count": 34,
     "metadata": {},
     "output_type": "execute_result"
    }
   ],
   "source": [
    "[t for t in y.split() if t.isupper()]"
   ]
  },
  {
   "cell_type": "code",
   "execution_count": 35,
   "metadata": {},
   "outputs": [],
   "source": [
    "df['upper_count'] = df['twitts'].apply(lambda x: len([t for t in x.split() if t.isupper()]))"
   ]
  },
  {
   "cell_type": "code",
   "execution_count": 36,
   "metadata": {},
   "outputs": [
    {
     "data": {
      "text/html": [
       "<div>\n",
       "<style scoped>\n",
       "    .dataframe tbody tr th:only-of-type {\n",
       "        vertical-align: middle;\n",
       "    }\n",
       "\n",
       "    .dataframe tbody tr th {\n",
       "        vertical-align: top;\n",
       "    }\n",
       "\n",
       "    .dataframe thead th {\n",
       "        text-align: right;\n",
       "    }\n",
       "</style>\n",
       "<table border=\"1\" class=\"dataframe\">\n",
       "  <thead>\n",
       "    <tr style=\"text-align: right;\">\n",
       "      <th></th>\n",
       "      <th>twitts</th>\n",
       "      <th>sentiment</th>\n",
       "      <th>word_counts</th>\n",
       "      <th>char_counts</th>\n",
       "      <th>avg_word_len</th>\n",
       "      <th>stop_words_len</th>\n",
       "      <th>hashtags_count</th>\n",
       "      <th>mentions_count</th>\n",
       "      <th>numeric_count</th>\n",
       "      <th>upper_count</th>\n",
       "    </tr>\n",
       "  </thead>\n",
       "  <tbody>\n",
       "    <tr>\n",
       "      <th>3486</th>\n",
       "      <td>@Blackrush Must have had a busy Sunday</td>\n",
       "      <td>1</td>\n",
       "      <td>7</td>\n",
       "      <td>32</td>\n",
       "      <td>4.571429</td>\n",
       "      <td>3</td>\n",
       "      <td>0</td>\n",
       "      <td>1</td>\n",
       "      <td>0</td>\n",
       "      <td>0</td>\n",
       "    </tr>\n",
       "    <tr>\n",
       "      <th>1384</th>\n",
       "      <td>Too Emotional right noww</td>\n",
       "      <td>0</td>\n",
       "      <td>4</td>\n",
       "      <td>21</td>\n",
       "      <td>5.250000</td>\n",
       "      <td>0</td>\n",
       "      <td>0</td>\n",
       "      <td>0</td>\n",
       "      <td>0</td>\n",
       "      <td>0</td>\n",
       "    </tr>\n",
       "    <tr>\n",
       "      <th>1324</th>\n",
       "      <td>ARGHHHH...have misplaced my latest draft of th...</td>\n",
       "      <td>0</td>\n",
       "      <td>17</td>\n",
       "      <td>87</td>\n",
       "      <td>5.117647</td>\n",
       "      <td>6</td>\n",
       "      <td>0</td>\n",
       "      <td>0</td>\n",
       "      <td>0</td>\n",
       "      <td>1</td>\n",
       "    </tr>\n",
       "    <tr>\n",
       "      <th>784</th>\n",
       "      <td>just doing college work</td>\n",
       "      <td>0</td>\n",
       "      <td>4</td>\n",
       "      <td>20</td>\n",
       "      <td>5.000000</td>\n",
       "      <td>2</td>\n",
       "      <td>0</td>\n",
       "      <td>0</td>\n",
       "      <td>0</td>\n",
       "      <td>0</td>\n",
       "    </tr>\n",
       "    <tr>\n",
       "      <th>125</th>\n",
       "      <td>@MasterAwesome 23 almost 24   im an old lady</td>\n",
       "      <td>0</td>\n",
       "      <td>8</td>\n",
       "      <td>35</td>\n",
       "      <td>4.375000</td>\n",
       "      <td>2</td>\n",
       "      <td>0</td>\n",
       "      <td>1</td>\n",
       "      <td>2</td>\n",
       "      <td>0</td>\n",
       "    </tr>\n",
       "  </tbody>\n",
       "</table>\n",
       "</div>"
      ],
      "text/plain": [
       "                                                 twitts  sentiment  \\\n",
       "3486            @Blackrush Must have had a busy Sunday           1   \n",
       "1384                           Too Emotional right noww          0   \n",
       "1324  ARGHHHH...have misplaced my latest draft of th...          0   \n",
       "784                            just doing college work           0   \n",
       "125        @MasterAwesome 23 almost 24   im an old lady          0   \n",
       "\n",
       "      word_counts  char_counts  avg_word_len  stop_words_len  hashtags_count  \\\n",
       "3486            7           32      4.571429               3               0   \n",
       "1384            4           21      5.250000               0               0   \n",
       "1324           17           87      5.117647               6               0   \n",
       "784             4           20      5.000000               2               0   \n",
       "125             8           35      4.375000               2               0   \n",
       "\n",
       "      mentions_count  numeric_count  upper_count  \n",
       "3486               1              0            0  \n",
       "1384               0              0            0  \n",
       "1324               0              0            1  \n",
       "784                0              0            0  \n",
       "125                1              2            0  "
      ]
     },
     "execution_count": 36,
     "metadata": {},
     "output_type": "execute_result"
    }
   ],
   "source": [
    "df.sample(5)"
   ]
  },
  {
   "cell_type": "code",
   "execution_count": 37,
   "metadata": {},
   "outputs": [
    {
     "data": {
      "text/plain": [
       "\"Hear it's raining in SF  Oh well, we will probably go the the Eagle for beer bust anyway.\""
      ]
     },
     "execution_count": 37,
     "metadata": {},
     "output_type": "execute_result"
    }
   ],
   "source": [
    "df.iloc[483]['twitts']"
   ]
  },
  {
   "cell_type": "markdown",
   "metadata": {},
   "source": [
    "### Lower Case Conversion"
   ]
  },
  {
   "cell_type": "code",
   "execution_count": 38,
   "metadata": {},
   "outputs": [],
   "source": [
    "df['twitts'] = df['twitts'].apply(lambda x: str(x).lower())"
   ]
  },
  {
   "cell_type": "code",
   "execution_count": 39,
   "metadata": {},
   "outputs": [
    {
     "data": {
      "text/html": [
       "<div>\n",
       "<style scoped>\n",
       "    .dataframe tbody tr th:only-of-type {\n",
       "        vertical-align: middle;\n",
       "    }\n",
       "\n",
       "    .dataframe tbody tr th {\n",
       "        vertical-align: top;\n",
       "    }\n",
       "\n",
       "    .dataframe thead th {\n",
       "        text-align: right;\n",
       "    }\n",
       "</style>\n",
       "<table border=\"1\" class=\"dataframe\">\n",
       "  <thead>\n",
       "    <tr style=\"text-align: right;\">\n",
       "      <th></th>\n",
       "      <th>twitts</th>\n",
       "      <th>sentiment</th>\n",
       "      <th>word_counts</th>\n",
       "      <th>char_counts</th>\n",
       "      <th>avg_word_len</th>\n",
       "      <th>stop_words_len</th>\n",
       "      <th>hashtags_count</th>\n",
       "      <th>mentions_count</th>\n",
       "      <th>numeric_count</th>\n",
       "      <th>upper_count</th>\n",
       "    </tr>\n",
       "  </thead>\n",
       "  <tbody>\n",
       "    <tr>\n",
       "      <th>678</th>\n",
       "      <td>been teaching when all i want to do is sleep  ...</td>\n",
       "      <td>0</td>\n",
       "      <td>18</td>\n",
       "      <td>77</td>\n",
       "      <td>4.277778</td>\n",
       "      <td>8</td>\n",
       "      <td>0</td>\n",
       "      <td>0</td>\n",
       "      <td>0</td>\n",
       "      <td>1</td>\n",
       "    </tr>\n",
       "    <tr>\n",
       "      <th>2005</th>\n",
       "      <td>didnt get to see up, but was pretty satisfied ...</td>\n",
       "      <td>1</td>\n",
       "      <td>17</td>\n",
       "      <td>78</td>\n",
       "      <td>4.588235</td>\n",
       "      <td>8</td>\n",
       "      <td>0</td>\n",
       "      <td>0</td>\n",
       "      <td>0</td>\n",
       "      <td>0</td>\n",
       "    </tr>\n",
       "    <tr>\n",
       "      <th>3676</th>\n",
       "      <td>tonight was a good night</td>\n",
       "      <td>1</td>\n",
       "      <td>5</td>\n",
       "      <td>20</td>\n",
       "      <td>4.000000</td>\n",
       "      <td>2</td>\n",
       "      <td>0</td>\n",
       "      <td>0</td>\n",
       "      <td>0</td>\n",
       "      <td>0</td>\n",
       "    </tr>\n",
       "    <tr>\n",
       "      <th>1985</th>\n",
       "      <td>@clickwindrepeat she has a bald spot on her ba...</td>\n",
       "      <td>0</td>\n",
       "      <td>21</td>\n",
       "      <td>100</td>\n",
       "      <td>4.761905</td>\n",
       "      <td>11</td>\n",
       "      <td>0</td>\n",
       "      <td>2</td>\n",
       "      <td>0</td>\n",
       "      <td>0</td>\n",
       "    </tr>\n",
       "    <tr>\n",
       "      <th>3636</th>\n",
       "      <td>@texasheartland hang in there! tomorrow will p...</td>\n",
       "      <td>1</td>\n",
       "      <td>9</td>\n",
       "      <td>56</td>\n",
       "      <td>6.222222</td>\n",
       "      <td>3</td>\n",
       "      <td>0</td>\n",
       "      <td>1</td>\n",
       "      <td>0</td>\n",
       "      <td>0</td>\n",
       "    </tr>\n",
       "  </tbody>\n",
       "</table>\n",
       "</div>"
      ],
      "text/plain": [
       "                                                 twitts  sentiment  \\\n",
       "678   been teaching when all i want to do is sleep  ...          0   \n",
       "2005  didnt get to see up, but was pretty satisfied ...          1   \n",
       "3676                          tonight was a good night           1   \n",
       "1985  @clickwindrepeat she has a bald spot on her ba...          0   \n",
       "3636  @texasheartland hang in there! tomorrow will p...          1   \n",
       "\n",
       "      word_counts  char_counts  avg_word_len  stop_words_len  hashtags_count  \\\n",
       "678            18           77      4.277778               8               0   \n",
       "2005           17           78      4.588235               8               0   \n",
       "3676            5           20      4.000000               2               0   \n",
       "1985           21          100      4.761905              11               0   \n",
       "3636            9           56      6.222222               3               0   \n",
       "\n",
       "      mentions_count  numeric_count  upper_count  \n",
       "678                0              0            1  \n",
       "2005               0              0            0  \n",
       "3676               0              0            0  \n",
       "1985               2              0            0  \n",
       "3636               1              0            0  "
      ]
     },
     "execution_count": 39,
     "metadata": {},
     "output_type": "execute_result"
    }
   ],
   "source": [
    "df.sample(5)"
   ]
  },
  {
   "cell_type": "markdown",
   "metadata": {},
   "source": [
    "## Contraction to Expansion"
   ]
  },
  {
   "cell_type": "code",
   "execution_count": 40,
   "metadata": {},
   "outputs": [],
   "source": [
    "# x = \"don't shouldn't, i'll \"  # do not should not i will"
   ]
  },
  {
   "cell_type": "code",
   "execution_count": 41,
   "metadata": {},
   "outputs": [
    {
     "name": "stdout",
     "output_type": "stream",
     "text": [
      "Requirement already satisfied: contractions in c:\\users\\user\\miniconda3\\lib\\site-packages (0.1.73)\n",
      "Requirement already satisfied: textsearch>=0.0.21 in c:\\users\\user\\miniconda3\\lib\\site-packages (from contractions) (0.0.24)\n",
      "Requirement already satisfied: anyascii in c:\\users\\user\\miniconda3\\lib\\site-packages (from textsearch>=0.0.21->contractions) (0.3.2)\n",
      "Requirement already satisfied: pyahocorasick in c:\\users\\user\\miniconda3\\lib\\site-packages (from textsearch>=0.0.21->contractions) (2.0.0)\n",
      "Note: you may need to restart the kernel to use updated packages.\n"
     ]
    }
   ],
   "source": [
    "pip install contractions"
   ]
  },
  {
   "cell_type": "code",
   "execution_count": 42,
   "metadata": {},
   "outputs": [],
   "source": [
    "import contractions"
   ]
  },
  {
   "cell_type": "code",
   "execution_count": 43,
   "metadata": {},
   "outputs": [],
   "source": [
    "custom_contractions = {\n",
    "\"a’ight\": \"alright\",\n",
    "\"ain’t\" : \"i am not\",\n",
    "\"amn’t\": \"am not\",\n",
    "\"arencha\" : \"are not you\",\n",
    "\"aren’t\": \"are not\",\n",
    "\"’bout\": \"about\",\n",
    "\"boy's\": \"boy has\",\n",
    "\"can’t\": \"cannot\",\n",
    "\"cap’n\": \"captain\",\n",
    "\"’cause\" : \"because\",\n",
    "\"cuz\": \"because\",\n",
    "\"’cept\": \"except\",\n",
    "\"could’ve\": \"could have\",\n",
    "\"couldn’t\": \"could not\",\n",
    "\"couldn’t’ve\" :\t\"could not have\",\n",
    "\"cuppa\" : \"cup of\",\n",
    "\"daren’t\" : \"dare not\",\n",
    "\"daresn’t\" : \"dare not\",\n",
    "\"dasn’t\" : \"dare not\",\n",
    "\"didn’t\": \"did not\",\n",
    "\"doesn't\": \"does not\",\n",
    "\"don’t\": \"do not\",\n",
    "\"dunno\"\t: \"do not know\",\n",
    "\"d’ye\" : \"do you\",\n",
    "\"d’ya\": \"did you\",\n",
    "\"e’en\":\t\"even\",\n",
    "\"e’er\": \"ever\",\n",
    "\"’em\": \"them\",\n",
    "\"everybody’s\": \"everybody is\",\n",
    "\"everyone’s\": \"everyone is\",\n",
    "\"everything's\": \"everything is\",\n",
    "\"finna\": \"fixing to\",\n",
    "\"fo’c’sle\": \"forecastle\",\n",
    "\"’gainst\" : \"against\",\n",
    "\"g’day\":\"good day\",\n",
    "\"gimme\": \"give me\",\n",
    "\"girl's\": \"girl is\",\n",
    "\"giv’n\": \"given\",\n",
    "\"gi’z\": \"give us\",\n",
    "\"gonna\":\"going to\",\n",
    "\"gon’t\": \"go not\",\n",
    "\"gotta\": \"got to\",\n",
    "\"guy's\": \"guy is\",\n",
    "\"hadn’t\" :\t\"had not\",\n",
    "\"had’ve\": \"had have\",\n",
    "\"hasn’t\": \"has not\",\n",
    "\"haven’t\":\t\"have not\",\n",
    "\"he’d\": \"he had\",\n",
    "\"he’d\": \"he would\",\n",
    "\"he'll\": \"he will\",\n",
    "\"helluva\": \"hell of a\",\n",
    "\"yes'nt\":\" yes not\",\n",
    "\"he’s \": \"he is\",\n",
    "\"here’s\": \"here is\",\n",
    "\"how’d\": \"how did\",\n",
    "\"howdy\": \"how do you do\",\n",
    "\"how’ll\": \"how shall\",\n",
    "\"how’re\": \"how are\",\n",
    "\"how’s\": \"how is\",\n",
    "\"i’d\":\t\"I would\",\n",
    "\"i’d’ve\": \"I would have\",\n",
    "\"i’d’nt\": \"I would not\",\n",
    "\"i’d’nt’ve\": \"I would not have\",\n",
    "\"if’n\": \"If and when\",\n",
    "\"i’ll\": \"I will\",\n",
    "\"i’m\": \"I am\",\n",
    "\"imma\": \"I am going to\",\n",
    "\"i’mo\": \"I am going to\",\n",
    "\"innit\": \"isn’t it\",\n",
    "\"ion\": \"I do not\",\n",
    "\"i’ve\":\t\"I have\",\n",
    "\"isn’t\":\" is not\",\n",
    "\"it’d\": \"it would\",\n",
    "\"it’ll\": \"it will\",\n",
    "\"it’s\": \"it is\",\n",
    "\"idunno\": \"I don’t know\",\n",
    "\"kinda\": \"kind of\",\n",
    "\"let’s\": \"let us\",\n",
    "\"loven’t\": \"love not\",\n",
    "\"ma’am\": \"madam\",\n",
    "\"mayn’t\": \"may not\",\n",
    "\"may’ve\": \"may have\",\n",
    "\"methinks\": \"I think\",\n",
    "\"mightn’t\": \"might not\",\n",
    "\"might’ve\": \"might have\",\n",
    "\"mine’s\": \"mine is\",\n",
    "\"mustn’t\": \"must not\",\n",
    "\"mustn’t’ve\": \"must not have\",\n",
    "\"must’ve\": \"must have\",\n",
    "\"’neath\": \"beneath\",\n",
    "\"needn’t\": \"need not\",\n",
    "\"nal\": \"and all\",\n",
    "\"ne’er\": \"never\",\n",
    "\"o’er\":\t\"over\",\n",
    "\"ol’\": \"old\",\n",
    "\"ought’ve\": \"ought have\",\n",
    "\"oughtn’t\": \"ought not\",\n",
    "\"oughtn’t’ve\": \"ought not have\",\n",
    "\"’round\": \"around\",\n",
    "\"’s\": \"is\",\n",
    "\"shan’t\": \"shall not\",\n",
    "\"she’d\": \"she would\",\n",
    "\"she’ll\": \"she will\",\n",
    "\"she’s\": \"she is\",\n",
    "\"should’ve\": \"should have\",\n",
    "\"shouldn’t\": \"should not\",\n",
    "\"shouldn’t’ve\": \"should not have\",\n",
    "\"somebody’s\" : \"somebody has\",\n",
    "\"someone’s\": \"someone is\",\n",
    "\"something’s\": \"something is\",\n",
    "\"so’re\": \"so are\",\n",
    "\"so’s\": \"so is\",\n",
    "\"so’ve\": \"so have\",\n",
    "\"that’ll\": \"that will\",\n",
    "\"that’re\": \"that are\",\n",
    "\"that’s\": \"that is\",\n",
    "\"that’d\": \"that would\",\n",
    "\"there’d\": \"there would\",\n",
    "\"there’ll\": \"there will\",\n",
    "\"there’re\": \"there are\",\n",
    "\"there’s\": \"there is\",\n",
    "\"these’re\": \"these are\",\n",
    "\"these’ve\": \"these have\",\n",
    "\"they’d\": \"they would\",\n",
    "\"they’d've\": \"they would have\",\n",
    "\"they’ll\": \"they will\",\n",
    "\"they’re\": \"they are\",\n",
    "\"they’ve\": \"they have\",\n",
    "\"this’s\": \"this is\",\n",
    "\"those’re\": \"those are\",\n",
    "\"those’ve\": \"those have\",\n",
    "\"’thout\": \"without\",\n",
    "\"’til\": \"until\",\n",
    "\"’tis\": \"it is\",\n",
    "\"to’ve\": \"to have\",\n",
    "\"tryna\": \"trying to\",\n",
    "\"’twas\": \"it was\",\n",
    "\"’tween\": \"between\",\n",
    "\"’twere\": \"it were\",\n",
    "\"w’all\": \"we all\",\n",
    "\"w’at\": \"we at\",\n",
    "\"ur\": \"your\",\n",
    "\"wanna\": \"want to\",\n",
    "\"wasn’t\": \"was not\",\n",
    "\"we’d\": \"we would\",\n",
    "\"we’d’ve\": \"we would have\",\n",
    "\"we’ll\": \"we will\",\n",
    "\"we’re\": \"we are\",\n",
    "\"we’ve\": \"we have\",\n",
    "\"weren’t\": \"were not\",\n",
    "\"whatcha\": \t\"what are you\",\n",
    "\"what’d\": \"what did\",\n",
    "\"what’ll\": \"what will\",\n",
    "\"what’re\": \t\"what are\",\n",
    "\"what’s\": \"what is\",\n",
    "\"what’ve\": \"what have\",\n",
    "\"when’s\": \"when is\",\n",
    "\"where’d\": \"where did\",\n",
    "\"where’ll\": \"where will\",\n",
    "\"where’re\": \"where are\",\n",
    "\"where’s\": \t\"where is\",\n",
    "\"where’ve\": \"where have\",\n",
    "\"which’d\": \"which would\",\n",
    "\"which’ll\": \"which will\",\n",
    "\"which’re\": \"which are\",\n",
    "\"which’s\": \t\"which is\",\n",
    "\"which’ve\": \"which have\",\n",
    "\"who’d\": \"who would\",\n",
    "\"who’d’ve\": \"who would have\",\n",
    "\"who’ll\": \"who will\",\n",
    "\"who’re\": \"who are\",\n",
    "\"who’s\": \"who is\",\n",
    "\"who’ve\": \"who have\",\n",
    "\"why’d\": \"why did\",\n",
    "\"why’re\": \"why are\",\n",
    "\"why’s\": \"why is\",\n",
    "\"willn’t\": \t\"will not\",\n",
    "\"won’t\": \"will not\",\n",
    "\"wonnot\": \"will not\",\n",
    "\"would’ve\": \"would have\",\n",
    "\"wouldn’t\": \"would not\",\n",
    "\"wouldn’t’ve\": \"would not have\",\n",
    "\"y’ain’t \":\t\"you are not\",\n",
    "\"y’all\": \"you all\",\n",
    "\"y’all’d’ve\": \"you all would have\",\n",
    "\"y’all’dn't’ve\":\"you all would not have\",\n",
    "\"y’all’re\": \"you all are\",\n",
    "\"y’all’ren’t\": \t\"you all are not\",\n",
    "\"y’at\": \"you at\",\n",
    "\"yes’m\": \"yes madam\",\n",
    "\"yever\": \"have you ever?\",\n",
    "\"y’know\": \"you know\",\n",
    "\"yessir\": \"yes sir\",\n",
    "\"you’d\": \"you would\",\n",
    "\"you’ll\": \"you will\",\n",
    "\"you’re\": \"you are\",\n",
    "\"you’ve\": \"you have\",\n",
    "\"when’d\": \"when did\"\n",
    "}"
   ]
  },
  {
   "cell_type": "code",
   "execution_count": 44,
   "metadata": {},
   "outputs": [
    {
     "name": "stdout",
     "output_type": "stream",
     "text": [
      "you all know I would not forget you are birthday y'know\n"
     ]
    }
   ],
   "source": [
    "\n",
    "import contractions\n",
    "\n",
    "x = \"y'all know I wouldn't forget ur birthday y'know\"\n",
    "\n",
    "def cont_to_exp(x):\n",
    "    return contractions.fix(x)\n",
    "\n",
    "result = cont_to_exp(x)\n",
    "print(result)"
   ]
  },
  {
   "cell_type": "code",
   "execution_count": 45,
   "metadata": {},
   "outputs": [
    {
     "name": "stdout",
     "output_type": "stream",
     "text": [
      "25.8 ms ± 1.52 ms per loop (mean ± std. dev. of 7 runs, 10 loops each)\n"
     ]
    }
   ],
   "source": [
    "%%timeit\n",
    "df['twitts'] = df['twitts'].apply(lambda x: cont_to_exp(x))"
   ]
  },
  {
   "cell_type": "code",
   "execution_count": 46,
   "metadata": {},
   "outputs": [
    {
     "data": {
      "text/html": [
       "<div>\n",
       "<style scoped>\n",
       "    .dataframe tbody tr th:only-of-type {\n",
       "        vertical-align: middle;\n",
       "    }\n",
       "\n",
       "    .dataframe tbody tr th {\n",
       "        vertical-align: top;\n",
       "    }\n",
       "\n",
       "    .dataframe thead th {\n",
       "        text-align: right;\n",
       "    }\n",
       "</style>\n",
       "<table border=\"1\" class=\"dataframe\">\n",
       "  <thead>\n",
       "    <tr style=\"text-align: right;\">\n",
       "      <th></th>\n",
       "      <th>twitts</th>\n",
       "      <th>sentiment</th>\n",
       "      <th>word_counts</th>\n",
       "      <th>char_counts</th>\n",
       "      <th>avg_word_len</th>\n",
       "      <th>stop_words_len</th>\n",
       "      <th>hashtags_count</th>\n",
       "      <th>mentions_count</th>\n",
       "      <th>numeric_count</th>\n",
       "      <th>upper_count</th>\n",
       "    </tr>\n",
       "  </thead>\n",
       "  <tbody>\n",
       "    <tr>\n",
       "      <th>664</th>\n",
       "      <td>ohno it is raining  hope it does not affect th...</td>\n",
       "      <td>0</td>\n",
       "      <td>10</td>\n",
       "      <td>46</td>\n",
       "      <td>4.600000</td>\n",
       "      <td>2</td>\n",
       "      <td>0</td>\n",
       "      <td>0</td>\n",
       "      <td>0</td>\n",
       "      <td>1</td>\n",
       "    </tr>\n",
       "    <tr>\n",
       "      <th>1989</th>\n",
       "      <td>my tongue is burny...</td>\n",
       "      <td>0</td>\n",
       "      <td>4</td>\n",
       "      <td>18</td>\n",
       "      <td>4.500000</td>\n",
       "      <td>2</td>\n",
       "      <td>0</td>\n",
       "      <td>0</td>\n",
       "      <td>0</td>\n",
       "      <td>0</td>\n",
       "    </tr>\n",
       "    <tr>\n",
       "      <th>2196</th>\n",
       "      <td>had a good night out last night after work. lo...</td>\n",
       "      <td>1</td>\n",
       "      <td>24</td>\n",
       "      <td>114</td>\n",
       "      <td>4.750000</td>\n",
       "      <td>11</td>\n",
       "      <td>0</td>\n",
       "      <td>0</td>\n",
       "      <td>0</td>\n",
       "      <td>0</td>\n",
       "    </tr>\n",
       "    <tr>\n",
       "      <th>3117</th>\n",
       "      <td>adios twitter bugs</td>\n",
       "      <td>1</td>\n",
       "      <td>3</td>\n",
       "      <td>16</td>\n",
       "      <td>5.333333</td>\n",
       "      <td>0</td>\n",
       "      <td>0</td>\n",
       "      <td>0</td>\n",
       "      <td>0</td>\n",
       "      <td>0</td>\n",
       "    </tr>\n",
       "    <tr>\n",
       "      <th>2243</th>\n",
       "      <td>please keep voting for @chriscuzzy &amp;amp; @tomf...</td>\n",
       "      <td>1</td>\n",
       "      <td>19</td>\n",
       "      <td>120</td>\n",
       "      <td>6.315789</td>\n",
       "      <td>6</td>\n",
       "      <td>0</td>\n",
       "      <td>3</td>\n",
       "      <td>0</td>\n",
       "      <td>0</td>\n",
       "    </tr>\n",
       "  </tbody>\n",
       "</table>\n",
       "</div>"
      ],
      "text/plain": [
       "                                                 twitts  sentiment  \\\n",
       "664   ohno it is raining  hope it does not affect th...          0   \n",
       "1989                             my tongue is burny...           0   \n",
       "2196  had a good night out last night after work. lo...          1   \n",
       "3117                                adios twitter bugs           1   \n",
       "2243  please keep voting for @chriscuzzy &amp; @tomf...          1   \n",
       "\n",
       "      word_counts  char_counts  avg_word_len  stop_words_len  hashtags_count  \\\n",
       "664            10           46      4.600000               2               0   \n",
       "1989            4           18      4.500000               2               0   \n",
       "2196           24          114      4.750000              11               0   \n",
       "3117            3           16      5.333333               0               0   \n",
       "2243           19          120      6.315789               6               0   \n",
       "\n",
       "      mentions_count  numeric_count  upper_count  \n",
       "664                0              0            1  \n",
       "1989               0              0            0  \n",
       "2196               0              0            0  \n",
       "3117               0              0            0  \n",
       "2243               3              0            0  "
      ]
     },
     "execution_count": 46,
     "metadata": {},
     "output_type": "execute_result"
    }
   ],
   "source": [
    "df.sample(5)"
   ]
  },
  {
   "cell_type": "markdown",
   "metadata": {},
   "source": [
    "### Count and Remove Emails"
   ]
  },
  {
   "cell_type": "code",
   "execution_count": 47,
   "metadata": {},
   "outputs": [
    {
     "data": {
      "text/html": [
       "<div>\n",
       "<style scoped>\n",
       "    .dataframe tbody tr th:only-of-type {\n",
       "        vertical-align: middle;\n",
       "    }\n",
       "\n",
       "    .dataframe tbody tr th {\n",
       "        vertical-align: top;\n",
       "    }\n",
       "\n",
       "    .dataframe thead th {\n",
       "        text-align: right;\n",
       "    }\n",
       "</style>\n",
       "<table border=\"1\" class=\"dataframe\">\n",
       "  <thead>\n",
       "    <tr style=\"text-align: right;\">\n",
       "      <th></th>\n",
       "      <th>twitts</th>\n",
       "      <th>sentiment</th>\n",
       "      <th>word_counts</th>\n",
       "      <th>char_counts</th>\n",
       "      <th>avg_word_len</th>\n",
       "      <th>stop_words_len</th>\n",
       "      <th>hashtags_count</th>\n",
       "      <th>mentions_count</th>\n",
       "      <th>numeric_count</th>\n",
       "      <th>upper_count</th>\n",
       "    </tr>\n",
       "  </thead>\n",
       "  <tbody>\n",
       "    <tr>\n",
       "      <th>3713</th>\n",
       "      <td>@securerecs arghh me please  markbradbury_16@h...</td>\n",
       "      <td>1</td>\n",
       "      <td>5</td>\n",
       "      <td>51</td>\n",
       "      <td>10.2</td>\n",
       "      <td>0</td>\n",
       "      <td>0</td>\n",
       "      <td>1</td>\n",
       "      <td>0</td>\n",
       "      <td>0</td>\n",
       "    </tr>\n",
       "  </tbody>\n",
       "</table>\n",
       "</div>"
      ],
      "text/plain": [
       "                                                 twitts  sentiment  \\\n",
       "3713  @securerecs arghh me please  markbradbury_16@h...          1   \n",
       "\n",
       "      word_counts  char_counts  avg_word_len  stop_words_len  hashtags_count  \\\n",
       "3713            5           51          10.2               0               0   \n",
       "\n",
       "      mentions_count  numeric_count  upper_count  \n",
       "3713               1              0            0  "
      ]
     },
     "execution_count": 47,
     "metadata": {},
     "output_type": "execute_result"
    }
   ],
   "source": [
    "df[df['twitts'].str.contains('hotmail.com')]"
   ]
  },
  {
   "cell_type": "code",
   "execution_count": 48,
   "metadata": {},
   "outputs": [
    {
     "data": {
      "text/plain": [
       "'@securerecs arghh me please  markbradbury_16@hotmail.com'"
      ]
     },
     "execution_count": 48,
     "metadata": {},
     "output_type": "execute_result"
    }
   ],
   "source": [
    "df.iloc[3713]['twitts']"
   ]
  },
  {
   "cell_type": "code",
   "execution_count": 49,
   "metadata": {},
   "outputs": [],
   "source": [
    "import re"
   ]
  },
  {
   "cell_type": "code",
   "execution_count": 50,
   "metadata": {},
   "outputs": [],
   "source": [
    "x = '@securerecs arghh me please  markbradbury_16@hotmail.com'"
   ]
  },
  {
   "cell_type": "code",
   "execution_count": 51,
   "metadata": {},
   "outputs": [
    {
     "data": {
      "text/plain": [
       "['markbradbury_16@hotmail.com']"
      ]
     },
     "execution_count": 51,
     "metadata": {},
     "output_type": "execute_result"
    }
   ],
   "source": [
    "re.findall(r'([a-z0-9+._-]+@[a-z0-9+._-]+\\.[a-z0-9+_-]+)', x)"
   ]
  },
  {
   "cell_type": "code",
   "execution_count": 52,
   "metadata": {},
   "outputs": [],
   "source": [
    "df['emails'] = df['twitts'].apply(lambda x: re.findall(r'([a-z0-9+._-]+@[a-z0-9+._-]+\\.[a-z0-9+_-]+)', x))"
   ]
  },
  {
   "cell_type": "code",
   "execution_count": 53,
   "metadata": {},
   "outputs": [],
   "source": [
    "df['emails_count'] = df['emails'].apply(lambda x: len(x))"
   ]
  },
  {
   "cell_type": "code",
   "execution_count": 54,
   "metadata": {},
   "outputs": [
    {
     "data": {
      "text/html": [
       "<div>\n",
       "<style scoped>\n",
       "    .dataframe tbody tr th:only-of-type {\n",
       "        vertical-align: middle;\n",
       "    }\n",
       "\n",
       "    .dataframe tbody tr th {\n",
       "        vertical-align: top;\n",
       "    }\n",
       "\n",
       "    .dataframe thead th {\n",
       "        text-align: right;\n",
       "    }\n",
       "</style>\n",
       "<table border=\"1\" class=\"dataframe\">\n",
       "  <thead>\n",
       "    <tr style=\"text-align: right;\">\n",
       "      <th></th>\n",
       "      <th>twitts</th>\n",
       "      <th>sentiment</th>\n",
       "      <th>word_counts</th>\n",
       "      <th>char_counts</th>\n",
       "      <th>avg_word_len</th>\n",
       "      <th>stop_words_len</th>\n",
       "      <th>hashtags_count</th>\n",
       "      <th>mentions_count</th>\n",
       "      <th>numeric_count</th>\n",
       "      <th>upper_count</th>\n",
       "      <th>emails</th>\n",
       "      <th>emails_count</th>\n",
       "    </tr>\n",
       "  </thead>\n",
       "  <tbody>\n",
       "    <tr>\n",
       "      <th>3713</th>\n",
       "      <td>@securerecs arghh me please  markbradbury_16@h...</td>\n",
       "      <td>1</td>\n",
       "      <td>5</td>\n",
       "      <td>51</td>\n",
       "      <td>10.2</td>\n",
       "      <td>0</td>\n",
       "      <td>0</td>\n",
       "      <td>1</td>\n",
       "      <td>0</td>\n",
       "      <td>0</td>\n",
       "      <td>[markbradbury_16@hotmail.com]</td>\n",
       "      <td>1</td>\n",
       "    </tr>\n",
       "  </tbody>\n",
       "</table>\n",
       "</div>"
      ],
      "text/plain": [
       "                                                 twitts  sentiment  \\\n",
       "3713  @securerecs arghh me please  markbradbury_16@h...          1   \n",
       "\n",
       "      word_counts  char_counts  avg_word_len  stop_words_len  hashtags_count  \\\n",
       "3713            5           51          10.2               0               0   \n",
       "\n",
       "      mentions_count  numeric_count  upper_count  \\\n",
       "3713               1              0            0   \n",
       "\n",
       "                             emails  emails_count  \n",
       "3713  [markbradbury_16@hotmail.com]             1  "
      ]
     },
     "execution_count": 54,
     "metadata": {},
     "output_type": "execute_result"
    }
   ],
   "source": [
    "df[df['emails_count']>0]"
   ]
  },
  {
   "cell_type": "markdown",
   "metadata": {},
   "source": [
    "Remove the emails"
   ]
  },
  {
   "cell_type": "code",
   "execution_count": 55,
   "metadata": {},
   "outputs": [
    {
     "data": {
      "text/plain": [
       "'@securerecs arghh me please  '"
      ]
     },
     "execution_count": 55,
     "metadata": {},
     "output_type": "execute_result"
    }
   ],
   "source": [
    "re.sub(r'([a-z0-9+._-]+@[a-z0-9+._-]+\\.[a-z0-9+_-]+)',\"\", x)"
   ]
  },
  {
   "cell_type": "code",
   "execution_count": 56,
   "metadata": {},
   "outputs": [],
   "source": [
    "df['twitts'] = df['twitts'].apply(lambda x : re.sub(r'([a-z0-9+._-]+@[a-z0-9+._-]+\\.[a-z0-9+_-]+)',\"\", x))"
   ]
  },
  {
   "cell_type": "markdown",
   "metadata": {},
   "source": [
    "### Count and Remove URLS"
   ]
  },
  {
   "cell_type": "code",
   "execution_count": 57,
   "metadata": {},
   "outputs": [],
   "source": [
    "x = 'hi, thanks for watching. for more videos, visit https://youtube.com/xaimli or github.com/xxy'"
   ]
  },
  {
   "cell_type": "code",
   "execution_count": 58,
   "metadata": {},
   "outputs": [
    {
     "data": {
      "text/plain": [
       "[('https', 'youtube.com', '/xaimli')]"
      ]
     },
     "execution_count": 58,
     "metadata": {},
     "output_type": "execute_result"
    }
   ],
   "source": [
    "re.findall(r'(http|https|ftp|ssh|)://([\\w_-]+(?:(?:\\.[\\w_-]+)+))([\\w.,@?^=%&:/~+#-]*[\\w@?^=%&/~+#-])?', x)"
   ]
  },
  {
   "cell_type": "code",
   "execution_count": 59,
   "metadata": {},
   "outputs": [],
   "source": [
    "df['url_flags'] = df['twitts'].apply(lambda x: len(re.findall(r'(http|https|ftp|ssh|)://([\\w_-]+(?:(?:\\.[\\w_-]+)+))([\\w.,@?^=%&:/~+#-]*[\\w@?^=%&/~+#-])?', x)))"
   ]
  },
  {
   "cell_type": "code",
   "execution_count": 60,
   "metadata": {},
   "outputs": [
    {
     "data": {
      "text/html": [
       "<div>\n",
       "<style scoped>\n",
       "    .dataframe tbody tr th:only-of-type {\n",
       "        vertical-align: middle;\n",
       "    }\n",
       "\n",
       "    .dataframe tbody tr th {\n",
       "        vertical-align: top;\n",
       "    }\n",
       "\n",
       "    .dataframe thead th {\n",
       "        text-align: right;\n",
       "    }\n",
       "</style>\n",
       "<table border=\"1\" class=\"dataframe\">\n",
       "  <thead>\n",
       "    <tr style=\"text-align: right;\">\n",
       "      <th></th>\n",
       "      <th>twitts</th>\n",
       "      <th>sentiment</th>\n",
       "      <th>word_counts</th>\n",
       "      <th>char_counts</th>\n",
       "      <th>avg_word_len</th>\n",
       "      <th>stop_words_len</th>\n",
       "      <th>hashtags_count</th>\n",
       "      <th>mentions_count</th>\n",
       "      <th>numeric_count</th>\n",
       "      <th>upper_count</th>\n",
       "      <th>emails</th>\n",
       "      <th>emails_count</th>\n",
       "      <th>url_flags</th>\n",
       "    </tr>\n",
       "  </thead>\n",
       "  <tbody>\n",
       "    <tr>\n",
       "      <th>3769</th>\n",
       "      <td>is with her sister arianne  http://plurk.com/p...</td>\n",
       "      <td>1</td>\n",
       "      <td>6</td>\n",
       "      <td>46</td>\n",
       "      <td>7.666667</td>\n",
       "      <td>2</td>\n",
       "      <td>0</td>\n",
       "      <td>0</td>\n",
       "      <td>0</td>\n",
       "      <td>0</td>\n",
       "      <td>[]</td>\n",
       "      <td>0</td>\n",
       "      <td>1</td>\n",
       "    </tr>\n",
       "    <tr>\n",
       "      <th>2685</th>\n",
       "      <td>@ddlovato http://twitpic.com/3lwfk - have fun ...</td>\n",
       "      <td>1</td>\n",
       "      <td>24</td>\n",
       "      <td>106</td>\n",
       "      <td>4.416667</td>\n",
       "      <td>4</td>\n",
       "      <td>0</td>\n",
       "      <td>1</td>\n",
       "      <td>1</td>\n",
       "      <td>1</td>\n",
       "      <td>[]</td>\n",
       "      <td>0</td>\n",
       "      <td>1</td>\n",
       "    </tr>\n",
       "    <tr>\n",
       "      <th>2964</th>\n",
       "      <td>@mileycyrus http://twitpic.com/6shtr - please ...</td>\n",
       "      <td>1</td>\n",
       "      <td>14</td>\n",
       "      <td>101</td>\n",
       "      <td>7.214286</td>\n",
       "      <td>4</td>\n",
       "      <td>0</td>\n",
       "      <td>1</td>\n",
       "      <td>0</td>\n",
       "      <td>4</td>\n",
       "      <td>[]</td>\n",
       "      <td>0</td>\n",
       "      <td>1</td>\n",
       "    </tr>\n",
       "    <tr>\n",
       "      <th>1185</th>\n",
       "      <td>loves and miss donny.... where is he?  http://...</td>\n",
       "      <td>0</td>\n",
       "      <td>7</td>\n",
       "      <td>56</td>\n",
       "      <td>8.000000</td>\n",
       "      <td>1</td>\n",
       "      <td>0</td>\n",
       "      <td>0</td>\n",
       "      <td>0</td>\n",
       "      <td>0</td>\n",
       "      <td>[]</td>\n",
       "      <td>0</td>\n",
       "      <td>1</td>\n",
       "    </tr>\n",
       "    <tr>\n",
       "      <th>1680</th>\n",
       "      <td>oh my.  woke up with theeee illest headache  o...</td>\n",
       "      <td>0</td>\n",
       "      <td>16</td>\n",
       "      <td>84</td>\n",
       "      <td>5.250000</td>\n",
       "      <td>5</td>\n",
       "      <td>0</td>\n",
       "      <td>0</td>\n",
       "      <td>0</td>\n",
       "      <td>1</td>\n",
       "      <td>[]</td>\n",
       "      <td>0</td>\n",
       "      <td>1</td>\n",
       "    </tr>\n",
       "  </tbody>\n",
       "</table>\n",
       "</div>"
      ],
      "text/plain": [
       "                                                 twitts  sentiment  \\\n",
       "3769  is with her sister arianne  http://plurk.com/p...          1   \n",
       "2685  @ddlovato http://twitpic.com/3lwfk - have fun ...          1   \n",
       "2964  @mileycyrus http://twitpic.com/6shtr - please ...          1   \n",
       "1185  loves and miss donny.... where is he?  http://...          0   \n",
       "1680  oh my.  woke up with theeee illest headache  o...          0   \n",
       "\n",
       "      word_counts  char_counts  avg_word_len  stop_words_len  hashtags_count  \\\n",
       "3769            6           46      7.666667               2               0   \n",
       "2685           24          106      4.416667               4               0   \n",
       "2964           14          101      7.214286               4               0   \n",
       "1185            7           56      8.000000               1               0   \n",
       "1680           16           84      5.250000               5               0   \n",
       "\n",
       "      mentions_count  numeric_count  upper_count emails  emails_count  \\\n",
       "3769               0              0            0     []             0   \n",
       "2685               1              1            1     []             0   \n",
       "2964               1              0            4     []             0   \n",
       "1185               0              0            0     []             0   \n",
       "1680               0              0            1     []             0   \n",
       "\n",
       "      url_flags  \n",
       "3769          1  \n",
       "2685          1  \n",
       "2964          1  \n",
       "1185          1  \n",
       "1680          1  "
      ]
     },
     "execution_count": 60,
     "metadata": {},
     "output_type": "execute_result"
    }
   ],
   "source": [
    "df[df['url_flags']>0].sample(5)"
   ]
  },
  {
   "cell_type": "code",
   "execution_count": 61,
   "metadata": {},
   "outputs": [
    {
     "data": {
      "text/plain": [
       "'hi, thanks for watching. for more videos, visit  or github.com/xxy'"
      ]
     },
     "execution_count": 61,
     "metadata": {},
     "output_type": "execute_result"
    }
   ],
   "source": [
    "re.sub(r'(http|https|ftp|ssh|)://([\\w_-]+(?:(?:\\.[\\w_-]+)+))([\\w.,@?^=%&:/~+#-]*[\\w@?^=%&/~+#-])?','', x)"
   ]
  },
  {
   "cell_type": "code",
   "execution_count": 62,
   "metadata": {},
   "outputs": [],
   "source": [
    "df['twitts'] = df['twitts'].apply(lambda x: re.sub(r'(http|https|ftp|ssh|)://([\\w_-]+(?:(?:\\.[\\w_-]+)+))([\\w.,@?^=%&:/~+#-]*[\\w@?^=%&/~+#-])?','', x))"
   ]
  },
  {
   "cell_type": "code",
   "execution_count": 63,
   "metadata": {},
   "outputs": [
    {
     "data": {
      "text/html": [
       "<div>\n",
       "<style scoped>\n",
       "    .dataframe tbody tr th:only-of-type {\n",
       "        vertical-align: middle;\n",
       "    }\n",
       "\n",
       "    .dataframe tbody tr th {\n",
       "        vertical-align: top;\n",
       "    }\n",
       "\n",
       "    .dataframe thead th {\n",
       "        text-align: right;\n",
       "    }\n",
       "</style>\n",
       "<table border=\"1\" class=\"dataframe\">\n",
       "  <thead>\n",
       "    <tr style=\"text-align: right;\">\n",
       "      <th></th>\n",
       "      <th>twitts</th>\n",
       "      <th>sentiment</th>\n",
       "      <th>word_counts</th>\n",
       "      <th>char_counts</th>\n",
       "      <th>avg_word_len</th>\n",
       "      <th>stop_words_len</th>\n",
       "      <th>hashtags_count</th>\n",
       "      <th>mentions_count</th>\n",
       "      <th>numeric_count</th>\n",
       "      <th>upper_count</th>\n",
       "      <th>emails</th>\n",
       "      <th>emails_count</th>\n",
       "      <th>url_flags</th>\n",
       "    </tr>\n",
       "  </thead>\n",
       "  <tbody>\n",
       "    <tr>\n",
       "      <th>174</th>\n",
       "      <td>ohhh 2 write bak 2 people you hav 2 put their ...</td>\n",
       "      <td>0</td>\n",
       "      <td>32</td>\n",
       "      <td>106</td>\n",
       "      <td>3.312500</td>\n",
       "      <td>10</td>\n",
       "      <td>0</td>\n",
       "      <td>0</td>\n",
       "      <td>4</td>\n",
       "      <td>0</td>\n",
       "      <td>[]</td>\n",
       "      <td>0</td>\n",
       "      <td>0</td>\n",
       "    </tr>\n",
       "    <tr>\n",
       "      <th>2704</th>\n",
       "      <td>the road trip with my honey has commenced  to ...</td>\n",
       "      <td>1</td>\n",
       "      <td>13</td>\n",
       "      <td>52</td>\n",
       "      <td>4.000000</td>\n",
       "      <td>6</td>\n",
       "      <td>0</td>\n",
       "      <td>0</td>\n",
       "      <td>0</td>\n",
       "      <td>0</td>\n",
       "      <td>[]</td>\n",
       "      <td>0</td>\n",
       "      <td>0</td>\n",
       "    </tr>\n",
       "    <tr>\n",
       "      <th>667</th>\n",
       "      <td>i hate this cold i have caught.</td>\n",
       "      <td>0</td>\n",
       "      <td>6</td>\n",
       "      <td>24</td>\n",
       "      <td>4.000000</td>\n",
       "      <td>1</td>\n",
       "      <td>0</td>\n",
       "      <td>0</td>\n",
       "      <td>0</td>\n",
       "      <td>1</td>\n",
       "      <td>[]</td>\n",
       "      <td>0</td>\n",
       "      <td>0</td>\n",
       "    </tr>\n",
       "    <tr>\n",
       "      <th>592</th>\n",
       "      <td>day off of work tomorrow... who knew kids get ...</td>\n",
       "      <td>0</td>\n",
       "      <td>23</td>\n",
       "      <td>104</td>\n",
       "      <td>4.521739</td>\n",
       "      <td>8</td>\n",
       "      <td>0</td>\n",
       "      <td>0</td>\n",
       "      <td>0</td>\n",
       "      <td>0</td>\n",
       "      <td>[]</td>\n",
       "      <td>0</td>\n",
       "      <td>0</td>\n",
       "    </tr>\n",
       "    <tr>\n",
       "      <th>124</th>\n",
       "      <td>fuck off, rafa.  broken serving for the set?</td>\n",
       "      <td>0</td>\n",
       "      <td>8</td>\n",
       "      <td>36</td>\n",
       "      <td>4.500000</td>\n",
       "      <td>2</td>\n",
       "      <td>0</td>\n",
       "      <td>0</td>\n",
       "      <td>0</td>\n",
       "      <td>0</td>\n",
       "      <td>[]</td>\n",
       "      <td>0</td>\n",
       "      <td>0</td>\n",
       "    </tr>\n",
       "    <tr>\n",
       "      <th>2802</th>\n",
       "      <td>@nickcarver modesto! that is my home town</td>\n",
       "      <td>1</td>\n",
       "      <td>6</td>\n",
       "      <td>35</td>\n",
       "      <td>5.833333</td>\n",
       "      <td>1</td>\n",
       "      <td>0</td>\n",
       "      <td>1</td>\n",
       "      <td>0</td>\n",
       "      <td>0</td>\n",
       "      <td>[]</td>\n",
       "      <td>0</td>\n",
       "      <td>0</td>\n",
       "    </tr>\n",
       "    <tr>\n",
       "      <th>3593</th>\n",
       "      <td>@tommcfly sorry you are having a bad day..  yo...</td>\n",
       "      <td>1</td>\n",
       "      <td>18</td>\n",
       "      <td>78</td>\n",
       "      <td>4.333333</td>\n",
       "      <td>6</td>\n",
       "      <td>0</td>\n",
       "      <td>1</td>\n",
       "      <td>0</td>\n",
       "      <td>0</td>\n",
       "      <td>[]</td>\n",
       "      <td>0</td>\n",
       "      <td>0</td>\n",
       "    </tr>\n",
       "    <tr>\n",
       "      <th>3284</th>\n",
       "      <td>up was good. i liked it a lot. very heart warm...</td>\n",
       "      <td>1</td>\n",
       "      <td>18</td>\n",
       "      <td>70</td>\n",
       "      <td>3.888889</td>\n",
       "      <td>5</td>\n",
       "      <td>0</td>\n",
       "      <td>0</td>\n",
       "      <td>0</td>\n",
       "      <td>3</td>\n",
       "      <td>[]</td>\n",
       "      <td>0</td>\n",
       "      <td>0</td>\n",
       "    </tr>\n",
       "    <tr>\n",
       "      <th>586</th>\n",
       "      <td>@dawnmay7 amen, i love house.  all of my fav s...</td>\n",
       "      <td>0</td>\n",
       "      <td>15</td>\n",
       "      <td>67</td>\n",
       "      <td>4.466667</td>\n",
       "      <td>3</td>\n",
       "      <td>0</td>\n",
       "      <td>1</td>\n",
       "      <td>0</td>\n",
       "      <td>1</td>\n",
       "      <td>[]</td>\n",
       "      <td>0</td>\n",
       "      <td>0</td>\n",
       "    </tr>\n",
       "    <tr>\n",
       "      <th>2603</th>\n",
       "      <td>@graceywoohoo ohhh, haha. i just like do not k...</td>\n",
       "      <td>1</td>\n",
       "      <td>12</td>\n",
       "      <td>61</td>\n",
       "      <td>5.083333</td>\n",
       "      <td>2</td>\n",
       "      <td>0</td>\n",
       "      <td>1</td>\n",
       "      <td>0</td>\n",
       "      <td>1</td>\n",
       "      <td>[]</td>\n",
       "      <td>0</td>\n",
       "      <td>0</td>\n",
       "    </tr>\n",
       "  </tbody>\n",
       "</table>\n",
       "</div>"
      ],
      "text/plain": [
       "                                                 twitts  sentiment  \\\n",
       "174   ohhh 2 write bak 2 people you hav 2 put their ...          0   \n",
       "2704  the road trip with my honey has commenced  to ...          1   \n",
       "667                    i hate this cold i have caught.           0   \n",
       "592   day off of work tomorrow... who knew kids get ...          0   \n",
       "124        fuck off, rafa.  broken serving for the set?          0   \n",
       "2802         @nickcarver modesto! that is my home town           1   \n",
       "3593  @tommcfly sorry you are having a bad day..  yo...          1   \n",
       "3284  up was good. i liked it a lot. very heart warm...          1   \n",
       "586   @dawnmay7 amen, i love house.  all of my fav s...          0   \n",
       "2603  @graceywoohoo ohhh, haha. i just like do not k...          1   \n",
       "\n",
       "      word_counts  char_counts  avg_word_len  stop_words_len  hashtags_count  \\\n",
       "174            32          106      3.312500              10               0   \n",
       "2704           13           52      4.000000               6               0   \n",
       "667             6           24      4.000000               1               0   \n",
       "592            23          104      4.521739               8               0   \n",
       "124             8           36      4.500000               2               0   \n",
       "2802            6           35      5.833333               1               0   \n",
       "3593           18           78      4.333333               6               0   \n",
       "3284           18           70      3.888889               5               0   \n",
       "586            15           67      4.466667               3               0   \n",
       "2603           12           61      5.083333               2               0   \n",
       "\n",
       "      mentions_count  numeric_count  upper_count emails  emails_count  \\\n",
       "174                0              4            0     []             0   \n",
       "2704               0              0            0     []             0   \n",
       "667                0              0            1     []             0   \n",
       "592                0              0            0     []             0   \n",
       "124                0              0            0     []             0   \n",
       "2802               1              0            0     []             0   \n",
       "3593               1              0            0     []             0   \n",
       "3284               0              0            3     []             0   \n",
       "586                1              0            1     []             0   \n",
       "2603               1              0            1     []             0   \n",
       "\n",
       "      url_flags  \n",
       "174           0  \n",
       "2704          0  \n",
       "667           0  \n",
       "592           0  \n",
       "124           0  \n",
       "2802          0  \n",
       "3593          0  \n",
       "3284          0  \n",
       "586           0  \n",
       "2603          0  "
      ]
     },
     "execution_count": 63,
     "metadata": {},
     "output_type": "execute_result"
    }
   ],
   "source": [
    "df.sample(10)"
   ]
  },
  {
   "cell_type": "markdown",
   "metadata": {},
   "source": [
    "### Remove RT"
   ]
  },
  {
   "cell_type": "code",
   "execution_count": 64,
   "metadata": {},
   "outputs": [
    {
     "data": {
      "text/html": [
       "<div>\n",
       "<style scoped>\n",
       "    .dataframe tbody tr th:only-of-type {\n",
       "        vertical-align: middle;\n",
       "    }\n",
       "\n",
       "    .dataframe tbody tr th {\n",
       "        vertical-align: top;\n",
       "    }\n",
       "\n",
       "    .dataframe thead th {\n",
       "        text-align: right;\n",
       "    }\n",
       "</style>\n",
       "<table border=\"1\" class=\"dataframe\">\n",
       "  <thead>\n",
       "    <tr style=\"text-align: right;\">\n",
       "      <th></th>\n",
       "      <th>twitts</th>\n",
       "      <th>sentiment</th>\n",
       "      <th>word_counts</th>\n",
       "      <th>char_counts</th>\n",
       "      <th>avg_word_len</th>\n",
       "      <th>stop_words_len</th>\n",
       "      <th>hashtags_count</th>\n",
       "      <th>mentions_count</th>\n",
       "      <th>numeric_count</th>\n",
       "      <th>upper_count</th>\n",
       "      <th>emails</th>\n",
       "      <th>emails_count</th>\n",
       "      <th>url_flags</th>\n",
       "    </tr>\n",
       "  </thead>\n",
       "  <tbody>\n",
       "    <tr>\n",
       "      <th>4</th>\n",
       "      <td>@mandagoforth me bad! it is funny though. zach...</td>\n",
       "      <td>0</td>\n",
       "      <td>26</td>\n",
       "      <td>116</td>\n",
       "      <td>4.461538</td>\n",
       "      <td>13</td>\n",
       "      <td>0</td>\n",
       "      <td>2</td>\n",
       "      <td>0</td>\n",
       "      <td>0</td>\n",
       "      <td>[]</td>\n",
       "      <td>0</td>\n",
       "      <td>0</td>\n",
       "    </tr>\n",
       "    <tr>\n",
       "      <th>23</th>\n",
       "      <td>ut oh, i wonder if the ram on the desktop is s...</td>\n",
       "      <td>0</td>\n",
       "      <td>14</td>\n",
       "      <td>46</td>\n",
       "      <td>3.285714</td>\n",
       "      <td>7</td>\n",
       "      <td>0</td>\n",
       "      <td>0</td>\n",
       "      <td>0</td>\n",
       "      <td>2</td>\n",
       "      <td>[]</td>\n",
       "      <td>0</td>\n",
       "      <td>0</td>\n",
       "    </tr>\n",
       "    <tr>\n",
       "      <th>59</th>\n",
       "      <td>@paulmccourt do not know what sky you are look...</td>\n",
       "      <td>0</td>\n",
       "      <td>15</td>\n",
       "      <td>80</td>\n",
       "      <td>5.333333</td>\n",
       "      <td>3</td>\n",
       "      <td>0</td>\n",
       "      <td>1</td>\n",
       "      <td>0</td>\n",
       "      <td>0</td>\n",
       "      <td>[]</td>\n",
       "      <td>0</td>\n",
       "      <td>0</td>\n",
       "    </tr>\n",
       "    <tr>\n",
       "      <th>75</th>\n",
       "      <td>i am back home in belfast  i am realli tired t...</td>\n",
       "      <td>0</td>\n",
       "      <td>22</td>\n",
       "      <td>84</td>\n",
       "      <td>3.818182</td>\n",
       "      <td>9</td>\n",
       "      <td>0</td>\n",
       "      <td>0</td>\n",
       "      <td>0</td>\n",
       "      <td>1</td>\n",
       "      <td>[]</td>\n",
       "      <td>0</td>\n",
       "      <td>0</td>\n",
       "    </tr>\n",
       "    <tr>\n",
       "      <th>81</th>\n",
       "      <td>@lilmonkee987 i know what you mean... i feel s...</td>\n",
       "      <td>0</td>\n",
       "      <td>11</td>\n",
       "      <td>48</td>\n",
       "      <td>4.363636</td>\n",
       "      <td>5</td>\n",
       "      <td>0</td>\n",
       "      <td>1</td>\n",
       "      <td>0</td>\n",
       "      <td>0</td>\n",
       "      <td>[]</td>\n",
       "      <td>0</td>\n",
       "      <td>0</td>\n",
       "    </tr>\n",
       "    <tr>\n",
       "      <th>...</th>\n",
       "      <td>...</td>\n",
       "      <td>...</td>\n",
       "      <td>...</td>\n",
       "      <td>...</td>\n",
       "      <td>...</td>\n",
       "      <td>...</td>\n",
       "      <td>...</td>\n",
       "      <td>...</td>\n",
       "      <td>...</td>\n",
       "      <td>...</td>\n",
       "      <td>...</td>\n",
       "      <td>...</td>\n",
       "      <td>...</td>\n",
       "    </tr>\n",
       "    <tr>\n",
       "      <th>3913</th>\n",
       "      <td>for the press so after she recovered she kille...</td>\n",
       "      <td>1</td>\n",
       "      <td>24</td>\n",
       "      <td>100</td>\n",
       "      <td>4.166667</td>\n",
       "      <td>1</td>\n",
       "      <td>0</td>\n",
       "      <td>0</td>\n",
       "      <td>0</td>\n",
       "      <td>0</td>\n",
       "      <td>[]</td>\n",
       "      <td>0</td>\n",
       "      <td>0</td>\n",
       "    </tr>\n",
       "    <tr>\n",
       "      <th>3919</th>\n",
       "      <td>earned her cpr &amp;amp; first aid certifications!</td>\n",
       "      <td>1</td>\n",
       "      <td>7</td>\n",
       "      <td>40</td>\n",
       "      <td>5.714286</td>\n",
       "      <td>1</td>\n",
       "      <td>0</td>\n",
       "      <td>0</td>\n",
       "      <td>0</td>\n",
       "      <td>1</td>\n",
       "      <td>[]</td>\n",
       "      <td>0</td>\n",
       "      <td>0</td>\n",
       "    </tr>\n",
       "    <tr>\n",
       "      <th>3945</th>\n",
       "      <td>@teciav &amp;quot;i look high, i look low, i look ...</td>\n",
       "      <td>1</td>\n",
       "      <td>23</td>\n",
       "      <td>106</td>\n",
       "      <td>4.608696</td>\n",
       "      <td>10</td>\n",
       "      <td>0</td>\n",
       "      <td>1</td>\n",
       "      <td>0</td>\n",
       "      <td>0</td>\n",
       "      <td>[]</td>\n",
       "      <td>0</td>\n",
       "      <td>0</td>\n",
       "    </tr>\n",
       "    <tr>\n",
       "      <th>3951</th>\n",
       "      <td>i am soo very parched. and hungry. oh and i am...</td>\n",
       "      <td>1</td>\n",
       "      <td>21</td>\n",
       "      <td>87</td>\n",
       "      <td>4.142857</td>\n",
       "      <td>7</td>\n",
       "      <td>0</td>\n",
       "      <td>0</td>\n",
       "      <td>2</td>\n",
       "      <td>1</td>\n",
       "      <td>[]</td>\n",
       "      <td>0</td>\n",
       "      <td>0</td>\n",
       "    </tr>\n",
       "    <tr>\n",
       "      <th>3986</th>\n",
       "      <td>@countroshculla yeah..needed to get up early.....</td>\n",
       "      <td>1</td>\n",
       "      <td>10</td>\n",
       "      <td>69</td>\n",
       "      <td>6.900000</td>\n",
       "      <td>4</td>\n",
       "      <td>0</td>\n",
       "      <td>1</td>\n",
       "      <td>0</td>\n",
       "      <td>0</td>\n",
       "      <td>[]</td>\n",
       "      <td>0</td>\n",
       "      <td>0</td>\n",
       "    </tr>\n",
       "  </tbody>\n",
       "</table>\n",
       "<p>386 rows × 13 columns</p>\n",
       "</div>"
      ],
      "text/plain": [
       "                                                 twitts  sentiment  \\\n",
       "4     @mandagoforth me bad! it is funny though. zach...          0   \n",
       "23    ut oh, i wonder if the ram on the desktop is s...          0   \n",
       "59    @paulmccourt do not know what sky you are look...          0   \n",
       "75    i am back home in belfast  i am realli tired t...          0   \n",
       "81    @lilmonkee987 i know what you mean... i feel s...          0   \n",
       "...                                                 ...        ...   \n",
       "3913  for the press so after she recovered she kille...          1   \n",
       "3919    earned her cpr &amp; first aid certifications!           1   \n",
       "3945  @teciav &quot;i look high, i look low, i look ...          1   \n",
       "3951  i am soo very parched. and hungry. oh and i am...          1   \n",
       "3986  @countroshculla yeah..needed to get up early.....          1   \n",
       "\n",
       "      word_counts  char_counts  avg_word_len  stop_words_len  hashtags_count  \\\n",
       "4              26          116      4.461538              13               0   \n",
       "23             14           46      3.285714               7               0   \n",
       "59             15           80      5.333333               3               0   \n",
       "75             22           84      3.818182               9               0   \n",
       "81             11           48      4.363636               5               0   \n",
       "...           ...          ...           ...             ...             ...   \n",
       "3913           24          100      4.166667               1               0   \n",
       "3919            7           40      5.714286               1               0   \n",
       "3945           23          106      4.608696              10               0   \n",
       "3951           21           87      4.142857               7               0   \n",
       "3986           10           69      6.900000               4               0   \n",
       "\n",
       "      mentions_count  numeric_count  upper_count emails  emails_count  \\\n",
       "4                  2              0            0     []             0   \n",
       "23                 0              0            2     []             0   \n",
       "59                 1              0            0     []             0   \n",
       "75                 0              0            1     []             0   \n",
       "81                 1              0            0     []             0   \n",
       "...              ...            ...          ...    ...           ...   \n",
       "3913               0              0            0     []             0   \n",
       "3919               0              0            1     []             0   \n",
       "3945               1              0            0     []             0   \n",
       "3951               0              2            1     []             0   \n",
       "3986               1              0            0     []             0   \n",
       "\n",
       "      url_flags  \n",
       "4             0  \n",
       "23            0  \n",
       "59            0  \n",
       "75            0  \n",
       "81            0  \n",
       "...         ...  \n",
       "3913          0  \n",
       "3919          0  \n",
       "3945          0  \n",
       "3951          0  \n",
       "3986          0  \n",
       "\n",
       "[386 rows x 13 columns]"
      ]
     },
     "execution_count": 64,
     "metadata": {},
     "output_type": "execute_result"
    }
   ],
   "source": [
    "df[df['twitts'].str.contains('rt')]"
   ]
  },
  {
   "cell_type": "code",
   "execution_count": 65,
   "metadata": {},
   "outputs": [],
   "source": [
    "x = 'rt @username: hello hi'"
   ]
  },
  {
   "cell_type": "code",
   "execution_count": 66,
   "metadata": {},
   "outputs": [
    {
     "data": {
      "text/plain": [
       "'@username: hello hi'"
      ]
     },
     "execution_count": 66,
     "metadata": {},
     "output_type": "execute_result"
    }
   ],
   "source": [
    "re.sub(r'\\brt\\b', '', x).strip()"
   ]
  },
  {
   "cell_type": "code",
   "execution_count": 67,
   "metadata": {},
   "outputs": [],
   "source": [
    "df['twitts'] = df['twitts'].apply(lambda x: re.sub(r'\\brt\\b', '', x).strip())"
   ]
  },
  {
   "cell_type": "markdown",
   "metadata": {},
   "source": [
    "### Special Character or Punctuation Removal"
   ]
  },
  {
   "cell_type": "code",
   "execution_count": 68,
   "metadata": {},
   "outputs": [
    {
     "data": {
      "text/html": [
       "<div>\n",
       "<style scoped>\n",
       "    .dataframe tbody tr th:only-of-type {\n",
       "        vertical-align: middle;\n",
       "    }\n",
       "\n",
       "    .dataframe tbody tr th {\n",
       "        vertical-align: top;\n",
       "    }\n",
       "\n",
       "    .dataframe thead th {\n",
       "        text-align: right;\n",
       "    }\n",
       "</style>\n",
       "<table border=\"1\" class=\"dataframe\">\n",
       "  <thead>\n",
       "    <tr style=\"text-align: right;\">\n",
       "      <th></th>\n",
       "      <th>twitts</th>\n",
       "      <th>sentiment</th>\n",
       "      <th>word_counts</th>\n",
       "      <th>char_counts</th>\n",
       "      <th>avg_word_len</th>\n",
       "      <th>stop_words_len</th>\n",
       "      <th>hashtags_count</th>\n",
       "      <th>mentions_count</th>\n",
       "      <th>numeric_count</th>\n",
       "      <th>upper_count</th>\n",
       "      <th>emails</th>\n",
       "      <th>emails_count</th>\n",
       "      <th>url_flags</th>\n",
       "    </tr>\n",
       "  </thead>\n",
       "  <tbody>\n",
       "    <tr>\n",
       "      <th>2003</th>\n",
       "      <td>nap time. all this pettiness has worn me out</td>\n",
       "      <td>1</td>\n",
       "      <td>9</td>\n",
       "      <td>36</td>\n",
       "      <td>4.000000</td>\n",
       "      <td>5</td>\n",
       "      <td>0</td>\n",
       "      <td>0</td>\n",
       "      <td>0</td>\n",
       "      <td>0</td>\n",
       "      <td>[]</td>\n",
       "      <td>0</td>\n",
       "      <td>0</td>\n",
       "    </tr>\n",
       "    <tr>\n",
       "      <th>3321</th>\n",
       "      <td>or even a walk</td>\n",
       "      <td>1</td>\n",
       "      <td>4</td>\n",
       "      <td>11</td>\n",
       "      <td>2.750000</td>\n",
       "      <td>3</td>\n",
       "      <td>0</td>\n",
       "      <td>0</td>\n",
       "      <td>0</td>\n",
       "      <td>0</td>\n",
       "      <td>[]</td>\n",
       "      <td>0</td>\n",
       "      <td>0</td>\n",
       "    </tr>\n",
       "    <tr>\n",
       "      <th>2746</th>\n",
       "      <td>just voted for the kids choice awards!</td>\n",
       "      <td>1</td>\n",
       "      <td>7</td>\n",
       "      <td>32</td>\n",
       "      <td>4.571429</td>\n",
       "      <td>3</td>\n",
       "      <td>0</td>\n",
       "      <td>0</td>\n",
       "      <td>0</td>\n",
       "      <td>0</td>\n",
       "      <td>[]</td>\n",
       "      <td>0</td>\n",
       "      <td>0</td>\n",
       "    </tr>\n",
       "  </tbody>\n",
       "</table>\n",
       "</div>"
      ],
      "text/plain": [
       "                                            twitts  sentiment  word_counts  \\\n",
       "2003  nap time. all this pettiness has worn me out          1            9   \n",
       "3321                                or even a walk          1            4   \n",
       "2746        just voted for the kids choice awards!          1            7   \n",
       "\n",
       "      char_counts  avg_word_len  stop_words_len  hashtags_count  \\\n",
       "2003           36      4.000000               5               0   \n",
       "3321           11      2.750000               3               0   \n",
       "2746           32      4.571429               3               0   \n",
       "\n",
       "      mentions_count  numeric_count  upper_count emails  emails_count  \\\n",
       "2003               0              0            0     []             0   \n",
       "3321               0              0            0     []             0   \n",
       "2746               0              0            0     []             0   \n",
       "\n",
       "      url_flags  \n",
       "2003          0  \n",
       "3321          0  \n",
       "2746          0  "
      ]
     },
     "execution_count": 68,
     "metadata": {},
     "output_type": "execute_result"
    }
   ],
   "source": [
    "df.sample(3)"
   ]
  },
  {
   "cell_type": "code",
   "execution_count": 69,
   "metadata": {},
   "outputs": [],
   "source": [
    "x = '@mayoryoung hey man, i had fun being on your s...'"
   ]
  },
  {
   "cell_type": "code",
   "execution_count": 70,
   "metadata": {},
   "outputs": [
    {
     "data": {
      "text/plain": [
       "'mayoryoung hey man i had fun being on your s'"
      ]
     },
     "execution_count": 70,
     "metadata": {},
     "output_type": "execute_result"
    }
   ],
   "source": [
    "re.sub(r'[^\\w ]+', '',x)"
   ]
  },
  {
   "cell_type": "code",
   "execution_count": 71,
   "metadata": {},
   "outputs": [],
   "source": [
    "df['twitts'] = df['twitts'].apply(lambda x : re.sub(r'[^\\w ]+', '',x))"
   ]
  },
  {
   "cell_type": "markdown",
   "metadata": {},
   "source": [
    "### Remove Multiple Spaces\n"
   ]
  },
  {
   "cell_type": "code",
   "execution_count": 72,
   "metadata": {},
   "outputs": [],
   "source": [
    "x = ' hi      how have you been'"
   ]
  },
  {
   "cell_type": "code",
   "execution_count": 73,
   "metadata": {},
   "outputs": [
    {
     "data": {
      "text/plain": [
       "'hi how have you been'"
      ]
     },
     "execution_count": 73,
     "metadata": {},
     "output_type": "execute_result"
    }
   ],
   "source": [
    "' '.join(x.split())"
   ]
  },
  {
   "cell_type": "code",
   "execution_count": 74,
   "metadata": {},
   "outputs": [],
   "source": [
    "df['twitts'] = df['twitts'].apply(lambda x : ' '.join(x.split()))"
   ]
  },
  {
   "cell_type": "markdown",
   "metadata": {},
   "source": [
    "### Remove HTML tags"
   ]
  },
  {
   "cell_type": "code",
   "execution_count": 75,
   "metadata": {},
   "outputs": [
    {
     "name": "stdout",
     "output_type": "stream",
     "text": [
      "Requirement already satisfied: beautifulsoup4 in c:\\users\\user\\miniconda3\\lib\\site-packages (4.12.2)\n",
      "Requirement already satisfied: soupsieve>1.2 in c:\\users\\user\\miniconda3\\lib\\site-packages (from beautifulsoup4) (2.5)\n"
     ]
    }
   ],
   "source": [
    "!pip install beautifulsoup4"
   ]
  },
  {
   "cell_type": "code",
   "execution_count": 76,
   "metadata": {},
   "outputs": [],
   "source": [
    "from bs4 import BeautifulSoup"
   ]
  },
  {
   "cell_type": "code",
   "execution_count": 83,
   "metadata": {},
   "outputs": [],
   "source": [
    "x = '<html><h1> thanks for watching </h1><html>'"
   ]
  },
  {
   "cell_type": "code",
   "execution_count": 78,
   "metadata": {},
   "outputs": [],
   "source": [
    "# normal method\n",
    "\n",
    "# x.replace('<html><h1>', '').replace('</h1>/<html', '')"
   ]
  },
  {
   "cell_type": "code",
   "execution_count": null,
   "metadata": {},
   "outputs": [],
   "source": [
    "pip install lxml"
   ]
  },
  {
   "cell_type": "code",
   "execution_count": 84,
   "metadata": {},
   "outputs": [
    {
     "data": {
      "text/plain": [
       "'thanks for watching'"
      ]
     },
     "execution_count": 84,
     "metadata": {},
     "output_type": "execute_result"
    }
   ],
   "source": [
    "BeautifulSoup(x, 'lxml').get_text().strip()"
   ]
  },
  {
   "cell_type": "code",
   "execution_count": 85,
   "metadata": {},
   "outputs": [
    {
     "name": "stdout",
     "output_type": "stream",
     "text": [
      "CPU times: total: 250 ms\n",
      "Wall time: 977 ms\n"
     ]
    }
   ],
   "source": [
    "%%time\n",
    "df['twitts'] = df['twitts'].apply(lambda x : BeautifulSoup(x, 'lxml').get_text().strip())"
   ]
  },
  {
   "cell_type": "markdown",
   "metadata": {},
   "source": [
    "### Remove Accented Chars"
   ]
  },
  {
   "cell_type": "code",
   "execution_count": 86,
   "metadata": {},
   "outputs": [],
   "source": [
    "x = 'áccénted ímprÓper Úndérstándíng Ñoñe'"
   ]
  },
  {
   "cell_type": "code",
   "execution_count": 87,
   "metadata": {},
   "outputs": [],
   "source": [
    "import unicodedata"
   ]
  },
  {
   "cell_type": "code",
   "execution_count": 88,
   "metadata": {},
   "outputs": [],
   "source": [
    "def remove_accented_char(x):\n",
    "    x = unicodedata.normalize('NFKD', x).encode('ascii', 'ignore').decode('utf-8', 'ignore')\n",
    "    return x"
   ]
  },
  {
   "cell_type": "code",
   "execution_count": 89,
   "metadata": {},
   "outputs": [
    {
     "data": {
      "text/plain": [
       "'accented imprOper Understanding None'"
      ]
     },
     "execution_count": 89,
     "metadata": {},
     "output_type": "execute_result"
    }
   ],
   "source": [
    "remove_accented_char(x)"
   ]
  },
  {
   "cell_type": "code",
   "execution_count": 90,
   "metadata": {},
   "outputs": [],
   "source": [
    "df['twitts'] = df['twitts'].apply(lambda x: remove_accented_char(x) )"
   ]
  },
  {
   "cell_type": "markdown",
   "metadata": {},
   "source": [
    "### Remove Stop Words"
   ]
  },
  {
   "cell_type": "code",
   "execution_count": 93,
   "metadata": {},
   "outputs": [],
   "source": [
    "x = 'this is a stop word'"
   ]
  },
  {
   "cell_type": "code",
   "execution_count": 92,
   "metadata": {},
   "outputs": [
    {
     "data": {
      "text/plain": [
       "'stop word'"
      ]
     },
     "execution_count": 92,
     "metadata": {},
     "output_type": "execute_result"
    }
   ],
   "source": [
    "' '.join([t for t in x.split() if t not in stopwords])"
   ]
  },
  {
   "cell_type": "code",
   "execution_count": 94,
   "metadata": {},
   "outputs": [],
   "source": [
    "df['twitts_no_stop'] = df['twitts'].apply(lambda x : ' '.join([t for t in x.split() if t not in stopwords]))"
   ]
  },
  {
   "cell_type": "code",
   "execution_count": 95,
   "metadata": {},
   "outputs": [
    {
     "data": {
      "text/html": [
       "<div>\n",
       "<style scoped>\n",
       "    .dataframe tbody tr th:only-of-type {\n",
       "        vertical-align: middle;\n",
       "    }\n",
       "\n",
       "    .dataframe tbody tr th {\n",
       "        vertical-align: top;\n",
       "    }\n",
       "\n",
       "    .dataframe thead th {\n",
       "        text-align: right;\n",
       "    }\n",
       "</style>\n",
       "<table border=\"1\" class=\"dataframe\">\n",
       "  <thead>\n",
       "    <tr style=\"text-align: right;\">\n",
       "      <th></th>\n",
       "      <th>twitts</th>\n",
       "      <th>sentiment</th>\n",
       "      <th>word_counts</th>\n",
       "      <th>char_counts</th>\n",
       "      <th>avg_word_len</th>\n",
       "      <th>stop_words_len</th>\n",
       "      <th>hashtags_count</th>\n",
       "      <th>mentions_count</th>\n",
       "      <th>numeric_count</th>\n",
       "      <th>upper_count</th>\n",
       "      <th>emails</th>\n",
       "      <th>emails_count</th>\n",
       "      <th>url_flags</th>\n",
       "      <th>twitts_no_stop</th>\n",
       "    </tr>\n",
       "  </thead>\n",
       "  <tbody>\n",
       "    <tr>\n",
       "      <th>260</th>\n",
       "      <td>is it sad that i am totally bummed out that qu...</td>\n",
       "      <td>0</td>\n",
       "      <td>23</td>\n",
       "      <td>90</td>\n",
       "      <td>3.913043</td>\n",
       "      <td>15</td>\n",
       "      <td>0</td>\n",
       "      <td>0</td>\n",
       "      <td>0</td>\n",
       "      <td>0</td>\n",
       "      <td>[]</td>\n",
       "      <td>0</td>\n",
       "      <td>0</td>\n",
       "      <td>sad totally bummed quotmediumquot moving cbs s...</td>\n",
       "    </tr>\n",
       "    <tr>\n",
       "      <th>2623</th>\n",
       "      <td>raquelm2 okay great i cannot wait i am really ...</td>\n",
       "      <td>1</td>\n",
       "      <td>25</td>\n",
       "      <td>112</td>\n",
       "      <td>4.480000</td>\n",
       "      <td>9</td>\n",
       "      <td>0</td>\n",
       "      <td>2</td>\n",
       "      <td>1</td>\n",
       "      <td>0</td>\n",
       "      <td>[]</td>\n",
       "      <td>0</td>\n",
       "      <td>0</td>\n",
       "      <td>raquelm2 okay great wait looking forward disne...</td>\n",
       "    </tr>\n",
       "    <tr>\n",
       "      <th>1019</th>\n",
       "      <td>i lost 2 followerswhat did i do wrong</td>\n",
       "      <td>0</td>\n",
       "      <td>8</td>\n",
       "      <td>35</td>\n",
       "      <td>4.375000</td>\n",
       "      <td>4</td>\n",
       "      <td>0</td>\n",
       "      <td>0</td>\n",
       "      <td>1</td>\n",
       "      <td>0</td>\n",
       "      <td>[]</td>\n",
       "      <td>0</td>\n",
       "      <td>0</td>\n",
       "      <td>lost 2 followerswhat wrong</td>\n",
       "    </tr>\n",
       "    <tr>\n",
       "      <th>1755</th>\n",
       "      <td>i miss him argh</td>\n",
       "      <td>0</td>\n",
       "      <td>4</td>\n",
       "      <td>12</td>\n",
       "      <td>3.000000</td>\n",
       "      <td>1</td>\n",
       "      <td>0</td>\n",
       "      <td>0</td>\n",
       "      <td>0</td>\n",
       "      <td>2</td>\n",
       "      <td>[]</td>\n",
       "      <td>0</td>\n",
       "      <td>0</td>\n",
       "      <td>miss argh</td>\n",
       "    </tr>\n",
       "    <tr>\n",
       "      <th>3764</th>\n",
       "      <td>on vacation on the flight to india</td>\n",
       "      <td>1</td>\n",
       "      <td>7</td>\n",
       "      <td>40</td>\n",
       "      <td>5.714286</td>\n",
       "      <td>2</td>\n",
       "      <td>0</td>\n",
       "      <td>0</td>\n",
       "      <td>0</td>\n",
       "      <td>0</td>\n",
       "      <td>[]</td>\n",
       "      <td>0</td>\n",
       "      <td>0</td>\n",
       "      <td>vacation flight india</td>\n",
       "    </tr>\n",
       "  </tbody>\n",
       "</table>\n",
       "</div>"
      ],
      "text/plain": [
       "                                                 twitts  sentiment  \\\n",
       "260   is it sad that i am totally bummed out that qu...          0   \n",
       "2623  raquelm2 okay great i cannot wait i am really ...          1   \n",
       "1019              i lost 2 followerswhat did i do wrong          0   \n",
       "1755                                    i miss him argh          0   \n",
       "3764                 on vacation on the flight to india          1   \n",
       "\n",
       "      word_counts  char_counts  avg_word_len  stop_words_len  hashtags_count  \\\n",
       "260            23           90      3.913043              15               0   \n",
       "2623           25          112      4.480000               9               0   \n",
       "1019            8           35      4.375000               4               0   \n",
       "1755            4           12      3.000000               1               0   \n",
       "3764            7           40      5.714286               2               0   \n",
       "\n",
       "      mentions_count  numeric_count  upper_count emails  emails_count  \\\n",
       "260                0              0            0     []             0   \n",
       "2623               2              1            0     []             0   \n",
       "1019               0              1            0     []             0   \n",
       "1755               0              0            2     []             0   \n",
       "3764               0              0            0     []             0   \n",
       "\n",
       "      url_flags                                     twitts_no_stop  \n",
       "260           0  sad totally bummed quotmediumquot moving cbs s...  \n",
       "2623          0  raquelm2 okay great wait looking forward disne...  \n",
       "1019          0                         lost 2 followerswhat wrong  \n",
       "1755          0                                          miss argh  \n",
       "3764          0                              vacation flight india  "
      ]
     },
     "execution_count": 95,
     "metadata": {},
     "output_type": "execute_result"
    }
   ],
   "source": [
    "df.sample(5)"
   ]
  },
  {
   "cell_type": "markdown",
   "metadata": {},
   "source": [
    "### Convert Word into its Root Base or Form(Lemmatization)"
   ]
  },
  {
   "cell_type": "code",
   "execution_count": null,
   "metadata": {},
   "outputs": [],
   "source": [
    "!python -m spacy download en_core_web_sm"
   ]
  },
  {
   "cell_type": "code",
   "execution_count": 100,
   "metadata": {},
   "outputs": [],
   "source": [
    "nlp = spacy.load('en_core_web_sm')"
   ]
  },
  {
   "cell_type": "code",
   "execution_count": 102,
   "metadata": {},
   "outputs": [],
   "source": [
    "x = 'I am looking out of the window in memory of the times when we bought chocolates for fun'"
   ]
  },
  {
   "cell_type": "code",
   "execution_count": 105,
   "metadata": {},
   "outputs": [],
   "source": [
    "def convert_to_base(x):\n",
    "    x = str(x)\n",
    "    x_list = []\n",
    "    doc = nlp(x)\n",
    "\n",
    "    for token in doc:\n",
    "        lemma = token.lemma_\n",
    "        if lemma == '-PRON-' or lemma =='be':\n",
    "            lemma = token.text\n",
    "\n",
    "        x_list.append(lemma)\n",
    "    return ' '.join(x_list)"
   ]
  },
  {
   "cell_type": "code",
   "execution_count": 106,
   "metadata": {},
   "outputs": [
    {
     "data": {
      "text/plain": [
       "'I am look out of the window in memory of the time when we buy chocolate for fun'"
      ]
     },
     "execution_count": 106,
     "metadata": {},
     "output_type": "execute_result"
    }
   ],
   "source": [
    "convert_to_base(x)"
   ]
  },
  {
   "cell_type": "code",
   "execution_count": 107,
   "metadata": {},
   "outputs": [],
   "source": [
    "df['twitts'] = df['twitts'].apply(lambda x : convert_to_base(x) )"
   ]
  },
  {
   "cell_type": "markdown",
   "metadata": {},
   "source": [
    "### Common Words Removal( Most Frequent Words)"
   ]
  },
  {
   "cell_type": "code",
   "execution_count": 108,
   "metadata": {},
   "outputs": [],
   "source": [
    "x = 'this is okay this bye'"
   ]
  },
  {
   "cell_type": "code",
   "execution_count": 110,
   "metadata": {},
   "outputs": [],
   "source": [
    "# join the series\n",
    "\n",
    "text = ' '.join(df['twitts'])"
   ]
  },
  {
   "cell_type": "code",
   "execution_count": 111,
   "metadata": {},
   "outputs": [
    {
     "data": {
      "text/plain": [
       "274181"
      ]
     },
     "execution_count": 111,
     "metadata": {},
     "output_type": "execute_result"
    }
   ],
   "source": [
    "len(text)"
   ]
  },
  {
   "cell_type": "code",
   "execution_count": 112,
   "metadata": {},
   "outputs": [],
   "source": [
    "# get the number of words\n",
    "text = text.split()"
   ]
  },
  {
   "cell_type": "code",
   "execution_count": 113,
   "metadata": {},
   "outputs": [
    {
     "data": {
      "text/plain": [
       "54474"
      ]
     },
     "execution_count": 113,
     "metadata": {},
     "output_type": "execute_result"
    }
   ],
   "source": [
    "len(text)"
   ]
  },
  {
   "cell_type": "code",
   "execution_count": 116,
   "metadata": {},
   "outputs": [],
   "source": [
    "# convert text datato Pandas Series\n",
    "freq_words = pd.Series(text).value_counts()"
   ]
  },
  {
   "cell_type": "code",
   "execution_count": 117,
   "metadata": {},
   "outputs": [
    {
     "data": {
      "text/plain": [
       "I       2969\n",
       "to      1513\n",
       "the     1316\n",
       "is       963\n",
       "a        957\n",
       "you      950\n",
       "not      907\n",
       "my       825\n",
       "it       737\n",
       "and      709\n",
       "have     691\n",
       "do       621\n",
       "am       608\n",
       "in       571\n",
       "for      521\n",
       "of       495\n",
       "go       472\n",
       "that     458\n",
       "get      451\n",
       "on       427\n",
       "Name: count, dtype: int64"
      ]
     },
     "execution_count": 117,
     "metadata": {},
     "output_type": "execute_result"
    }
   ],
   "source": [
    "# get the top 20 most frequently occuring words\n",
    "top20 = freq_words[:20]\n",
    "top20"
   ]
  },
  {
   "cell_type": "code",
   "execution_count": 120,
   "metadata": {},
   "outputs": [],
   "source": [
    "# remove the top20 words\n",
    "\n",
    "df['twitts'] = df['twitts'].apply(lambda x : ' '.join([t for t in x.split() if t not in top20]))"
   ]
  },
  {
   "cell_type": "code",
   "execution_count": 121,
   "metadata": {},
   "outputs": [
    {
     "data": {
      "text/html": [
       "<div>\n",
       "<style scoped>\n",
       "    .dataframe tbody tr th:only-of-type {\n",
       "        vertical-align: middle;\n",
       "    }\n",
       "\n",
       "    .dataframe tbody tr th {\n",
       "        vertical-align: top;\n",
       "    }\n",
       "\n",
       "    .dataframe thead th {\n",
       "        text-align: right;\n",
       "    }\n",
       "</style>\n",
       "<table border=\"1\" class=\"dataframe\">\n",
       "  <thead>\n",
       "    <tr style=\"text-align: right;\">\n",
       "      <th></th>\n",
       "      <th>twitts</th>\n",
       "      <th>sentiment</th>\n",
       "      <th>word_counts</th>\n",
       "      <th>char_counts</th>\n",
       "      <th>avg_word_len</th>\n",
       "      <th>stop_words_len</th>\n",
       "      <th>hashtags_count</th>\n",
       "      <th>mentions_count</th>\n",
       "      <th>numeric_count</th>\n",
       "      <th>upper_count</th>\n",
       "      <th>emails</th>\n",
       "      <th>emails_count</th>\n",
       "      <th>url_flags</th>\n",
       "      <th>twitts_no_stop</th>\n",
       "    </tr>\n",
       "  </thead>\n",
       "  <tbody>\n",
       "    <tr>\n",
       "      <th>2866</th>\n",
       "      <td>andreaj27 course we will what friend</td>\n",
       "      <td>1</td>\n",
       "      <td>9</td>\n",
       "      <td>47</td>\n",
       "      <td>5.222222</td>\n",
       "      <td>3</td>\n",
       "      <td>0</td>\n",
       "      <td>1</td>\n",
       "      <td>0</td>\n",
       "      <td>0</td>\n",
       "      <td>[]</td>\n",
       "      <td>0</td>\n",
       "      <td>0</td>\n",
       "      <td>andreaj27 course friends</td>\n",
       "    </tr>\n",
       "    <tr>\n",
       "      <th>2076</th>\n",
       "      <td>86 degree at 9pmi too love california d</td>\n",
       "      <td>1</td>\n",
       "      <td>8</td>\n",
       "      <td>41</td>\n",
       "      <td>5.125000</td>\n",
       "      <td>2</td>\n",
       "      <td>0</td>\n",
       "      <td>0</td>\n",
       "      <td>1</td>\n",
       "      <td>1</td>\n",
       "      <td>[]</td>\n",
       "      <td>0</td>\n",
       "      <td>0</td>\n",
       "      <td>86 degrees 9pmi love california d</td>\n",
       "    </tr>\n",
       "    <tr>\n",
       "      <th>537</th>\n",
       "      <td>krrptd1 yeah but feel like share no one else a...</td>\n",
       "      <td>0</td>\n",
       "      <td>19</td>\n",
       "      <td>80</td>\n",
       "      <td>4.210526</td>\n",
       "      <td>9</td>\n",
       "      <td>0</td>\n",
       "      <td>2</td>\n",
       "      <td>0</td>\n",
       "      <td>1</td>\n",
       "      <td>[]</td>\n",
       "      <td>0</td>\n",
       "      <td>0</td>\n",
       "      <td>krrptd1 yeah felt like sharing ahem crucifixxu...</td>\n",
       "    </tr>\n",
       "    <tr>\n",
       "      <th>3762</th>\n",
       "      <td>esmeeworld how small by way thank ticket was t...</td>\n",
       "      <td>1</td>\n",
       "      <td>21</td>\n",
       "      <td>82</td>\n",
       "      <td>3.904762</td>\n",
       "      <td>8</td>\n",
       "      <td>0</td>\n",
       "      <td>1</td>\n",
       "      <td>0</td>\n",
       "      <td>1</td>\n",
       "      <td>[]</td>\n",
       "      <td>0</td>\n",
       "      <td>0</td>\n",
       "      <td>esmeeworld small way thanks tickets friend jonas</td>\n",
       "    </tr>\n",
       "    <tr>\n",
       "      <th>1409</th>\n",
       "      <td>want life work massage but can due slip disc b...</td>\n",
       "      <td>0</td>\n",
       "      <td>23</td>\n",
       "      <td>111</td>\n",
       "      <td>4.826087</td>\n",
       "      <td>9</td>\n",
       "      <td>0</td>\n",
       "      <td>0</td>\n",
       "      <td>0</td>\n",
       "      <td>1</td>\n",
       "      <td>[]</td>\n",
       "      <td>0</td>\n",
       "      <td>0</td>\n",
       "      <td>wanting lifes work massage slipped disc baseme...</td>\n",
       "    </tr>\n",
       "  </tbody>\n",
       "</table>\n",
       "</div>"
      ],
      "text/plain": [
       "                                                 twitts  sentiment  \\\n",
       "2866               andreaj27 course we will what friend          1   \n",
       "2076            86 degree at 9pmi too love california d          1   \n",
       "537   krrptd1 yeah but feel like share no one else a...          0   \n",
       "3762  esmeeworld how small by way thank ticket was t...          1   \n",
       "1409  want life work massage but can due slip disc b...          0   \n",
       "\n",
       "      word_counts  char_counts  avg_word_len  stop_words_len  hashtags_count  \\\n",
       "2866            9           47      5.222222               3               0   \n",
       "2076            8           41      5.125000               2               0   \n",
       "537            19           80      4.210526               9               0   \n",
       "3762           21           82      3.904762               8               0   \n",
       "1409           23          111      4.826087               9               0   \n",
       "\n",
       "      mentions_count  numeric_count  upper_count emails  emails_count  \\\n",
       "2866               1              0            0     []             0   \n",
       "2076               0              1            1     []             0   \n",
       "537                2              0            1     []             0   \n",
       "3762               1              0            1     []             0   \n",
       "1409               0              0            1     []             0   \n",
       "\n",
       "      url_flags                                     twitts_no_stop  \n",
       "2866          0                           andreaj27 course friends  \n",
       "2076          0                  86 degrees 9pmi love california d  \n",
       "537           0  krrptd1 yeah felt like sharing ahem crucifixxu...  \n",
       "3762          0   esmeeworld small way thanks tickets friend jonas  \n",
       "1409          0  wanting lifes work massage slipped disc baseme...  "
      ]
     },
     "execution_count": 121,
     "metadata": {},
     "output_type": "execute_result"
    }
   ],
   "source": [
    "df.sample(5)"
   ]
  },
  {
   "cell_type": "markdown",
   "metadata": {},
   "source": [
    "### Rare Words Removal"
   ]
  },
  {
   "cell_type": "code",
   "execution_count": 123,
   "metadata": {},
   "outputs": [],
   "source": [
    "# the least occuring words\n",
    "rare20 = freq_words.tail(20)"
   ]
  },
  {
   "cell_type": "code",
   "execution_count": 124,
   "metadata": {},
   "outputs": [],
   "source": [
    "df['twitts'] = df['twitts'].apply(lambda x : ' '.join([t for t in x.split() if t not in rare20]))"
   ]
  },
  {
   "cell_type": "markdown",
   "metadata": {},
   "source": [
    "### Word Cloud Visualization"
   ]
  },
  {
   "cell_type": "code",
   "execution_count": null,
   "metadata": {},
   "outputs": [],
   "source": [
    "!pip install wordcloud"
   ]
  },
  {
   "cell_type": "code",
   "execution_count": 81,
   "metadata": {},
   "outputs": [
    {
     "data": {
      "text/plain": [
       "'\\ndef cont_to_exp(x):\\n    if type(x) is str:\\n        for key in custom_contractions:\\n            value = custom_contractions[key]\\n            x = x.replace(key, value)\\n        return x\\n    else:\\n        return x\\n'"
      ]
     },
     "execution_count": 81,
     "metadata": {},
     "output_type": "execute_result"
    }
   ],
   "source": [
    "\"\"\"\n",
    "def cont_to_exp(x):\n",
    "    if type(x) is str:\n",
    "        for key in custom_contractions:\n",
    "            value = custom_contractions[key]\n",
    "            x = x.replace(key, value)\n",
    "        return x\n",
    "    else:\n",
    "        return x\n",
    "\"\"\""
   ]
  },
  {
   "cell_type": "code",
   "execution_count": 82,
   "metadata": {},
   "outputs": [
    {
     "data": {
      "text/plain": [
       "'\\ndef preprocess_with_custom_dict(text, custom_dict):\\n    for key, value in custom_dict.items():\\n        text = text.replace(key, f\"{value}_TOKEN\")\\n    return text\\n\\ndef postprocess_with_custom_dict(text, custom_dict):\\n    for key, value in custom_dict.items():\\n        text = text.replace(f\"{value}_TOKEN\", value)\\n    return text\\n\\nx = \"y\\'all know I wouldn\\'t forget ur birthday y\\'know\"\\n\\n# Preprocess: Replace custom contractions with special tokens\\nx_preprocessed = preprocess_with_custom_dict(x, custom_contractions)\\n\\n# Use contractions library\\nx_expanded = contractions.fix(x_preprocessed)\\n\\n# Postprocess: Replace special tokens with expanded forms\\nresult = postprocess_with_custom_dict(x_expanded, custom_contractions)\\n\\nprint(result)\\n'"
      ]
     },
     "execution_count": 82,
     "metadata": {},
     "output_type": "execute_result"
    }
   ],
   "source": [
    "\"\"\"\n",
    "def preprocess_with_custom_dict(text, custom_dict):\n",
    "    for key, value in custom_dict.items():\n",
    "        text = text.replace(key, f\"{value}_TOKEN\")\n",
    "    return text\n",
    "\n",
    "def postprocess_with_custom_dict(text, custom_dict):\n",
    "    for key, value in custom_dict.items():\n",
    "        text = text.replace(f\"{value}_TOKEN\", value)\n",
    "    return text\n",
    "\n",
    "x = \"y'all know I wouldn't forget ur birthday y'know\"\n",
    "\n",
    "# Preprocess: Replace custom contractions with special tokens\n",
    "x_preprocessed = preprocess_with_custom_dict(x, custom_contractions)\n",
    "\n",
    "# Use contractions library\n",
    "x_expanded = contractions.fix(x_preprocessed)\n",
    "\n",
    "# Postprocess: Replace special tokens with expanded forms\n",
    "result = postprocess_with_custom_dict(x_expanded, custom_contractions)\n",
    "\n",
    "print(result)\n",
    "\"\"\""
   ]
  }
 ],
 "metadata": {
  "kernelspec": {
   "display_name": "base",
   "language": "python",
   "name": "python3"
  },
  "language_info": {
   "codemirror_mode": {
    "name": "ipython",
    "version": 3
   },
   "file_extension": ".py",
   "mimetype": "text/x-python",
   "name": "python",
   "nbconvert_exporter": "python",
   "pygments_lexer": "ipython3",
   "version": "3.11.4"
  }
 },
 "nbformat": 4,
 "nbformat_minor": 2
}
